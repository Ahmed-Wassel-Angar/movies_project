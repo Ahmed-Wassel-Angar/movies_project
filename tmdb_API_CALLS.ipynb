{
 "cells": [
  {
   "cell_type": "code",
   "execution_count": 1,
   "id": "f24830e4-e5d6-44e7-90c0-77030eef3807",
   "metadata": {},
   "outputs": [
    {
     "name": "stdout",
     "output_type": "stream",
     "text": [
      "Requirement already satisfied: requests in c:\\users\\hp\\appdata\\local\\programs\\python\\python312\\lib\\site-packages (2.31.0)\n",
      "Requirement already satisfied: charset-normalizer<4,>=2 in c:\\users\\hp\\appdata\\local\\programs\\python\\python312\\lib\\site-packages (from requests) (3.3.2)\n",
      "Requirement already satisfied: idna<4,>=2.5 in c:\\users\\hp\\appdata\\local\\programs\\python\\python312\\lib\\site-packages (from requests) (3.6)\n",
      "Requirement already satisfied: urllib3<3,>=1.21.1 in c:\\users\\hp\\appdata\\local\\programs\\python\\python312\\lib\\site-packages (from requests) (2.2.0)\n",
      "Requirement already satisfied: certifi>=2017.4.17 in c:\\users\\hp\\appdata\\local\\programs\\python\\python312\\lib\\site-packages (from requests) (2023.11.17)\n",
      "Requirement already satisfied: tmdbsimple in c:\\users\\hp\\appdata\\local\\programs\\python\\python312\\lib\\site-packages (2.9.1)\n",
      "Requirement already satisfied: requests in c:\\users\\hp\\appdata\\local\\programs\\python\\python312\\lib\\site-packages (from tmdbsimple) (2.31.0)\n",
      "Requirement already satisfied: charset-normalizer<4,>=2 in c:\\users\\hp\\appdata\\local\\programs\\python\\python312\\lib\\site-packages (from requests->tmdbsimple) (3.3.2)\n",
      "Requirement already satisfied: idna<4,>=2.5 in c:\\users\\hp\\appdata\\local\\programs\\python\\python312\\lib\\site-packages (from requests->tmdbsimple) (3.6)\n",
      "Requirement already satisfied: urllib3<3,>=1.21.1 in c:\\users\\hp\\appdata\\local\\programs\\python\\python312\\lib\\site-packages (from requests->tmdbsimple) (2.2.0)\n",
      "Requirement already satisfied: certifi>=2017.4.17 in c:\\users\\hp\\appdata\\local\\programs\\python\\python312\\lib\\site-packages (from requests->tmdbsimple) (2023.11.17)\n"
     ]
    }
   ],
   "source": [
    "!pip install requests\n",
    "!pip install tmdbsimple"
   ]
  },
  {
   "cell_type": "code",
   "execution_count": 17,
   "id": "5cc419f2-5b61-4cc8-9c8e-296933555e97",
   "metadata": {},
   "outputs": [],
   "source": [
    "import tmdbsimple as tmdb\n",
    "from tqdm.notebook import tqdm_notebook\n",
    "import os, time, json, requests, glob\n",
    "import numpy as np\n",
    "import pandas as pd\n"
   ]
  },
  {
   "cell_type": "code",
   "execution_count": 3,
   "id": "58849079-0514-41b2-a041-db24443d8ca6",
   "metadata": {},
   "outputs": [
    {
     "data": {
      "text/plain": [
       "['basics.csv',\n",
       " 'final_tmdb_data_2001.csv.gz',\n",
       " 'final_tmdb_data_2001_210.csv.gz',\n",
       " 'movies.csv',\n",
       " 'ratings.csv',\n",
       " 'tmdb_api_results_2001.json',\n",
       " 'tmdb_api_results_2002.json',\n",
       " 'tmdb_api_results_2010.json']"
      ]
     },
     "execution_count": 3,
     "metadata": {},
     "output_type": "execute_result"
    }
   ],
   "source": [
    "# create a folder for saving files (if it doesn't ecist)\n",
    "FOLDER = \"Data/\"\n",
    "os.makedirs(FOLDER, exist_ok=True)\n",
    "os.listdir(FOLDER)"
   ]
  },
  {
   "cell_type": "code",
   "execution_count": 4,
   "id": "4748a08d-0238-4154-86e4-599ccbb65bbd",
   "metadata": {},
   "outputs": [],
   "source": [
    "def write_json(new_data, filename):\n",
    "    \"\"\"Appends a list of records (new_data) to a json file (filename).\n",
    "    Adapted from: https://www.geeksforgeeks.org/append-to-json-file-using-python/\"\"\"\n",
    "\n",
    "    with open(filename,'r+') as file:\n",
    "        # First we load existing data into a dict.\n",
    "        file_data = json.load(file)\n",
    "        ## Choose extend or append\n",
    "        if (type(new_data)==list) and (type(file_data == list)):\n",
    "            file_data.extend(new_data)\n",
    "        else:\n",
    "            file_data.append(new_data)\n",
    "        # Set file's current position at offset.\n",
    "        file.seek(0)\n",
    "        # Convert back to json.\n",
    "        json.dump(file_data, file)"
   ]
  },
  {
   "cell_type": "code",
   "execution_count": 5,
   "id": "e00f6769-aefd-40ad-acf3-215d31d83555",
   "metadata": {},
   "outputs": [
    {
     "data": {
      "text/plain": [
       "dict_keys(['api_key', 'api_read_access_token'])"
      ]
     },
     "execution_count": 5,
     "metadata": {},
     "output_type": "execute_result"
    }
   ],
   "source": [
    "#Load API creadentials\n",
    "with open('/Users/HP/.secret/tmdb_api.json') as f:\n",
    "    login = json.load(f)\n",
    "\n",
    "# Display keys of loaded file\n",
    "login.keys()"
   ]
  },
  {
   "cell_type": "code",
   "execution_count": 6,
   "id": "dd326eac-0322-4999-b8d4-c11a16e12015",
   "metadata": {},
   "outputs": [],
   "source": [
    "# Set API_KEY\n",
    "tmdb.API_KEY = login['api_key']"
   ]
  },
  {
   "cell_type": "code",
   "execution_count": 7,
   "id": "6bd8eccb-efc0-45f2-9bee-f41471ce41a1",
   "metadata": {},
   "outputs": [],
   "source": [
    "# Define function to extract info, and add cretification to the info dict else return an error\n",
    "def get_movie_with_rating(movie_id):\n",
    "    # Get the movie object for the current id\n",
    "    movie = tmdb.Movies(movie_id)\n",
    "    \n",
    "    # save the .info .releases dictionaries\n",
    "    movie_info = movie.info()\n",
    "    releases = movie.releases()\n",
    "    \n",
    "    # Loop through countries in releases\n",
    "    for c in releases['countries']:\n",
    "        # if the country abbreviation==US\n",
    "        if c['iso_3166_1' ] =='US':\n",
    "            ## save a \"certification\" key in the info dict with the certification\n",
    "            movie_info['certification'] = c['certification']\n",
    "    return movie_info"
   ]
  },
  {
   "cell_type": "code",
   "execution_count": 8,
   "id": "0aa5891e-b2e6-4589-b82f-545a4562fa07",
   "metadata": {},
   "outputs": [
    {
     "name": "stdout",
     "output_type": "stream",
     "text": [
      "<class 'pandas.core.frame.DataFrame'>\n",
      "RangeIndex: 86979 entries, 0 to 86978\n",
      "Data columns (total 9 columns):\n",
      " #   Column          Non-Null Count  Dtype  \n",
      "---  ------          --------------  -----  \n",
      " 0   tconst          86979 non-null  object \n",
      " 1   titleType       86979 non-null  object \n",
      " 2   primaryTitle    86978 non-null  object \n",
      " 3   originalTitle   86978 non-null  object \n",
      " 4   isAdult         86979 non-null  int64  \n",
      " 5   startYear       86979 non-null  float64\n",
      " 6   endYear         0 non-null      float64\n",
      " 7   runtimeMinutes  86979 non-null  int64  \n",
      " 8   genres          86979 non-null  object \n",
      "dtypes: float64(2), int64(2), object(5)\n",
      "memory usage: 6.0+ MB\n"
     ]
    },
    {
     "data": {
      "text/html": [
       "<div>\n",
       "<style scoped>\n",
       "    .dataframe tbody tr th:only-of-type {\n",
       "        vertical-align: middle;\n",
       "    }\n",
       "\n",
       "    .dataframe tbody tr th {\n",
       "        vertical-align: top;\n",
       "    }\n",
       "\n",
       "    .dataframe thead th {\n",
       "        text-align: right;\n",
       "    }\n",
       "</style>\n",
       "<table border=\"1\" class=\"dataframe\">\n",
       "  <thead>\n",
       "    <tr style=\"text-align: right;\">\n",
       "      <th></th>\n",
       "      <th>tconst</th>\n",
       "      <th>titleType</th>\n",
       "      <th>primaryTitle</th>\n",
       "      <th>originalTitle</th>\n",
       "      <th>isAdult</th>\n",
       "      <th>startYear</th>\n",
       "      <th>endYear</th>\n",
       "      <th>runtimeMinutes</th>\n",
       "      <th>genres</th>\n",
       "    </tr>\n",
       "  </thead>\n",
       "  <tbody>\n",
       "    <tr>\n",
       "      <th>0</th>\n",
       "      <td>tt0035423</td>\n",
       "      <td>movie</td>\n",
       "      <td>Kate &amp; Leopold</td>\n",
       "      <td>Kate &amp; Leopold</td>\n",
       "      <td>0</td>\n",
       "      <td>2001.0</td>\n",
       "      <td>NaN</td>\n",
       "      <td>118</td>\n",
       "      <td>Comedy,Fantasy,Romance</td>\n",
       "    </tr>\n",
       "    <tr>\n",
       "      <th>1</th>\n",
       "      <td>tt0062336</td>\n",
       "      <td>movie</td>\n",
       "      <td>The Tango of the Widower and Its Distorting Mi...</td>\n",
       "      <td>El tango del viudo y su espejo deformante</td>\n",
       "      <td>0</td>\n",
       "      <td>2020.0</td>\n",
       "      <td>NaN</td>\n",
       "      <td>70</td>\n",
       "      <td>Drama</td>\n",
       "    </tr>\n",
       "    <tr>\n",
       "      <th>2</th>\n",
       "      <td>tt0069049</td>\n",
       "      <td>movie</td>\n",
       "      <td>The Other Side of the Wind</td>\n",
       "      <td>The Other Side of the Wind</td>\n",
       "      <td>0</td>\n",
       "      <td>2018.0</td>\n",
       "      <td>NaN</td>\n",
       "      <td>122</td>\n",
       "      <td>Drama</td>\n",
       "    </tr>\n",
       "    <tr>\n",
       "      <th>3</th>\n",
       "      <td>tt0088751</td>\n",
       "      <td>movie</td>\n",
       "      <td>The Naked Monster</td>\n",
       "      <td>The Naked Monster</td>\n",
       "      <td>0</td>\n",
       "      <td>2005.0</td>\n",
       "      <td>NaN</td>\n",
       "      <td>100</td>\n",
       "      <td>Comedy,Horror,Sci-Fi</td>\n",
       "    </tr>\n",
       "    <tr>\n",
       "      <th>4</th>\n",
       "      <td>tt0096056</td>\n",
       "      <td>movie</td>\n",
       "      <td>Crime and Punishment</td>\n",
       "      <td>Crime and Punishment</td>\n",
       "      <td>0</td>\n",
       "      <td>2002.0</td>\n",
       "      <td>NaN</td>\n",
       "      <td>126</td>\n",
       "      <td>Drama</td>\n",
       "    </tr>\n",
       "  </tbody>\n",
       "</table>\n",
       "</div>"
      ],
      "text/plain": [
       "      tconst titleType                                       primaryTitle  \\\n",
       "0  tt0035423     movie                                     Kate & Leopold   \n",
       "1  tt0062336     movie  The Tango of the Widower and Its Distorting Mi...   \n",
       "2  tt0069049     movie                         The Other Side of the Wind   \n",
       "3  tt0088751     movie                                  The Naked Monster   \n",
       "4  tt0096056     movie                               Crime and Punishment   \n",
       "\n",
       "                               originalTitle  isAdult  startYear  endYear  \\\n",
       "0                             Kate & Leopold        0     2001.0      NaN   \n",
       "1  El tango del viudo y su espejo deformante        0     2020.0      NaN   \n",
       "2                 The Other Side of the Wind        0     2018.0      NaN   \n",
       "3                          The Naked Monster        0     2005.0      NaN   \n",
       "4                       Crime and Punishment        0     2002.0      NaN   \n",
       "\n",
       "   runtimeMinutes                  genres  \n",
       "0             118  Comedy,Fantasy,Romance  \n",
       "1              70                   Drama  \n",
       "2             122                   Drama  \n",
       "3             100    Comedy,Horror,Sci-Fi  \n",
       "4             126                   Drama  "
      ]
     },
     "execution_count": 8,
     "metadata": {},
     "output_type": "execute_result"
    }
   ],
   "source": [
    "df_title_basics = pd.read_csv(\"Data/basics.csv\",sep=',',low_memory=False,on_bad_lines='skip',encoding='utf-8')\n",
    "df_title_basics.info()\n",
    "df_title_basics.head()"
   ]
  },
  {
   "cell_type": "code",
   "execution_count": 9,
   "id": "4f6e8034-9356-4e35-a5c1-b233780acb38",
   "metadata": {},
   "outputs": [],
   "source": [
    "YEARS_TO_GET = [2001,2002]\n",
    "errors=[]"
   ]
  },
  {
   "cell_type": "code",
   "execution_count": 10,
   "id": "1457673f-0c93-4740-b93f-9b80c1c21ecc",
   "metadata": {},
   "outputs": [
    {
     "data": {
      "application/vnd.jupyter.widget-view+json": {
       "model_id": "98fb77e4b3ef448cb8ba4f686cd99029",
       "version_major": 2,
       "version_minor": 0
      },
      "text/plain": [
       "YEARS:   0%|          | 0/2 [00:00<?, ?it/s]"
      ]
     },
     "metadata": {},
     "output_type": "display_data"
    },
    {
     "name": "stdout",
     "output_type": "stream",
     "text": [
      "The file Data/tmdb_api_results_2001.json already exists\n",
      "Number of Already Retrieved movie ids relative to year 2001 = 1381\n",
      "Number of Remaining movie ids to GET relative to year 2001 = 210\n"
     ]
    },
    {
     "data": {
      "application/vnd.jupyter.widget-view+json": {
       "model_id": "1118bb2e70f44c37b5dcb2c2d1764dad",
       "version_major": 2,
       "version_minor": 0
      },
      "text/plain": [
       "Movies from 2001:   0%|          | 0/210 [00:00<?, ?it/s]"
      ]
     },
     "metadata": {},
     "output_type": "display_data"
    },
    {
     "name": "stdout",
     "output_type": "stream",
     "text": [
      "- Total errors of 2001: 210\n",
      "The file Data/tmdb_api_results_2002.json already exists\n",
      "Number of Already Retrieved movie ids relative to year 2002 = 1082\n",
      "Number of Remaining movie ids to GET relative to year 2002 = 491\n"
     ]
    },
    {
     "data": {
      "application/vnd.jupyter.widget-view+json": {
       "model_id": "fc83e8c9ecdf4289a9eee4d6c20306b1",
       "version_major": 2,
       "version_minor": 0
      },
      "text/plain": [
       "Movies from 2002:   0%|          | 0/491 [00:00<?, ?it/s]"
      ]
     },
     "metadata": {},
     "output_type": "display_data"
    },
    {
     "name": "stdout",
     "output_type": "stream",
     "text": [
      "- Total errors of 2002: 485\n"
     ]
    }
   ],
   "source": [
    "for YEAR in tqdm_notebook(YEARS_TO_GET, desc='YEARS', position=0):\n",
    "    # Defining the JSON file to store results for year\n",
    "    JSON_FILE = f'{FOLDER}tmdb_api_results_{YEAR}.json'\n",
    "    # check if the file already exists\n",
    "    file_exists = os.path.isfile(JSON_FILE)\n",
    "    # if JSON_FILE does not exist: create it\n",
    "    if file_exists == False:\n",
    "        # Print a message indicating the file is being created\n",
    "        print(f\"Creating {JSON_FILE}) for API results for {YEAR}\")\n",
    "        # save an empty dict with just \"imdb_id\" to the new json file.\n",
    "        with open(JSON_FILE, 'w') as f:\n",
    "            json.dump([{'imdb_id':0}],f)\n",
    "    else:\n",
    "        print(f\"The file {JSON_FILE} already exists\")\n",
    "    # saving new year as current df\n",
    "    df = df_title_basics.loc[df_title_basics['startYear']==YEAR].copy()\n",
    "    # saving movie ids to a seperate variable\n",
    "    movie_ids = df['tconst']\n",
    "    # load existing data from json into dataframe called \"previous_df\"\n",
    "    previous_df = pd.read_json(JSON_FILE)\n",
    "    # filter out any ids that are already in the JSON_FILE\n",
    "    movie_ids_to_get = movie_ids[~movie_ids.isin(previous_df['imdb_id'])]\n",
    "    print(f\"Number of Already Retrieved movie ids relative to year {YEAR} = {len(previous_df)}\")\n",
    "    print(f\"Number of Remaining movie ids to GET relative to year {YEAR} = {len(movie_ids_to_get)}\")\n",
    "    # loop through movie_ids_to_get with a tqdm progress bar\n",
    "    for movie_id in tqdm_notebook(movie_ids_to_get, f\"Movies from {YEAR}\"):\n",
    "        # Get index and movie id from list\n",
    "        try:\n",
    "            temp = get_movie_with_rating(movie_id)\n",
    "            # append/extend results to existing file using the pre-made function\n",
    "            write_json(temp,JSON_FILE)\n",
    "            # Short 20 ms sleep to prevent overwhelming server\n",
    "            time.sleep(0.02)\n",
    "        except Exception as e:\n",
    "            errors.append([movie_id, e, YEAR])\n",
    "    print(f\"- Total errors of {YEAR}: {len(errors)}\")\n",
    "    #Save the year's results as csv.gz file\n",
    "    try:\n",
    "        final_year_df = pd.read_json(JSON_FILE)\n",
    "        final_year_df.to_csv(f\"{FOLDER}final_tmdb_data_{YEAR}_{len(movie_ids_to_get)}.csv.gz\", compression=\"gzip\", index=False)\n",
    "    except:\n",
    "        pass"
   ]
  },
  {
   "cell_type": "code",
   "execution_count": 11,
   "id": "91dccd9e-bbbd-41d7-b1a5-c6160b5738dd",
   "metadata": {},
   "outputs": [
    {
     "data": {
      "text/plain": [
       "['Data\\\\final_tmdb_data_2001.csv.gz',\n",
       " 'Data\\\\final_tmdb_data_2001_210.csv.gz',\n",
       " 'Data\\\\final_tmdb_data_2002_491.csv.gz']"
      ]
     },
     "execution_count": 11,
     "metadata": {},
     "output_type": "execute_result"
    }
   ],
   "source": [
    "# Use glob to get all filepaths that match the pattern (*=wildcard)\n",
    "tmdb_files = sorted(glob.glob(\"Data/final_tmdb_data*.csv.gz\"))\n",
    "tmdb_files\n"
   ]
  },
  {
   "cell_type": "code",
   "execution_count": 12,
   "id": "fd58f3e4-ed43-4ef6-8482-71ff6f80422f",
   "metadata": {},
   "outputs": [
    {
     "data": {
      "text/html": [
       "<div>\n",
       "<style scoped>\n",
       "    .dataframe tbody tr th:only-of-type {\n",
       "        vertical-align: middle;\n",
       "    }\n",
       "\n",
       "    .dataframe tbody tr th {\n",
       "        vertical-align: top;\n",
       "    }\n",
       "\n",
       "    .dataframe thead th {\n",
       "        text-align: right;\n",
       "    }\n",
       "</style>\n",
       "<table border=\"1\" class=\"dataframe\">\n",
       "  <thead>\n",
       "    <tr style=\"text-align: right;\">\n",
       "      <th></th>\n",
       "      <th>imdb_id</th>\n",
       "      <th>adult</th>\n",
       "      <th>backdrop_path</th>\n",
       "      <th>belongs_to_collection</th>\n",
       "      <th>budget</th>\n",
       "      <th>genres</th>\n",
       "      <th>homepage</th>\n",
       "      <th>id</th>\n",
       "      <th>original_language</th>\n",
       "      <th>original_title</th>\n",
       "      <th>...</th>\n",
       "      <th>revenue</th>\n",
       "      <th>runtime</th>\n",
       "      <th>spoken_languages</th>\n",
       "      <th>status</th>\n",
       "      <th>tagline</th>\n",
       "      <th>title</th>\n",
       "      <th>video</th>\n",
       "      <th>vote_average</th>\n",
       "      <th>vote_count</th>\n",
       "      <th>certification</th>\n",
       "    </tr>\n",
       "  </thead>\n",
       "  <tbody>\n",
       "    <tr>\n",
       "      <th>0</th>\n",
       "      <td>0</td>\n",
       "      <td>NaN</td>\n",
       "      <td>NaN</td>\n",
       "      <td>NaN</td>\n",
       "      <td>NaN</td>\n",
       "      <td>NaN</td>\n",
       "      <td>NaN</td>\n",
       "      <td>NaN</td>\n",
       "      <td>NaN</td>\n",
       "      <td>NaN</td>\n",
       "      <td>...</td>\n",
       "      <td>NaN</td>\n",
       "      <td>NaN</td>\n",
       "      <td>NaN</td>\n",
       "      <td>NaN</td>\n",
       "      <td>NaN</td>\n",
       "      <td>NaN</td>\n",
       "      <td>NaN</td>\n",
       "      <td>NaN</td>\n",
       "      <td>NaN</td>\n",
       "      <td>NaN</td>\n",
       "    </tr>\n",
       "    <tr>\n",
       "      <th>1</th>\n",
       "      <td>tt0035423</td>\n",
       "      <td>0.0</td>\n",
       "      <td>/tJLV3BAlHOgscVOrA99Wnb2gAef.jpg</td>\n",
       "      <td>NaN</td>\n",
       "      <td>48000000.0</td>\n",
       "      <td>[{'id': 10749, 'name': 'Romance'}, {'id': 35, ...</td>\n",
       "      <td>NaN</td>\n",
       "      <td>11232.0</td>\n",
       "      <td>en</td>\n",
       "      <td>Kate &amp; Leopold</td>\n",
       "      <td>...</td>\n",
       "      <td>76019048.0</td>\n",
       "      <td>118.0</td>\n",
       "      <td>[{'english_name': 'English', 'iso_639_1': 'en'...</td>\n",
       "      <td>Released</td>\n",
       "      <td>If they lived in the same century, they'd be p...</td>\n",
       "      <td>Kate &amp; Leopold</td>\n",
       "      <td>0.0</td>\n",
       "      <td>6.30</td>\n",
       "      <td>1263.0</td>\n",
       "      <td>PG-13</td>\n",
       "    </tr>\n",
       "    <tr>\n",
       "      <th>2</th>\n",
       "      <td>tt0114447</td>\n",
       "      <td>0.0</td>\n",
       "      <td>NaN</td>\n",
       "      <td>NaN</td>\n",
       "      <td>0.0</td>\n",
       "      <td>[{'id': 53, 'name': 'Thriller'}, {'id': 28, 'n...</td>\n",
       "      <td>NaN</td>\n",
       "      <td>151007.0</td>\n",
       "      <td>en</td>\n",
       "      <td>The Silent Force</td>\n",
       "      <td>...</td>\n",
       "      <td>0.0</td>\n",
       "      <td>90.0</td>\n",
       "      <td>[{'english_name': 'English', 'iso_639_1': 'en'...</td>\n",
       "      <td>Released</td>\n",
       "      <td>They left him for dead... They should have fin...</td>\n",
       "      <td>The Silent Force</td>\n",
       "      <td>0.0</td>\n",
       "      <td>4.75</td>\n",
       "      <td>4.0</td>\n",
       "      <td>NaN</td>\n",
       "    </tr>\n",
       "    <tr>\n",
       "      <th>3</th>\n",
       "      <td>tt0116916</td>\n",
       "      <td>0.0</td>\n",
       "      <td>/rFpHBidSlhjflmnLu7BZilyKeQR.jpg</td>\n",
       "      <td>NaN</td>\n",
       "      <td>0.0</td>\n",
       "      <td>[{'id': 28, 'name': 'Action'}, {'id': 12, 'nam...</td>\n",
       "      <td>NaN</td>\n",
       "      <td>73549.0</td>\n",
       "      <td>en</td>\n",
       "      <td>The Dark Mist</td>\n",
       "      <td>...</td>\n",
       "      <td>0.0</td>\n",
       "      <td>101.0</td>\n",
       "      <td>[{'english_name': 'English', 'iso_639_1': 'en'...</td>\n",
       "      <td>Released</td>\n",
       "      <td>NaN</td>\n",
       "      <td>The Dark Mist</td>\n",
       "      <td>0.0</td>\n",
       "      <td>3.50</td>\n",
       "      <td>2.0</td>\n",
       "      <td>PG</td>\n",
       "    </tr>\n",
       "    <tr>\n",
       "      <th>4</th>\n",
       "      <td>tt0118589</td>\n",
       "      <td>0.0</td>\n",
       "      <td>/qSukSg6JBR3A4iEkRGIfHPC0W5H.jpg</td>\n",
       "      <td>NaN</td>\n",
       "      <td>22000000.0</td>\n",
       "      <td>[{'id': 18, 'name': 'Drama'}, {'id': 10402, 'n...</td>\n",
       "      <td>NaN</td>\n",
       "      <td>10696.0</td>\n",
       "      <td>en</td>\n",
       "      <td>Glitter</td>\n",
       "      <td>...</td>\n",
       "      <td>5271666.0</td>\n",
       "      <td>104.0</td>\n",
       "      <td>[{'english_name': 'English', 'iso_639_1': 'en'...</td>\n",
       "      <td>Released</td>\n",
       "      <td>In music she found her dream, her love, herself.</td>\n",
       "      <td>Glitter</td>\n",
       "      <td>0.0</td>\n",
       "      <td>4.40</td>\n",
       "      <td>133.0</td>\n",
       "      <td>PG-13</td>\n",
       "    </tr>\n",
       "    <tr>\n",
       "      <th>...</th>\n",
       "      <td>...</td>\n",
       "      <td>...</td>\n",
       "      <td>...</td>\n",
       "      <td>...</td>\n",
       "      <td>...</td>\n",
       "      <td>...</td>\n",
       "      <td>...</td>\n",
       "      <td>...</td>\n",
       "      <td>...</td>\n",
       "      <td>...</td>\n",
       "      <td>...</td>\n",
       "      <td>...</td>\n",
       "      <td>...</td>\n",
       "      <td>...</td>\n",
       "      <td>...</td>\n",
       "      <td>...</td>\n",
       "      <td>...</td>\n",
       "      <td>...</td>\n",
       "      <td>...</td>\n",
       "      <td>...</td>\n",
       "      <td>...</td>\n",
       "    </tr>\n",
       "    <tr>\n",
       "      <th>1293</th>\n",
       "      <td>tt6449044</td>\n",
       "      <td>0.0</td>\n",
       "      <td>/a9pkw8stijESGx1flSGPqcXLkHu.jpg</td>\n",
       "      <td>{'id': 957260, 'name': 'The Conman Collection'...</td>\n",
       "      <td>0.0</td>\n",
       "      <td>[{'id': 35, 'name': 'Comedy'}]</td>\n",
       "      <td>NaN</td>\n",
       "      <td>314105.0</td>\n",
       "      <td>cn</td>\n",
       "      <td>賭俠2002</td>\n",
       "      <td>...</td>\n",
       "      <td>0.0</td>\n",
       "      <td>97.0</td>\n",
       "      <td>[{'english_name': 'Cantonese', 'iso_639_1': 'c...</td>\n",
       "      <td>Released</td>\n",
       "      <td>NaN</td>\n",
       "      <td>The Conman 2002</td>\n",
       "      <td>0.0</td>\n",
       "      <td>4.30</td>\n",
       "      <td>3.0</td>\n",
       "      <td>NaN</td>\n",
       "    </tr>\n",
       "    <tr>\n",
       "      <th>1294</th>\n",
       "      <td>tt6694126</td>\n",
       "      <td>0.0</td>\n",
       "      <td>/sXjVpTZyDvwzPVZve3AmyCUBeHk.jpg</td>\n",
       "      <td>NaN</td>\n",
       "      <td>0.0</td>\n",
       "      <td>[{'id': 35, 'name': 'Comedy'}, {'id': 18, 'nam...</td>\n",
       "      <td>NaN</td>\n",
       "      <td>819174.0</td>\n",
       "      <td>fa</td>\n",
       "      <td>عروس خوش‌قدم</td>\n",
       "      <td>...</td>\n",
       "      <td>0.0</td>\n",
       "      <td>101.0</td>\n",
       "      <td>[{'english_name': 'Persian', 'iso_639_1': 'fa'...</td>\n",
       "      <td>Released</td>\n",
       "      <td>NaN</td>\n",
       "      <td>The Lucky Bride</td>\n",
       "      <td>0.0</td>\n",
       "      <td>8.00</td>\n",
       "      <td>1.0</td>\n",
       "      <td>NaN</td>\n",
       "    </tr>\n",
       "    <tr>\n",
       "      <th>1295</th>\n",
       "      <td>tt8302928</td>\n",
       "      <td>0.0</td>\n",
       "      <td>NaN</td>\n",
       "      <td>NaN</td>\n",
       "      <td>0.0</td>\n",
       "      <td>[{'id': 16, 'name': 'Animation'}, {'id': 12, '...</td>\n",
       "      <td>NaN</td>\n",
       "      <td>866533.0</td>\n",
       "      <td>el</td>\n",
       "      <td>Movie Toons: Treasure Island</td>\n",
       "      <td>...</td>\n",
       "      <td>0.0</td>\n",
       "      <td>0.0</td>\n",
       "      <td>[]</td>\n",
       "      <td>Released</td>\n",
       "      <td>NaN</td>\n",
       "      <td>Movie Toons: Treasure Island</td>\n",
       "      <td>0.0</td>\n",
       "      <td>0.00</td>\n",
       "      <td>0.0</td>\n",
       "      <td>NaN</td>\n",
       "    </tr>\n",
       "    <tr>\n",
       "      <th>1296</th>\n",
       "      <td>tt8474326</td>\n",
       "      <td>0.0</td>\n",
       "      <td>NaN</td>\n",
       "      <td>NaN</td>\n",
       "      <td>0.0</td>\n",
       "      <td>[]</td>\n",
       "      <td>NaN</td>\n",
       "      <td>292027.0</td>\n",
       "      <td>en</td>\n",
       "      <td>Skin Eating Jungle Vampires</td>\n",
       "      <td>...</td>\n",
       "      <td>0.0</td>\n",
       "      <td>0.0</td>\n",
       "      <td>[]</td>\n",
       "      <td>Released</td>\n",
       "      <td>NaN</td>\n",
       "      <td>Skin Eating Jungle Vampires</td>\n",
       "      <td>0.0</td>\n",
       "      <td>0.00</td>\n",
       "      <td>0.0</td>\n",
       "      <td>NaN</td>\n",
       "    </tr>\n",
       "    <tr>\n",
       "      <th>1297</th>\n",
       "      <td>tt8825252</td>\n",
       "      <td>0.0</td>\n",
       "      <td>NaN</td>\n",
       "      <td>NaN</td>\n",
       "      <td>0.0</td>\n",
       "      <td>[{'id': 14, 'name': 'Fantasy'}]</td>\n",
       "      <td>NaN</td>\n",
       "      <td>989195.0</td>\n",
       "      <td>en</td>\n",
       "      <td>Circle of Fire: The Dark Lord Kylnor</td>\n",
       "      <td>...</td>\n",
       "      <td>0.0</td>\n",
       "      <td>45.0</td>\n",
       "      <td>[]</td>\n",
       "      <td>Released</td>\n",
       "      <td>NaN</td>\n",
       "      <td>Circle of Fire: The Dark Lord Kylnor</td>\n",
       "      <td>0.0</td>\n",
       "      <td>0.00</td>\n",
       "      <td>0.0</td>\n",
       "      <td>NaN</td>\n",
       "    </tr>\n",
       "  </tbody>\n",
       "</table>\n",
       "<p>4046 rows × 26 columns</p>\n",
       "</div>"
      ],
      "text/plain": [
       "        imdb_id  adult                     backdrop_path  \\\n",
       "0             0    NaN                               NaN   \n",
       "1     tt0035423    0.0  /tJLV3BAlHOgscVOrA99Wnb2gAef.jpg   \n",
       "2     tt0114447    0.0                               NaN   \n",
       "3     tt0116916    0.0  /rFpHBidSlhjflmnLu7BZilyKeQR.jpg   \n",
       "4     tt0118589    0.0  /qSukSg6JBR3A4iEkRGIfHPC0W5H.jpg   \n",
       "...         ...    ...                               ...   \n",
       "1293  tt6449044    0.0  /a9pkw8stijESGx1flSGPqcXLkHu.jpg   \n",
       "1294  tt6694126    0.0  /sXjVpTZyDvwzPVZve3AmyCUBeHk.jpg   \n",
       "1295  tt8302928    0.0                               NaN   \n",
       "1296  tt8474326    0.0                               NaN   \n",
       "1297  tt8825252    0.0                               NaN   \n",
       "\n",
       "                                  belongs_to_collection      budget  \\\n",
       "0                                                   NaN         NaN   \n",
       "1                                                   NaN  48000000.0   \n",
       "2                                                   NaN         0.0   \n",
       "3                                                   NaN         0.0   \n",
       "4                                                   NaN  22000000.0   \n",
       "...                                                 ...         ...   \n",
       "1293  {'id': 957260, 'name': 'The Conman Collection'...         0.0   \n",
       "1294                                                NaN         0.0   \n",
       "1295                                                NaN         0.0   \n",
       "1296                                                NaN         0.0   \n",
       "1297                                                NaN         0.0   \n",
       "\n",
       "                                                 genres homepage        id  \\\n",
       "0                                                   NaN      NaN       NaN   \n",
       "1     [{'id': 10749, 'name': 'Romance'}, {'id': 35, ...      NaN   11232.0   \n",
       "2     [{'id': 53, 'name': 'Thriller'}, {'id': 28, 'n...      NaN  151007.0   \n",
       "3     [{'id': 28, 'name': 'Action'}, {'id': 12, 'nam...      NaN   73549.0   \n",
       "4     [{'id': 18, 'name': 'Drama'}, {'id': 10402, 'n...      NaN   10696.0   \n",
       "...                                                 ...      ...       ...   \n",
       "1293                     [{'id': 35, 'name': 'Comedy'}]      NaN  314105.0   \n",
       "1294  [{'id': 35, 'name': 'Comedy'}, {'id': 18, 'nam...      NaN  819174.0   \n",
       "1295  [{'id': 16, 'name': 'Animation'}, {'id': 12, '...      NaN  866533.0   \n",
       "1296                                                 []      NaN  292027.0   \n",
       "1297                    [{'id': 14, 'name': 'Fantasy'}]      NaN  989195.0   \n",
       "\n",
       "     original_language                        original_title  ...     revenue  \\\n",
       "0                  NaN                                   NaN  ...         NaN   \n",
       "1                   en                        Kate & Leopold  ...  76019048.0   \n",
       "2                   en                      The Silent Force  ...         0.0   \n",
       "3                   en                         The Dark Mist  ...         0.0   \n",
       "4                   en                               Glitter  ...   5271666.0   \n",
       "...                ...                                   ...  ...         ...   \n",
       "1293                cn                                賭俠2002  ...         0.0   \n",
       "1294                fa                          عروس خوش‌قدم  ...         0.0   \n",
       "1295                el          Movie Toons: Treasure Island  ...         0.0   \n",
       "1296                en           Skin Eating Jungle Vampires  ...         0.0   \n",
       "1297                en  Circle of Fire: The Dark Lord Kylnor  ...         0.0   \n",
       "\n",
       "      runtime                                   spoken_languages    status  \\\n",
       "0         NaN                                                NaN       NaN   \n",
       "1       118.0  [{'english_name': 'English', 'iso_639_1': 'en'...  Released   \n",
       "2        90.0  [{'english_name': 'English', 'iso_639_1': 'en'...  Released   \n",
       "3       101.0  [{'english_name': 'English', 'iso_639_1': 'en'...  Released   \n",
       "4       104.0  [{'english_name': 'English', 'iso_639_1': 'en'...  Released   \n",
       "...       ...                                                ...       ...   \n",
       "1293     97.0  [{'english_name': 'Cantonese', 'iso_639_1': 'c...  Released   \n",
       "1294    101.0  [{'english_name': 'Persian', 'iso_639_1': 'fa'...  Released   \n",
       "1295      0.0                                                 []  Released   \n",
       "1296      0.0                                                 []  Released   \n",
       "1297     45.0                                                 []  Released   \n",
       "\n",
       "                                                tagline  \\\n",
       "0                                                   NaN   \n",
       "1     If they lived in the same century, they'd be p...   \n",
       "2     They left him for dead... They should have fin...   \n",
       "3                                                   NaN   \n",
       "4      In music she found her dream, her love, herself.   \n",
       "...                                                 ...   \n",
       "1293                                                NaN   \n",
       "1294                                                NaN   \n",
       "1295                                                NaN   \n",
       "1296                                                NaN   \n",
       "1297                                                NaN   \n",
       "\n",
       "                                     title  video  vote_average vote_count  \\\n",
       "0                                      NaN    NaN           NaN        NaN   \n",
       "1                           Kate & Leopold    0.0          6.30     1263.0   \n",
       "2                         The Silent Force    0.0          4.75        4.0   \n",
       "3                            The Dark Mist    0.0          3.50        2.0   \n",
       "4                                  Glitter    0.0          4.40      133.0   \n",
       "...                                    ...    ...           ...        ...   \n",
       "1293                       The Conman 2002    0.0          4.30        3.0   \n",
       "1294                       The Lucky Bride    0.0          8.00        1.0   \n",
       "1295          Movie Toons: Treasure Island    0.0          0.00        0.0   \n",
       "1296           Skin Eating Jungle Vampires    0.0          0.00        0.0   \n",
       "1297  Circle of Fire: The Dark Lord Kylnor    0.0          0.00        0.0   \n",
       "\n",
       "     certification  \n",
       "0              NaN  \n",
       "1            PG-13  \n",
       "2              NaN  \n",
       "3               PG  \n",
       "4            PG-13  \n",
       "...            ...  \n",
       "1293           NaN  \n",
       "1294           NaN  \n",
       "1295           NaN  \n",
       "1296           NaN  \n",
       "1297           NaN  \n",
       "\n",
       "[4046 rows x 26 columns]"
      ]
     },
     "execution_count": 12,
     "metadata": {},
     "output_type": "execute_result"
    }
   ],
   "source": [
    "# Use read_csv in a list comprehension and combine with concat to load all files\n",
    "df = pd.concat([pd.read_csv(f) for f in tmdb_files] )\n",
    "df\n"
   ]
  },
  {
   "cell_type": "code",
   "execution_count": 14,
   "id": "f9338a49-7a73-456f-8bff-ad68e6a438a1",
   "metadata": {},
   "outputs": [],
   "source": [
    "df.to_csv(\"Data/tmdb_results_combined.csv.gz\",compression=\"gzip\",index=False)"
   ]
  },
  {
   "cell_type": "code",
   "execution_count": null,
   "id": "d47176fe-45e6-4188-8824-78a88c20fd69",
   "metadata": {},
   "outputs": [],
   "source": [
    "\"\"\"\n",
    "\n",
    "# Adding lineterminator arg to get around error\n",
    "df = pd.concat([pd.read_csv(f, lineterminator='\\n') for f in files] )\n"
   ]
  },
  {
   "cell_type": "code",
   "execution_count": 15,
   "id": "814c5e4f-f534-4a73-99ea-c5fce77f6b8c",
   "metadata": {},
   "outputs": [
    {
     "data": {
      "text/plain": [
       "Index(['imdb_id', 'adult', 'backdrop_path', 'belongs_to_collection', 'budget',\n",
       "       'genres', 'homepage', 'id', 'original_language', 'original_title',\n",
       "       'overview', 'popularity', 'poster_path', 'production_companies',\n",
       "       'production_countries', 'release_date', 'revenue', 'runtime',\n",
       "       'spoken_languages', 'status', 'tagline', 'title', 'video',\n",
       "       'vote_average', 'vote_count', 'certification'],\n",
       "      dtype='object')"
      ]
     },
     "execution_count": 15,
     "metadata": {},
     "output_type": "execute_result"
    }
   ],
   "source": [
    "df.columns"
   ]
  },
  {
   "cell_type": "code",
   "execution_count": null,
   "id": "3223af10-13c4-4e83-af26-b38218c01562",
   "metadata": {},
   "outputs": [],
   "source": []
  }
 ],
 "metadata": {
  "kernelspec": {
   "display_name": "Python (dojo-env)",
   "language": "python",
   "name": "dojo-env"
  },
  "language_info": {
   "codemirror_mode": {
    "name": "ipython",
    "version": 3
   },
   "file_extension": ".py",
   "mimetype": "text/x-python",
   "name": "python",
   "nbconvert_exporter": "python",
   "pygments_lexer": "ipython3",
   "version": "3.11.5"
  },
  "widgets": {
   "application/vnd.jupyter.widget-state+json": {
    "state": {
     "0222d6681ba247fd98d65f5c3bc6bcd7": {
      "model_module": "@jupyter-widgets/base",
      "model_module_version": "2.0.0",
      "model_name": "LayoutModel",
      "state": {}
     },
     "1118bb2e70f44c37b5dcb2c2d1764dad": {
      "model_module": "@jupyter-widgets/controls",
      "model_module_version": "2.0.0",
      "model_name": "HBoxModel",
      "state": {
       "children": [
        "IPY_MODEL_b952d5a325484809a39eb030cfd1be59",
        "IPY_MODEL_bef7cb9a47c34529b62dbe5d973a7700",
        "IPY_MODEL_cb405641992941b98c3e5a80ecf97853"
       ],
       "layout": "IPY_MODEL_d1ee334b078642d0bb480c7e9c2364a5"
      }
     },
     "11d41e51e69042a08e0c739ba73e3917": {
      "model_module": "@jupyter-widgets/controls",
      "model_module_version": "2.0.0",
      "model_name": "FloatProgressModel",
      "state": {
       "bar_style": "success",
       "layout": "IPY_MODEL_ee426929b106409080c574504ebc79da",
       "max": 2,
       "style": "IPY_MODEL_e8b64f26686e4c04b6e0316acfe79b0c",
       "value": 2
      }
     },
     "15f62c24e214497daff2e0a5be70da53": {
      "model_module": "@jupyter-widgets/controls",
      "model_module_version": "2.0.0",
      "model_name": "HTMLStyleModel",
      "state": {
       "description_width": "",
       "font_size": null,
       "text_color": null
      }
     },
     "1b43641ac29141778d4af6ad421a09e8": {
      "model_module": "@jupyter-widgets/controls",
      "model_module_version": "2.0.0",
      "model_name": "HTMLStyleModel",
      "state": {
       "description_width": "",
       "font_size": null,
       "text_color": null
      }
     },
     "274e6a3325f443429228ccb61ef298b5": {
      "model_module": "@jupyter-widgets/controls",
      "model_module_version": "2.0.0",
      "model_name": "HTMLStyleModel",
      "state": {
       "description_width": "",
       "font_size": null,
       "text_color": null
      }
     },
     "2f984bad81654ee3b7c2986114e5f36b": {
      "model_module": "@jupyter-widgets/controls",
      "model_module_version": "2.0.0",
      "model_name": "FloatProgressModel",
      "state": {
       "bar_style": "success",
       "layout": "IPY_MODEL_0222d6681ba247fd98d65f5c3bc6bcd7",
       "max": 491,
       "style": "IPY_MODEL_ce94f26431544ca49861305cc5b0b084",
       "value": 491
      }
     },
     "3341c3e7919b4b0a805722a71c349cdb": {
      "model_module": "@jupyter-widgets/base",
      "model_module_version": "2.0.0",
      "model_name": "LayoutModel",
      "state": {}
     },
     "39fe584a9400492b96a747be7f07923e": {
      "model_module": "@jupyter-widgets/base",
      "model_module_version": "2.0.0",
      "model_name": "LayoutModel",
      "state": {}
     },
     "3fe9e6bbf1af46e49af42ad751bbeba9": {
      "model_module": "@jupyter-widgets/controls",
      "model_module_version": "2.0.0",
      "model_name": "HTMLModel",
      "state": {
       "layout": "IPY_MODEL_8d38807ba3254c4aaeb51685c56413ea",
       "style": "IPY_MODEL_1b43641ac29141778d4af6ad421a09e8",
       "value": "Movies from 2002: 100%"
      }
     },
     "4e6c5d15cf20409da4d577e4b4b7eca5": {
      "model_module": "@jupyter-widgets/base",
      "model_module_version": "2.0.0",
      "model_name": "LayoutModel",
      "state": {}
     },
     "5900be6de0d54639b60ceee60ce96523": {
      "model_module": "@jupyter-widgets/controls",
      "model_module_version": "2.0.0",
      "model_name": "HTMLModel",
      "state": {
       "layout": "IPY_MODEL_f458d9c3a3814070af0138dc1adade46",
       "style": "IPY_MODEL_b498bda253774576915688fbee5ccbd4",
       "value": " 491/491 [12:34&lt;00:00,  1.27s/it]"
      }
     },
     "6f2ace83551d44019a35c139e3c60af4": {
      "model_module": "@jupyter-widgets/controls",
      "model_module_version": "2.0.0",
      "model_name": "HTMLModel",
      "state": {
       "layout": "IPY_MODEL_7fb149e0154b4b11bad7e09138219372",
       "style": "IPY_MODEL_9e227b50db7c46eab45f5e57f761a361",
       "value": "YEARS: 100%"
      }
     },
     "7fb149e0154b4b11bad7e09138219372": {
      "model_module": "@jupyter-widgets/base",
      "model_module_version": "2.0.0",
      "model_name": "LayoutModel",
      "state": {}
     },
     "8d38807ba3254c4aaeb51685c56413ea": {
      "model_module": "@jupyter-widgets/base",
      "model_module_version": "2.0.0",
      "model_name": "LayoutModel",
      "state": {}
     },
     "98fb77e4b3ef448cb8ba4f686cd99029": {
      "model_module": "@jupyter-widgets/controls",
      "model_module_version": "2.0.0",
      "model_name": "HBoxModel",
      "state": {
       "children": [
        "IPY_MODEL_6f2ace83551d44019a35c139e3c60af4",
        "IPY_MODEL_11d41e51e69042a08e0c739ba73e3917",
        "IPY_MODEL_e677269e67f5426d82c9542b77ba543c"
       ],
       "layout": "IPY_MODEL_a614fc1b19d24cc2b21c4fd331e3c5f2"
      }
     },
     "9d5c7f5d4a5749a59048a9cff3e7d524": {
      "model_module": "@jupyter-widgets/base",
      "model_module_version": "2.0.0",
      "model_name": "LayoutModel",
      "state": {}
     },
     "9e227b50db7c46eab45f5e57f761a361": {
      "model_module": "@jupyter-widgets/controls",
      "model_module_version": "2.0.0",
      "model_name": "HTMLStyleModel",
      "state": {
       "description_width": "",
       "font_size": null,
       "text_color": null
      }
     },
     "a614fc1b19d24cc2b21c4fd331e3c5f2": {
      "model_module": "@jupyter-widgets/base",
      "model_module_version": "2.0.0",
      "model_name": "LayoutModel",
      "state": {}
     },
     "af1df50ab61146dfa099982eccef3259": {
      "model_module": "@jupyter-widgets/controls",
      "model_module_version": "2.0.0",
      "model_name": "HTMLStyleModel",
      "state": {
       "description_width": "",
       "font_size": null,
       "text_color": null
      }
     },
     "b498bda253774576915688fbee5ccbd4": {
      "model_module": "@jupyter-widgets/controls",
      "model_module_version": "2.0.0",
      "model_name": "HTMLStyleModel",
      "state": {
       "description_width": "",
       "font_size": null,
       "text_color": null
      }
     },
     "b952d5a325484809a39eb030cfd1be59": {
      "model_module": "@jupyter-widgets/controls",
      "model_module_version": "2.0.0",
      "model_name": "HTMLModel",
      "state": {
       "layout": "IPY_MODEL_39fe584a9400492b96a747be7f07923e",
       "style": "IPY_MODEL_af1df50ab61146dfa099982eccef3259",
       "value": "Movies from 2001: 100%"
      }
     },
     "bef7cb9a47c34529b62dbe5d973a7700": {
      "model_module": "@jupyter-widgets/controls",
      "model_module_version": "2.0.0",
      "model_name": "FloatProgressModel",
      "state": {
       "bar_style": "success",
       "layout": "IPY_MODEL_e7ca1a88b0c548369a8cfaf5f95126f3",
       "max": 210,
       "style": "IPY_MODEL_db4d115d6d7b43d8bbd977ddf90a3162",
       "value": 210
      }
     },
     "cb405641992941b98c3e5a80ecf97853": {
      "model_module": "@jupyter-widgets/controls",
      "model_module_version": "2.0.0",
      "model_name": "HTMLModel",
      "state": {
       "layout": "IPY_MODEL_3341c3e7919b4b0a805722a71c349cdb",
       "style": "IPY_MODEL_15f62c24e214497daff2e0a5be70da53",
       "value": " 210/210 [03:09&lt;00:00,  1.11it/s]"
      }
     },
     "ce94f26431544ca49861305cc5b0b084": {
      "model_module": "@jupyter-widgets/controls",
      "model_module_version": "2.0.0",
      "model_name": "ProgressStyleModel",
      "state": {
       "description_width": ""
      }
     },
     "d1ee334b078642d0bb480c7e9c2364a5": {
      "model_module": "@jupyter-widgets/base",
      "model_module_version": "2.0.0",
      "model_name": "LayoutModel",
      "state": {}
     },
     "db4d115d6d7b43d8bbd977ddf90a3162": {
      "model_module": "@jupyter-widgets/controls",
      "model_module_version": "2.0.0",
      "model_name": "ProgressStyleModel",
      "state": {
       "description_width": ""
      }
     },
     "e677269e67f5426d82c9542b77ba543c": {
      "model_module": "@jupyter-widgets/controls",
      "model_module_version": "2.0.0",
      "model_name": "HTMLModel",
      "state": {
       "layout": "IPY_MODEL_9d5c7f5d4a5749a59048a9cff3e7d524",
       "style": "IPY_MODEL_274e6a3325f443429228ccb61ef298b5",
       "value": " 2/2 [15:45&lt;00:00, 522.61s/it]"
      }
     },
     "e7ca1a88b0c548369a8cfaf5f95126f3": {
      "model_module": "@jupyter-widgets/base",
      "model_module_version": "2.0.0",
      "model_name": "LayoutModel",
      "state": {}
     },
     "e8b64f26686e4c04b6e0316acfe79b0c": {
      "model_module": "@jupyter-widgets/controls",
      "model_module_version": "2.0.0",
      "model_name": "ProgressStyleModel",
      "state": {
       "description_width": ""
      }
     },
     "ee426929b106409080c574504ebc79da": {
      "model_module": "@jupyter-widgets/base",
      "model_module_version": "2.0.0",
      "model_name": "LayoutModel",
      "state": {}
     },
     "f458d9c3a3814070af0138dc1adade46": {
      "model_module": "@jupyter-widgets/base",
      "model_module_version": "2.0.0",
      "model_name": "LayoutModel",
      "state": {}
     },
     "fc83e8c9ecdf4289a9eee4d6c20306b1": {
      "model_module": "@jupyter-widgets/controls",
      "model_module_version": "2.0.0",
      "model_name": "HBoxModel",
      "state": {
       "children": [
        "IPY_MODEL_3fe9e6bbf1af46e49af42ad751bbeba9",
        "IPY_MODEL_2f984bad81654ee3b7c2986114e5f36b",
        "IPY_MODEL_5900be6de0d54639b60ceee60ce96523"
       ],
       "layout": "IPY_MODEL_4e6c5d15cf20409da4d577e4b4b7eca5"
      }
     }
    },
    "version_major": 2,
    "version_minor": 0
   }
  }
 },
 "nbformat": 4,
 "nbformat_minor": 5
}
