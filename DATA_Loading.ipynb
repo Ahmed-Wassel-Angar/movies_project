{
 "cells": [
  {
   "cell_type": "code",
   "execution_count": 54,
   "id": "9a73ae84-d440-4433-82b1-f631661cb40e",
   "metadata": {},
   "outputs": [],
   "source": [
    "import os\n",
    "import numpy as np\n",
    "import pandas as pd"
   ]
  },
  {
   "cell_type": "code",
   "execution_count": 55,
   "id": "8eb935aa-a86a-4812-86fe-72ff8ebcf15b",
   "metadata": {},
   "outputs": [],
   "source": [
    "# making a new folder with os\n",
    "# Specify that it is okay if the folder already exists by passing 'exist_ok=True'\n",
    "os.makedirs('DATA/',exist_ok=True)"
   ]
  },
  {
   "cell_type": "code",
   "execution_count": 56,
   "id": "53c529c9-79b4-4b85-b72b-1bd1d5371828",
   "metadata": {},
   "outputs": [
    {
     "data": {
      "text/plain": [
       "['.git',\n",
       " '.gitattributes',\n",
       " '.gitignore',\n",
       " '.ipynb_checkpoints',\n",
       " 'DATA',\n",
       " 'DATA_Loading.ipynb',\n",
       " 'LICENSE',\n",
       " 'Raw_DATA',\n",
       " 'README.md']"
      ]
     },
     "execution_count": 56,
     "metadata": {},
     "output_type": "execute_result"
    }
   ],
   "source": [
    "# Verify folders have benn created\n",
    "os.listdir()"
   ]
  },
  {
   "cell_type": "code",
   "execution_count": 57,
   "id": "e1b249e4-067c-4d71-8c30-9d8a07c63f63",
   "metadata": {},
   "outputs": [
    {
     "name": "stdout",
     "output_type": "stream",
     "text": [
      "<class 'pandas.core.frame.DataFrame'>\n",
      "RangeIndex: 1452564 entries, 0 to 1452563\n",
      "Data columns (total 8 columns):\n",
      " #   Column           Non-Null Count    Dtype \n",
      "---  ------           --------------    ----- \n",
      " 0   titleId          1452564 non-null  object\n",
      " 1   ordering         1452564 non-null  int64 \n",
      " 2   title            1452562 non-null  object\n",
      " 3   region           1452564 non-null  object\n",
      " 4   language         1452564 non-null  object\n",
      " 5   types            1452564 non-null  object\n",
      " 6   attributes       1452564 non-null  object\n",
      " 7   isOriginalTitle  1452564 non-null  object\n",
      "dtypes: int64(1), object(7)\n",
      "memory usage: 88.7+ MB\n"
     ]
    },
    {
     "data": {
      "text/html": [
       "<div>\n",
       "<style scoped>\n",
       "    .dataframe tbody tr th:only-of-type {\n",
       "        vertical-align: middle;\n",
       "    }\n",
       "\n",
       "    .dataframe tbody tr th {\n",
       "        vertical-align: top;\n",
       "    }\n",
       "\n",
       "    .dataframe thead th {\n",
       "        text-align: right;\n",
       "    }\n",
       "</style>\n",
       "<table border=\"1\" class=\"dataframe\">\n",
       "  <thead>\n",
       "    <tr style=\"text-align: right;\">\n",
       "      <th></th>\n",
       "      <th>titleId</th>\n",
       "      <th>ordering</th>\n",
       "      <th>title</th>\n",
       "      <th>region</th>\n",
       "      <th>language</th>\n",
       "      <th>types</th>\n",
       "      <th>attributes</th>\n",
       "      <th>isOriginalTitle</th>\n",
       "    </tr>\n",
       "  </thead>\n",
       "  <tbody>\n",
       "    <tr>\n",
       "      <th>0</th>\n",
       "      <td>tt0000001</td>\n",
       "      <td>6</td>\n",
       "      <td>Carmencita</td>\n",
       "      <td>US</td>\n",
       "      <td>\\N</td>\n",
       "      <td>imdbDisplay</td>\n",
       "      <td>\\N</td>\n",
       "      <td>0</td>\n",
       "    </tr>\n",
       "    <tr>\n",
       "      <th>1</th>\n",
       "      <td>tt0000002</td>\n",
       "      <td>7</td>\n",
       "      <td>The Clown and His Dogs</td>\n",
       "      <td>US</td>\n",
       "      <td>\\N</td>\n",
       "      <td>\\N</td>\n",
       "      <td>literal English title</td>\n",
       "      <td>0</td>\n",
       "    </tr>\n",
       "    <tr>\n",
       "      <th>2</th>\n",
       "      <td>tt0000005</td>\n",
       "      <td>10</td>\n",
       "      <td>Blacksmith Scene</td>\n",
       "      <td>US</td>\n",
       "      <td>\\N</td>\n",
       "      <td>imdbDisplay</td>\n",
       "      <td>\\N</td>\n",
       "      <td>0</td>\n",
       "    </tr>\n",
       "    <tr>\n",
       "      <th>3</th>\n",
       "      <td>tt0000005</td>\n",
       "      <td>1</td>\n",
       "      <td>Blacksmithing Scene</td>\n",
       "      <td>US</td>\n",
       "      <td>\\N</td>\n",
       "      <td>alternative</td>\n",
       "      <td>\\N</td>\n",
       "      <td>0</td>\n",
       "    </tr>\n",
       "    <tr>\n",
       "      <th>4</th>\n",
       "      <td>tt0000005</td>\n",
       "      <td>6</td>\n",
       "      <td>Blacksmith Scene #1</td>\n",
       "      <td>US</td>\n",
       "      <td>\\N</td>\n",
       "      <td>alternative</td>\n",
       "      <td>\\N</td>\n",
       "      <td>0</td>\n",
       "    </tr>\n",
       "  </tbody>\n",
       "</table>\n",
       "</div>"
      ],
      "text/plain": [
       "     titleId  ordering                   title region language        types  \\\n",
       "0  tt0000001         6              Carmencita     US       \\N  imdbDisplay   \n",
       "1  tt0000002         7  The Clown and His Dogs     US       \\N           \\N   \n",
       "2  tt0000005        10        Blacksmith Scene     US       \\N  imdbDisplay   \n",
       "3  tt0000005         1     Blacksmithing Scene     US       \\N  alternative   \n",
       "4  tt0000005         6     Blacksmith Scene #1     US       \\N  alternative   \n",
       "\n",
       "              attributes isOriginalTitle  \n",
       "0                     \\N               0  \n",
       "1  literal English title               0  \n",
       "2                     \\N               0  \n",
       "3                     \\N               0  \n",
       "4                     \\N               0  "
      ]
     },
     "execution_count": 57,
     "metadata": {},
     "output_type": "execute_result"
    }
   ],
   "source": [
    "# Load only US movies\n",
    "movies_us_only = pd.read_csv(\"Raw_DATA/title-akas-us-only.csv\",sep=',',low_memory=False,on_bad_lines='skip',encoding='utf-8')\n",
    "movies_us_only.info()\n",
    "movies_us_only.head()"
   ]
  },
  {
   "cell_type": "code",
   "execution_count": 58,
   "id": "98500a2b-da14-4916-89a7-b7bcd3949d53",
   "metadata": {},
   "outputs": [
    {
     "name": "stdout",
     "output_type": "stream",
     "text": [
      "<class 'pandas.core.frame.DataFrame'>\n",
      "RangeIndex: 1331492 entries, 0 to 1331491\n",
      "Data columns (total 3 columns):\n",
      " #   Column         Non-Null Count    Dtype  \n",
      "---  ------         --------------    -----  \n",
      " 0   tconst         1331492 non-null  object \n",
      " 1   averageRating  1331492 non-null  float64\n",
      " 2   numVotes       1331492 non-null  int64  \n",
      "dtypes: float64(1), int64(1), object(1)\n",
      "memory usage: 30.5+ MB\n"
     ]
    },
    {
     "data": {
      "text/html": [
       "<div>\n",
       "<style scoped>\n",
       "    .dataframe tbody tr th:only-of-type {\n",
       "        vertical-align: middle;\n",
       "    }\n",
       "\n",
       "    .dataframe tbody tr th {\n",
       "        vertical-align: top;\n",
       "    }\n",
       "\n",
       "    .dataframe thead th {\n",
       "        text-align: right;\n",
       "    }\n",
       "</style>\n",
       "<table border=\"1\" class=\"dataframe\">\n",
       "  <thead>\n",
       "    <tr style=\"text-align: right;\">\n",
       "      <th></th>\n",
       "      <th>tconst</th>\n",
       "      <th>averageRating</th>\n",
       "      <th>numVotes</th>\n",
       "    </tr>\n",
       "  </thead>\n",
       "  <tbody>\n",
       "    <tr>\n",
       "      <th>0</th>\n",
       "      <td>tt0000001</td>\n",
       "      <td>5.7</td>\n",
       "      <td>1988</td>\n",
       "    </tr>\n",
       "    <tr>\n",
       "      <th>1</th>\n",
       "      <td>tt0000002</td>\n",
       "      <td>5.8</td>\n",
       "      <td>265</td>\n",
       "    </tr>\n",
       "    <tr>\n",
       "      <th>2</th>\n",
       "      <td>tt0000003</td>\n",
       "      <td>6.5</td>\n",
       "      <td>1849</td>\n",
       "    </tr>\n",
       "    <tr>\n",
       "      <th>3</th>\n",
       "      <td>tt0000004</td>\n",
       "      <td>5.5</td>\n",
       "      <td>178</td>\n",
       "    </tr>\n",
       "    <tr>\n",
       "      <th>4</th>\n",
       "      <td>tt0000005</td>\n",
       "      <td>6.2</td>\n",
       "      <td>2632</td>\n",
       "    </tr>\n",
       "  </tbody>\n",
       "</table>\n",
       "</div>"
      ],
      "text/plain": [
       "      tconst  averageRating  numVotes\n",
       "0  tt0000001            5.7      1988\n",
       "1  tt0000002            5.8       265\n",
       "2  tt0000003            6.5      1849\n",
       "3  tt0000004            5.5       178\n",
       "4  tt0000005            6.2      2632"
      ]
     },
     "execution_count": 58,
     "metadata": {},
     "output_type": "execute_result"
    }
   ],
   "source": [
    "# load ratings\n",
    "movies_ratings = pd.read_csv(\"Raw_DATA/title.ratings.tsv.gz\",sep='\\t',low_memory=False,on_bad_lines='skip',encoding='utf-8')\n",
    "movies_ratings.info()\n",
    "movies_ratings.head()"
   ]
  },
  {
   "cell_type": "code",
   "execution_count": 28,
   "id": "b942bd7a-598a-4325-8df4-2e1551610d03",
   "metadata": {},
   "outputs": [
    {
     "name": "stdout",
     "output_type": "stream",
     "text": [
      "<class 'pandas.core.frame.DataFrame'>\n",
      "RangeIndex: 10017011 entries, 0 to 10017010\n",
      "Data columns (total 9 columns):\n",
      " #   Column          Dtype \n",
      "---  ------          ----- \n",
      " 0   tconst          object\n",
      " 1   titleType       object\n",
      " 2   primaryTitle    object\n",
      " 3   originalTitle   object\n",
      " 4   isAdult         object\n",
      " 5   startYear       object\n",
      " 6   endYear         object\n",
      " 7   runtimeMinutes  object\n",
      " 8   genres          object\n",
      "dtypes: object(9)\n",
      "memory usage: 687.8+ MB\n"
     ]
    },
    {
     "data": {
      "text/html": [
       "<div>\n",
       "<style scoped>\n",
       "    .dataframe tbody tr th:only-of-type {\n",
       "        vertical-align: middle;\n",
       "    }\n",
       "\n",
       "    .dataframe tbody tr th {\n",
       "        vertical-align: top;\n",
       "    }\n",
       "\n",
       "    .dataframe thead th {\n",
       "        text-align: right;\n",
       "    }\n",
       "</style>\n",
       "<table border=\"1\" class=\"dataframe\">\n",
       "  <thead>\n",
       "    <tr style=\"text-align: right;\">\n",
       "      <th></th>\n",
       "      <th>tconst</th>\n",
       "      <th>titleType</th>\n",
       "      <th>primaryTitle</th>\n",
       "      <th>originalTitle</th>\n",
       "      <th>isAdult</th>\n",
       "      <th>startYear</th>\n",
       "      <th>endYear</th>\n",
       "      <th>runtimeMinutes</th>\n",
       "      <th>genres</th>\n",
       "    </tr>\n",
       "  </thead>\n",
       "  <tbody>\n",
       "    <tr>\n",
       "      <th>0</th>\n",
       "      <td>tt0000001</td>\n",
       "      <td>short</td>\n",
       "      <td>Carmencita</td>\n",
       "      <td>Carmencita</td>\n",
       "      <td>0</td>\n",
       "      <td>1894</td>\n",
       "      <td>\\N</td>\n",
       "      <td>1</td>\n",
       "      <td>Documentary,Short</td>\n",
       "    </tr>\n",
       "    <tr>\n",
       "      <th>1</th>\n",
       "      <td>tt0000002</td>\n",
       "      <td>short</td>\n",
       "      <td>Le clown et ses chiens</td>\n",
       "      <td>Le clown et ses chiens</td>\n",
       "      <td>0</td>\n",
       "      <td>1892</td>\n",
       "      <td>\\N</td>\n",
       "      <td>5</td>\n",
       "      <td>Animation,Short</td>\n",
       "    </tr>\n",
       "    <tr>\n",
       "      <th>2</th>\n",
       "      <td>tt0000003</td>\n",
       "      <td>short</td>\n",
       "      <td>Pauvre Pierrot</td>\n",
       "      <td>Pauvre Pierrot</td>\n",
       "      <td>0</td>\n",
       "      <td>1892</td>\n",
       "      <td>\\N</td>\n",
       "      <td>4</td>\n",
       "      <td>Animation,Comedy,Romance</td>\n",
       "    </tr>\n",
       "    <tr>\n",
       "      <th>3</th>\n",
       "      <td>tt0000004</td>\n",
       "      <td>short</td>\n",
       "      <td>Un bon bock</td>\n",
       "      <td>Un bon bock</td>\n",
       "      <td>0</td>\n",
       "      <td>1892</td>\n",
       "      <td>\\N</td>\n",
       "      <td>12</td>\n",
       "      <td>Animation,Short</td>\n",
       "    </tr>\n",
       "    <tr>\n",
       "      <th>4</th>\n",
       "      <td>tt0000005</td>\n",
       "      <td>short</td>\n",
       "      <td>Blacksmith Scene</td>\n",
       "      <td>Blacksmith Scene</td>\n",
       "      <td>0</td>\n",
       "      <td>1893</td>\n",
       "      <td>\\N</td>\n",
       "      <td>1</td>\n",
       "      <td>Comedy,Short</td>\n",
       "    </tr>\n",
       "  </tbody>\n",
       "</table>\n",
       "</div>"
      ],
      "text/plain": [
       "      tconst titleType            primaryTitle           originalTitle  \\\n",
       "0  tt0000001     short              Carmencita              Carmencita   \n",
       "1  tt0000002     short  Le clown et ses chiens  Le clown et ses chiens   \n",
       "2  tt0000003     short          Pauvre Pierrot          Pauvre Pierrot   \n",
       "3  tt0000004     short             Un bon bock             Un bon bock   \n",
       "4  tt0000005     short        Blacksmith Scene        Blacksmith Scene   \n",
       "\n",
       "  isAdult startYear endYear runtimeMinutes                    genres  \n",
       "0       0      1894      \\N              1         Documentary,Short  \n",
       "1       0      1892      \\N              5           Animation,Short  \n",
       "2       0      1892      \\N              4  Animation,Comedy,Romance  \n",
       "3       0      1892      \\N             12           Animation,Short  \n",
       "4       0      1893      \\N              1              Comedy,Short  "
      ]
     },
     "execution_count": 28,
     "metadata": {},
     "output_type": "execute_result"
    }
   ],
   "source": [
    "# load ratings\n",
    "movies_basics = pd.read_csv(\"Raw_DATA/title.basics.tsv.gz\",sep='\\t',low_memory=False,on_bad_lines='skip',encoding='utf-8')\n",
    "movies_basics.info()\n",
    "movies_basics.head()"
   ]
  },
  {
   "cell_type": "code",
   "execution_count": 59,
   "id": "36e94aef-1742-483d-8c77-7617e47fe3de",
   "metadata": {},
   "outputs": [],
   "source": [
    "# create filter to filter movies_basics to only include the US movies that are in movies_us_only\n",
    "# (filtering based on ids in each table which are titleId and tconst)\n",
    "filter_us_movies = movies_basics['tconst'].isin(movies_us_only['titleId'])"
   ]
  },
  {
   "cell_type": "code",
   "execution_count": 60,
   "id": "b9749b44-81d6-46e7-8d5a-61d9756bda8e",
   "metadata": {},
   "outputs": [
    {
     "name": "stdout",
     "output_type": "stream",
     "text": [
      "<class 'pandas.core.frame.DataFrame'>\n",
      "Index: 203476 entries, 8 to 10016777\n",
      "Data columns (total 9 columns):\n",
      " #   Column          Non-Null Count   Dtype  \n",
      "---  ------          --------------   -----  \n",
      " 0   tconst          203476 non-null  object \n",
      " 1   titleType       203476 non-null  object \n",
      " 2   primaryTitle    203475 non-null  object \n",
      " 3   originalTitle   203475 non-null  object \n",
      " 4   isAdult         203476 non-null  object \n",
      " 5   startYear       199907 non-null  float64\n",
      " 6   endYear         0 non-null       object \n",
      " 7   runtimeMinutes  203476 non-null  object \n",
      " 8   genres          203476 non-null  object \n",
      "dtypes: float64(1), object(8)\n",
      "memory usage: 15.5+ MB\n"
     ]
    }
   ],
   "source": [
    "movies_basics = movies_basics[filter_us_movies]\n",
    "movies_basics.info()"
   ]
  },
  {
   "cell_type": "code",
   "execution_count": 61,
   "id": "7c8cdb42-e8a0-43e0-9c1d-771c013e488d",
   "metadata": {},
   "outputs": [
    {
     "data": {
      "text/plain": [
       "tconst                 0\n",
       "titleType              0\n",
       "primaryTitle           1\n",
       "originalTitle          1\n",
       "isAdult                0\n",
       "startYear           3569\n",
       "endYear           203476\n",
       "runtimeMinutes         0\n",
       "genres                 0\n",
       "dtype: int64"
      ]
     },
     "execution_count": 61,
     "metadata": {},
     "output_type": "execute_result"
    }
   ],
   "source": [
    "# According to data dictionary the palceholder '\\N' indicates a missing value. We will replace it accordingly.\n",
    "# The backslash in the palaceholder will be read as to ignore what comes next and to be treated as empty string, we will add\n",
    "# as second backslash to workaround it\n",
    "movies_basics = movies_basics.replace({\n",
    "    '\\\\N':np.nan\n",
    "})\n",
    "movies_basics.isna().sum()"
   ]
  },
  {
   "cell_type": "code",
   "execution_count": 62,
   "id": "4160769f-5a8c-464f-8bb4-b5dcb1bc6795",
   "metadata": {},
   "outputs": [
    {
     "data": {
      "text/plain": [
       "tconst                 0\n",
       "titleType              0\n",
       "primaryTitle           1\n",
       "originalTitle          1\n",
       "isAdult                0\n",
       "startYear           3569\n",
       "endYear           203476\n",
       "runtimeMinutes         0\n",
       "genres                 0\n",
       "dtype: int64"
      ]
     },
     "execution_count": 62,
     "metadata": {},
     "output_type": "execute_result"
    }
   ],
   "source": [
    "# Drop rows with Nul values in runtimeMinutes and genres\n",
    "movies_basics = movies_basics.dropna(subset=['runtimeMinutes','genres'])\n",
    "movies_basics.isna().sum()"
   ]
  },
  {
   "cell_type": "code",
   "execution_count": 63,
   "id": "47024e37-4950-4ac5-b336-db98d088191a",
   "metadata": {},
   "outputs": [
    {
     "data": {
      "text/plain": [
       "titleType\n",
       "movie    203476\n",
       "Name: count, dtype: int64"
      ]
     },
     "execution_count": 63,
     "metadata": {},
     "output_type": "execute_result"
    }
   ],
   "source": [
    "# cheking distinct values of column 'titleType' to only filter the movies\n",
    "movies_basics['titleType'].value_counts()"
   ]
  },
  {
   "cell_type": "code",
   "execution_count": 64,
   "id": "7faa9325-451f-45b0-a925-96ab2395f557",
   "metadata": {},
   "outputs": [
    {
     "data": {
      "text/plain": [
       "titleType\n",
       "movie    203476\n",
       "Name: count, dtype: int64"
      ]
     },
     "execution_count": 64,
     "metadata": {},
     "output_type": "execute_result"
    }
   ],
   "source": [
    "#filtering fulllength movies\n",
    "filter_FullLength_movies = movies_basics['titleType'] == 'movie'\n",
    "movies_basics = movies_basics[filter_FullLength_movies]\n",
    "# verify filter\n",
    "movies_basics['titleType'].value_counts()"
   ]
  },
  {
   "cell_type": "code",
   "execution_count": 65,
   "id": "0fc27d6a-bb7d-4fe9-be75-3582e6d4309b",
   "metadata": {},
   "outputs": [
    {
     "data": {
      "text/plain": [
       "startYear\n",
       "2019.0    8102\n",
       "2018.0    7866\n",
       "2017.0    7816\n",
       "2016.0    7415\n",
       "2015.0    7228\n",
       "          ... \n",
       "1906.0       2\n",
       "1899.0       1\n",
       "1904.0       1\n",
       "1897.0       1\n",
       "1894.0       1\n",
       "Name: count, Length: 128, dtype: int64"
      ]
     },
     "execution_count": 65,
     "metadata": {},
     "output_type": "execute_result"
    }
   ],
   "source": [
    "movies_basics['startYear'].value_counts()"
   ]
  },
  {
   "cell_type": "code",
   "execution_count": 66,
   "id": "d63f2234-a861-422d-accf-788809705e49",
   "metadata": {},
   "outputs": [
    {
     "name": "stdout",
     "output_type": "stream",
     "text": [
      "<class 'pandas.core.frame.DataFrame'>\n",
      "Index: 203476 entries, 8 to 10016777\n",
      "Data columns (total 9 columns):\n",
      " #   Column          Non-Null Count   Dtype  \n",
      "---  ------          --------------   -----  \n",
      " 0   tconst          203476 non-null  object \n",
      " 1   titleType       203476 non-null  object \n",
      " 2   primaryTitle    203475 non-null  object \n",
      " 3   originalTitle   203475 non-null  object \n",
      " 4   isAdult         203476 non-null  object \n",
      " 5   startYear       199907 non-null  float64\n",
      " 6   endYear         0 non-null       float64\n",
      " 7   runtimeMinutes  203476 non-null  object \n",
      " 8   genres          203476 non-null  object \n",
      "dtypes: float64(2), object(7)\n",
      "memory usage: 15.5+ MB\n"
     ]
    }
   ],
   "source": [
    "#Convert startYear to a float dtype\n",
    "movies_basics['startYear']=movies_basics['startYear'].astype(float)\n",
    "# verify\n",
    "movies_basics.info()"
   ]
  },
  {
   "cell_type": "code",
   "execution_count": 67,
   "id": "298123da-bf4c-4b2c-b2dc-e571b0765f47",
   "metadata": {},
   "outputs": [
    {
     "data": {
      "text/plain": [
       "8           False\n",
       "144         False\n",
       "570         False\n",
       "587         False\n",
       "672         False\n",
       "            ...  \n",
       "10016366     True\n",
       "10016544     True\n",
       "10016684     True\n",
       "10016693     True\n",
       "10016777     True\n",
       "Name: startYear, Length: 203476, dtype: bool"
      ]
     },
     "execution_count": 67,
     "metadata": {},
     "output_type": "execute_result"
    }
   ],
   "source": [
    "# startyear filter\n",
    "filter_start_year = (movies_basics['startYear']<=2022) & (movies_basics['startYear']>=2000)\n",
    "filter_start_year"
   ]
  },
  {
   "cell_type": "code",
   "execution_count": 69,
   "id": "b4634703-f810-43a7-a7c1-611c9fe6fa91",
   "metadata": {},
   "outputs": [
    {
     "name": "stdout",
     "output_type": "stream",
     "text": [
      "2000.0 2022.0\n"
     ]
    }
   ],
   "source": [
    "movies_basics = movies_basics[filter_start_year]\n",
    "# verify\n",
    "print(movies_basics['startYear'].min(),movies_basics['startYear'].max())"
   ]
  },
  {
   "cell_type": "code",
   "execution_count": 71,
   "id": "da275f60-c15d-4d18-a0a1-9ecc1fb2f7ca",
   "metadata": {},
   "outputs": [
    {
     "data": {
      "text/plain": [
       "genres\n",
       "Documentary                      21375\n",
       "Drama                            17085\n",
       "Comedy                            7148\n",
       "Horror                            4071\n",
       "Comedy,Drama                      4000\n",
       "                                 ...  \n",
       "Adult,Crime,Mystery                  1\n",
       "Comedy,Documentary,Reality-TV        1\n",
       "Biography,Music,Mystery              1\n",
       "Comedy,Reality-TV,Romance            1\n",
       "Biography,Fantasy,Musical            1\n",
       "Name: count, Length: 1054, dtype: int64"
      ]
     },
     "execution_count": 71,
     "metadata": {},
     "output_type": "execute_result"
    }
   ],
   "source": [
    "# cheking value_counts for genres\n",
    "movies_basics['genres'].value_counts()"
   ]
  },
  {
   "cell_type": "code",
   "execution_count": 74,
   "id": "7ae2fb5f-7158-48ec-b46c-be8530602e85",
   "metadata": {},
   "outputs": [
    {
     "data": {
      "text/plain": [
       "34802       False\n",
       "61114       False\n",
       "67666       False\n",
       "86793       False\n",
       "93930       False\n",
       "            ...  \n",
       "10016366     True\n",
       "10016544    False\n",
       "10016684    False\n",
       "10016693    False\n",
       "10016777    False\n",
       "Name: genres, Length: 121127, dtype: bool"
      ]
     },
     "execution_count": 74,
     "metadata": {},
     "output_type": "execute_result"
    }
   ],
   "source": [
    "# filter Documentary (we will use contains since it shows up in multiple genres) \n",
    "filter_documentary = movies_basics['genres'].str.contains('Documentary')\n",
    "filter_documentary"
   ]
  },
  {
   "cell_type": "code",
   "execution_count": 75,
   "id": "0bb31c85-5364-42b3-93be-c6150816cf3d",
   "metadata": {},
   "outputs": [],
   "source": [
    "# excluding docs\n",
    "movies_basics = movies_basics[~filter_documentary]"
   ]
  },
  {
   "cell_type": "code",
   "execution_count": 76,
   "id": "063d6d5c-1c5a-467f-92cb-bd3938d3de0f",
   "metadata": {},
   "outputs": [
    {
     "data": {
      "text/plain": [
       "genres\n",
       "Drama                        17085\n",
       "Comedy                        7148\n",
       "Horror                        4071\n",
       "Comedy,Drama                  4000\n",
       "Drama,Romance                 2623\n",
       "                             ...  \n",
       "Music,Mystery,Romance            1\n",
       "History,Horror,Mystery           1\n",
       "Crime,Music,Mystery              1\n",
       "Crime,Fantasy,Romance            1\n",
       "Biography,Fantasy,Musical        1\n",
       "Name: count, Length: 854, dtype: int64"
      ]
     },
     "execution_count": 76,
     "metadata": {},
     "output_type": "execute_result"
    }
   ],
   "source": [
    "movies_basics['genres'].value_counts()"
   ]
  },
  {
   "cell_type": "code",
   "execution_count": 77,
   "id": "696e53b0-a1f9-45e8-bcbc-6a6cbacee19b",
   "metadata": {},
   "outputs": [
    {
     "name": "stdout",
     "output_type": "stream",
     "text": [
      "<class 'pandas.core.frame.DataFrame'>\n",
      "Index: 86979 entries, 34802 to 10016777\n",
      "Data columns (total 9 columns):\n",
      " #   Column          Non-Null Count  Dtype  \n",
      "---  ------          --------------  -----  \n",
      " 0   tconst          86979 non-null  object \n",
      " 1   titleType       86979 non-null  object \n",
      " 2   primaryTitle    86978 non-null  object \n",
      " 3   originalTitle   86978 non-null  object \n",
      " 4   isAdult         86979 non-null  object \n",
      " 5   startYear       86979 non-null  float64\n",
      " 6   endYear         0 non-null      float64\n",
      " 7   runtimeMinutes  86979 non-null  object \n",
      " 8   genres          86979 non-null  object \n",
      "dtypes: float64(2), object(7)\n",
      "memory usage: 6.6+ MB\n"
     ]
    },
    {
     "data": {
      "text/html": [
       "<div>\n",
       "<style scoped>\n",
       "    .dataframe tbody tr th:only-of-type {\n",
       "        vertical-align: middle;\n",
       "    }\n",
       "\n",
       "    .dataframe tbody tr th {\n",
       "        vertical-align: top;\n",
       "    }\n",
       "\n",
       "    .dataframe thead th {\n",
       "        text-align: right;\n",
       "    }\n",
       "</style>\n",
       "<table border=\"1\" class=\"dataframe\">\n",
       "  <thead>\n",
       "    <tr style=\"text-align: right;\">\n",
       "      <th></th>\n",
       "      <th>tconst</th>\n",
       "      <th>titleType</th>\n",
       "      <th>primaryTitle</th>\n",
       "      <th>originalTitle</th>\n",
       "      <th>isAdult</th>\n",
       "      <th>startYear</th>\n",
       "      <th>endYear</th>\n",
       "      <th>runtimeMinutes</th>\n",
       "      <th>genres</th>\n",
       "    </tr>\n",
       "  </thead>\n",
       "  <tbody>\n",
       "    <tr>\n",
       "      <th>34802</th>\n",
       "      <td>tt0035423</td>\n",
       "      <td>movie</td>\n",
       "      <td>Kate &amp; Leopold</td>\n",
       "      <td>Kate &amp; Leopold</td>\n",
       "      <td>0</td>\n",
       "      <td>2001.0</td>\n",
       "      <td>NaN</td>\n",
       "      <td>118</td>\n",
       "      <td>Comedy,Fantasy,Romance</td>\n",
       "    </tr>\n",
       "    <tr>\n",
       "      <th>61114</th>\n",
       "      <td>tt0062336</td>\n",
       "      <td>movie</td>\n",
       "      <td>The Tango of the Widower and Its Distorting Mi...</td>\n",
       "      <td>El tango del viudo y su espejo deformante</td>\n",
       "      <td>0</td>\n",
       "      <td>2020.0</td>\n",
       "      <td>NaN</td>\n",
       "      <td>70</td>\n",
       "      <td>Drama</td>\n",
       "    </tr>\n",
       "    <tr>\n",
       "      <th>67666</th>\n",
       "      <td>tt0069049</td>\n",
       "      <td>movie</td>\n",
       "      <td>The Other Side of the Wind</td>\n",
       "      <td>The Other Side of the Wind</td>\n",
       "      <td>0</td>\n",
       "      <td>2018.0</td>\n",
       "      <td>NaN</td>\n",
       "      <td>122</td>\n",
       "      <td>Drama</td>\n",
       "    </tr>\n",
       "    <tr>\n",
       "      <th>86793</th>\n",
       "      <td>tt0088751</td>\n",
       "      <td>movie</td>\n",
       "      <td>The Naked Monster</td>\n",
       "      <td>The Naked Monster</td>\n",
       "      <td>0</td>\n",
       "      <td>2005.0</td>\n",
       "      <td>NaN</td>\n",
       "      <td>100</td>\n",
       "      <td>Comedy,Horror,Sci-Fi</td>\n",
       "    </tr>\n",
       "    <tr>\n",
       "      <th>93930</th>\n",
       "      <td>tt0096056</td>\n",
       "      <td>movie</td>\n",
       "      <td>Crime and Punishment</td>\n",
       "      <td>Crime and Punishment</td>\n",
       "      <td>0</td>\n",
       "      <td>2002.0</td>\n",
       "      <td>NaN</td>\n",
       "      <td>126</td>\n",
       "      <td>Drama</td>\n",
       "    </tr>\n",
       "  </tbody>\n",
       "</table>\n",
       "</div>"
      ],
      "text/plain": [
       "          tconst titleType                                       primaryTitle  \\\n",
       "34802  tt0035423     movie                                     Kate & Leopold   \n",
       "61114  tt0062336     movie  The Tango of the Widower and Its Distorting Mi...   \n",
       "67666  tt0069049     movie                         The Other Side of the Wind   \n",
       "86793  tt0088751     movie                                  The Naked Monster   \n",
       "93930  tt0096056     movie                               Crime and Punishment   \n",
       "\n",
       "                                   originalTitle isAdult  startYear  endYear  \\\n",
       "34802                             Kate & Leopold       0     2001.0      NaN   \n",
       "61114  El tango del viudo y su espejo deformante       0     2020.0      NaN   \n",
       "67666                 The Other Side of the Wind       0     2018.0      NaN   \n",
       "86793                          The Naked Monster       0     2005.0      NaN   \n",
       "93930                       Crime and Punishment       0     2002.0      NaN   \n",
       "\n",
       "      runtimeMinutes                  genres  \n",
       "34802            118  Comedy,Fantasy,Romance  \n",
       "61114             70                   Drama  \n",
       "67666            122                   Drama  \n",
       "86793            100    Comedy,Horror,Sci-Fi  \n",
       "93930            126                   Drama  "
      ]
     },
     "execution_count": 77,
     "metadata": {},
     "output_type": "execute_result"
    }
   ],
   "source": [
    "# display overall infos after preprocessing\n",
    "movies_basics.info()\n",
    "movies_basics.head()"
   ]
  },
  {
   "cell_type": "code",
   "execution_count": 79,
   "id": "449dad1a-e9e9-4395-ad58-4cc814e4664b",
   "metadata": {},
   "outputs": [],
   "source": [
    "# save basics\n",
    "movies_basics.to_csv('DATA/basics.csv',index=False,sep=',',encoding='utf-8')"
   ]
  },
  {
   "cell_type": "code",
   "execution_count": 81,
   "id": "7ab72be1-ba76-48e3-96cc-dd98e209d4c3",
   "metadata": {},
   "outputs": [],
   "source": [
    "# For the movies_ratings, we will only keep those present in movies_basics\n",
    "filter_ratings = movies_ratings['tconst'].isin(movies_basics['tconst'])\n",
    "movies_ratings = movies_ratings[filter_ratings]"
   ]
  },
  {
   "cell_type": "code",
   "execution_count": 82,
   "id": "5f0ce4f4-2584-41df-8a70-649a6fd401c1",
   "metadata": {},
   "outputs": [
    {
     "data": {
      "text/plain": [
       "tconst           0\n",
       "averageRating    0\n",
       "numVotes         0\n",
       "dtype: int64"
      ]
     },
     "execution_count": 82,
     "metadata": {},
     "output_type": "execute_result"
    }
   ],
   "source": [
    "# chek null values\n",
    "movies_ratings.isna().sum()"
   ]
  },
  {
   "cell_type": "code",
   "execution_count": 83,
   "id": "9224ff05-f1b7-49b2-a7f7-aeb0eff638f2",
   "metadata": {},
   "outputs": [
    {
     "name": "stdout",
     "output_type": "stream",
     "text": [
      "<class 'pandas.core.frame.DataFrame'>\n",
      "Index: 71900 entries, 17961 to 1331462\n",
      "Data columns (total 3 columns):\n",
      " #   Column         Non-Null Count  Dtype  \n",
      "---  ------         --------------  -----  \n",
      " 0   tconst         71900 non-null  object \n",
      " 1   averageRating  71900 non-null  float64\n",
      " 2   numVotes       71900 non-null  int64  \n",
      "dtypes: float64(1), int64(1), object(1)\n",
      "memory usage: 2.2+ MB\n"
     ]
    },
    {
     "data": {
      "text/html": [
       "<div>\n",
       "<style scoped>\n",
       "    .dataframe tbody tr th:only-of-type {\n",
       "        vertical-align: middle;\n",
       "    }\n",
       "\n",
       "    .dataframe tbody tr th {\n",
       "        vertical-align: top;\n",
       "    }\n",
       "\n",
       "    .dataframe thead th {\n",
       "        text-align: right;\n",
       "    }\n",
       "</style>\n",
       "<table border=\"1\" class=\"dataframe\">\n",
       "  <thead>\n",
       "    <tr style=\"text-align: right;\">\n",
       "      <th></th>\n",
       "      <th>tconst</th>\n",
       "      <th>averageRating</th>\n",
       "      <th>numVotes</th>\n",
       "    </tr>\n",
       "  </thead>\n",
       "  <tbody>\n",
       "    <tr>\n",
       "      <th>17961</th>\n",
       "      <td>tt0035423</td>\n",
       "      <td>6.4</td>\n",
       "      <td>87153</td>\n",
       "    </tr>\n",
       "    <tr>\n",
       "      <th>40764</th>\n",
       "      <td>tt0062336</td>\n",
       "      <td>6.4</td>\n",
       "      <td>175</td>\n",
       "    </tr>\n",
       "    <tr>\n",
       "      <th>46645</th>\n",
       "      <td>tt0069049</td>\n",
       "      <td>6.7</td>\n",
       "      <td>7754</td>\n",
       "    </tr>\n",
       "    <tr>\n",
       "      <th>63640</th>\n",
       "      <td>tt0088751</td>\n",
       "      <td>5.2</td>\n",
       "      <td>336</td>\n",
       "    </tr>\n",
       "    <tr>\n",
       "      <th>69953</th>\n",
       "      <td>tt0096056</td>\n",
       "      <td>5.6</td>\n",
       "      <td>846</td>\n",
       "    </tr>\n",
       "  </tbody>\n",
       "</table>\n",
       "</div>"
      ],
      "text/plain": [
       "          tconst  averageRating  numVotes\n",
       "17961  tt0035423            6.4     87153\n",
       "40764  tt0062336            6.4       175\n",
       "46645  tt0069049            6.7      7754\n",
       "63640  tt0088751            5.2       336\n",
       "69953  tt0096056            5.6       846"
      ]
     },
     "execution_count": 83,
     "metadata": {},
     "output_type": "execute_result"
    }
   ],
   "source": [
    "# chek overall \n",
    "movies_ratings.info()\n",
    "movies_ratings.head()"
   ]
  },
  {
   "cell_type": "markdown",
   "id": "29fc92d2-572b-4b68-aff8-5b7850ce0d33",
   "metadata": {},
   "source": [
    "- **=>We should note that some movies in the future will not have ratings because number of rows are not equal.**"
   ]
  },
  {
   "cell_type": "code",
   "execution_count": 84,
   "id": "9f73e09a-30b4-4d58-9265-24ed5eee3c0b",
   "metadata": {},
   "outputs": [],
   "source": [
    "# save ratings\n",
    "movies_ratings.to_csv('DATA/ratings.csv',index=False,sep=',',encoding='utf-8')"
   ]
  },
  {
   "cell_type": "code",
   "execution_count": 86,
   "id": "b0ab2200-7302-43e1-99cd-3ea909511cf1",
   "metadata": {},
   "outputs": [],
   "source": [
    "# save movies\n",
    "movies_ratings.to_csv('DATA/movies.csv',index=False,sep=',',encoding='utf-8')"
   ]
  },
  {
   "cell_type": "code",
   "execution_count": null,
   "id": "5c9ebc06-635a-4787-ad5e-b531e41b30e1",
   "metadata": {},
   "outputs": [],
   "source": []
  }
 ],
 "metadata": {
  "kernelspec": {
   "display_name": "Python (dojo-env)",
   "language": "python",
   "name": "dojo-env"
  },
  "language_info": {
   "codemirror_mode": {
    "name": "ipython",
    "version": 3
   },
   "file_extension": ".py",
   "mimetype": "text/x-python",
   "name": "python",
   "nbconvert_exporter": "python",
   "pygments_lexer": "ipython3",
   "version": "3.11.5"
  },
  "widgets": {
   "application/vnd.jupyter.widget-state+json": {
    "state": {},
    "version_major": 2,
    "version_minor": 0
   }
  }
 },
 "nbformat": 4,
 "nbformat_minor": 5
}
