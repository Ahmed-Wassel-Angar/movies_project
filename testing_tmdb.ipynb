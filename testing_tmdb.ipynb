{
 "cells": [
  {
   "cell_type": "code",
   "execution_count": 31,
   "id": "f24830e4-e5d6-44e7-90c0-77030eef3807",
   "metadata": {},
   "outputs": [
    {
     "name": "stdout",
     "output_type": "stream",
     "text": [
      "Requirement already satisfied: requests in c:\\users\\hp\\appdata\\local\\programs\\python\\python312\\lib\\site-packages (2.31.0)\n",
      "Requirement already satisfied: charset-normalizer<4,>=2 in c:\\users\\hp\\appdata\\local\\programs\\python\\python312\\lib\\site-packages (from requests) (3.3.2)\n",
      "Requirement already satisfied: idna<4,>=2.5 in c:\\users\\hp\\appdata\\local\\programs\\python\\python312\\lib\\site-packages (from requests) (3.6)\n",
      "Requirement already satisfied: urllib3<3,>=1.21.1 in c:\\users\\hp\\appdata\\local\\programs\\python\\python312\\lib\\site-packages (from requests) (2.2.0)\n",
      "Requirement already satisfied: certifi>=2017.4.17 in c:\\users\\hp\\appdata\\local\\programs\\python\\python312\\lib\\site-packages (from requests) (2023.11.17)\n",
      "Requirement already satisfied: tmdbsimple in c:\\users\\hp\\appdata\\local\\programs\\python\\python312\\lib\\site-packages (2.9.1)\n",
      "Requirement already satisfied: requests in c:\\users\\hp\\appdata\\local\\programs\\python\\python312\\lib\\site-packages (from tmdbsimple) (2.31.0)\n",
      "Requirement already satisfied: charset-normalizer<4,>=2 in c:\\users\\hp\\appdata\\local\\programs\\python\\python312\\lib\\site-packages (from requests->tmdbsimple) (3.3.2)\n",
      "Requirement already satisfied: idna<4,>=2.5 in c:\\users\\hp\\appdata\\local\\programs\\python\\python312\\lib\\site-packages (from requests->tmdbsimple) (3.6)\n",
      "Requirement already satisfied: urllib3<3,>=1.21.1 in c:\\users\\hp\\appdata\\local\\programs\\python\\python312\\lib\\site-packages (from requests->tmdbsimple) (2.2.0)\n",
      "Requirement already satisfied: certifi>=2017.4.17 in c:\\users\\hp\\appdata\\local\\programs\\python\\python312\\lib\\site-packages (from requests->tmdbsimple) (2023.11.17)\n"
     ]
    }
   ],
   "source": [
    "!pip install requests\n",
    "!pip install tmdbsimple"
   ]
  },
  {
   "cell_type": "code",
   "execution_count": 32,
   "id": "5cc419f2-5b61-4cc8-9c8e-296933555e97",
   "metadata": {},
   "outputs": [],
   "source": [
    "import tmdbsimple as tmdb\n",
    "from tqdm.notebook import tqdm_notebook\n",
    "import os, time, json, requests, glob\n",
    "import numpy as np\n",
    "import pandas as pd"
   ]
  },
  {
   "cell_type": "code",
   "execution_count": 33,
   "id": "58849079-0514-41b2-a041-db24443d8ca6",
   "metadata": {},
   "outputs": [
    {
     "data": {
      "text/plain": [
       "['basics.csv',\n",
       " 'movies.csv',\n",
       " 'ratings.csv',\n",
       " 'tmdb_api_results_2001.json',\n",
       " 'tmdb_api_results_2010.json']"
      ]
     },
     "execution_count": 33,
     "metadata": {},
     "output_type": "execute_result"
    }
   ],
   "source": [
    "# create a folder for saving files (if it doesn't ecist)\n",
    "FOLDER = \"Data/\"\n",
    "os.makedirs(FOLDER, exist_ok=True)\n",
    "os.listdir(FOLDER)"
   ]
  },
  {
   "cell_type": "code",
   "execution_count": 47,
   "id": "4748a08d-0238-4154-86e4-599ccbb65bbd",
   "metadata": {},
   "outputs": [],
   "source": [
    "def write_json(new_data, filename):\n",
    "    \"\"\"Appends a list of records (new_data) to a json file (filename).\n",
    "    Adapted from: https://www.geeksforgeeks.org/append-to-json-file-using-python/\"\"\"\n",
    "\n",
    "    with open(filename,'r+') as file:\n",
    "        # First we load existing data into a dict.\n",
    "        file_data = json.load(file)\n",
    "        ## Choose extend or append\n",
    "        if (type(new_data)==list) and (type(file_data == list)):\n",
    "            file_data.extend(new_data)\n",
    "        else:\n",
    "            file_data.append(new_data)\n",
    "        # Set file's current position at offset.\n",
    "        file.seek(0)\n",
    "        # Convert back to json.\n",
    "        json.dump(file_data, file)"
   ]
  },
  {
   "cell_type": "code",
   "execution_count": 35,
   "id": "e00f6769-aefd-40ad-acf3-215d31d83555",
   "metadata": {},
   "outputs": [
    {
     "data": {
      "text/plain": [
       "dict_keys(['api_key', 'api_read_access_token'])"
      ]
     },
     "execution_count": 35,
     "metadata": {},
     "output_type": "execute_result"
    }
   ],
   "source": [
    "#Load API creadentials\n",
    "with open('/Users/HP/.secret/tmdb_api.json') as f:\n",
    "    login = json.load(f)\n",
    "\n",
    "# Display keys of loaded file\n",
    "login.keys()"
   ]
  },
  {
   "cell_type": "code",
   "execution_count": 36,
   "id": "dd326eac-0322-4999-b8d4-c11a16e12015",
   "metadata": {},
   "outputs": [],
   "source": [
    "# Set API_KEY\n",
    "tmdb.API_KEY = login['api_key']"
   ]
  },
  {
   "cell_type": "code",
   "execution_count": 37,
   "id": "6bd8eccb-efc0-45f2-9bee-f41471ce41a1",
   "metadata": {},
   "outputs": [],
   "source": [
    "# Define function to extract info, and add cretification to the info dict else return an error\n",
    "def get_movie_with_rating(movie_id):\n",
    "    # Get the movie object for the current id\n",
    "    movie = tmdb.Movies(movie_id)\n",
    "    \n",
    "    # save the .info .releases dictionaries\n",
    "    movie_info = movie.info()\n",
    "    releases = movie.releases()\n",
    "    \n",
    "    # Loop through countries in releases\n",
    "    for c in releases['countries']:\n",
    "        # if the country abbreviation==US\n",
    "        if c['iso_3166_1' ] =='US':\n",
    "            ## save a \"certification\" key in the info dict with the certification\n",
    "            movie_info['certification'] = c['certification']\n",
    "    return movie_info"
   ]
  },
  {
   "cell_type": "code",
   "execution_count": 38,
   "id": "0aa5891e-b2e6-4589-b82f-545a4562fa07",
   "metadata": {},
   "outputs": [
    {
     "name": "stdout",
     "output_type": "stream",
     "text": [
      "<class 'pandas.core.frame.DataFrame'>\n",
      "RangeIndex: 86979 entries, 0 to 86978\n",
      "Data columns (total 9 columns):\n",
      " #   Column          Non-Null Count  Dtype  \n",
      "---  ------          --------------  -----  \n",
      " 0   tconst          86979 non-null  object \n",
      " 1   titleType       86979 non-null  object \n",
      " 2   primaryTitle    86978 non-null  object \n",
      " 3   originalTitle   86978 non-null  object \n",
      " 4   isAdult         86979 non-null  int64  \n",
      " 5   startYear       86979 non-null  float64\n",
      " 6   endYear         0 non-null      float64\n",
      " 7   runtimeMinutes  86979 non-null  int64  \n",
      " 8   genres          86979 non-null  object \n",
      "dtypes: float64(2), int64(2), object(5)\n",
      "memory usage: 6.0+ MB\n"
     ]
    },
    {
     "data": {
      "text/html": [
       "<div>\n",
       "<style scoped>\n",
       "    .dataframe tbody tr th:only-of-type {\n",
       "        vertical-align: middle;\n",
       "    }\n",
       "\n",
       "    .dataframe tbody tr th {\n",
       "        vertical-align: top;\n",
       "    }\n",
       "\n",
       "    .dataframe thead th {\n",
       "        text-align: right;\n",
       "    }\n",
       "</style>\n",
       "<table border=\"1\" class=\"dataframe\">\n",
       "  <thead>\n",
       "    <tr style=\"text-align: right;\">\n",
       "      <th></th>\n",
       "      <th>tconst</th>\n",
       "      <th>titleType</th>\n",
       "      <th>primaryTitle</th>\n",
       "      <th>originalTitle</th>\n",
       "      <th>isAdult</th>\n",
       "      <th>startYear</th>\n",
       "      <th>endYear</th>\n",
       "      <th>runtimeMinutes</th>\n",
       "      <th>genres</th>\n",
       "    </tr>\n",
       "  </thead>\n",
       "  <tbody>\n",
       "    <tr>\n",
       "      <th>0</th>\n",
       "      <td>tt0035423</td>\n",
       "      <td>movie</td>\n",
       "      <td>Kate &amp; Leopold</td>\n",
       "      <td>Kate &amp; Leopold</td>\n",
       "      <td>0</td>\n",
       "      <td>2001.0</td>\n",
       "      <td>NaN</td>\n",
       "      <td>118</td>\n",
       "      <td>Comedy,Fantasy,Romance</td>\n",
       "    </tr>\n",
       "    <tr>\n",
       "      <th>1</th>\n",
       "      <td>tt0062336</td>\n",
       "      <td>movie</td>\n",
       "      <td>The Tango of the Widower and Its Distorting Mi...</td>\n",
       "      <td>El tango del viudo y su espejo deformante</td>\n",
       "      <td>0</td>\n",
       "      <td>2020.0</td>\n",
       "      <td>NaN</td>\n",
       "      <td>70</td>\n",
       "      <td>Drama</td>\n",
       "    </tr>\n",
       "    <tr>\n",
       "      <th>2</th>\n",
       "      <td>tt0069049</td>\n",
       "      <td>movie</td>\n",
       "      <td>The Other Side of the Wind</td>\n",
       "      <td>The Other Side of the Wind</td>\n",
       "      <td>0</td>\n",
       "      <td>2018.0</td>\n",
       "      <td>NaN</td>\n",
       "      <td>122</td>\n",
       "      <td>Drama</td>\n",
       "    </tr>\n",
       "    <tr>\n",
       "      <th>3</th>\n",
       "      <td>tt0088751</td>\n",
       "      <td>movie</td>\n",
       "      <td>The Naked Monster</td>\n",
       "      <td>The Naked Monster</td>\n",
       "      <td>0</td>\n",
       "      <td>2005.0</td>\n",
       "      <td>NaN</td>\n",
       "      <td>100</td>\n",
       "      <td>Comedy,Horror,Sci-Fi</td>\n",
       "    </tr>\n",
       "    <tr>\n",
       "      <th>4</th>\n",
       "      <td>tt0096056</td>\n",
       "      <td>movie</td>\n",
       "      <td>Crime and Punishment</td>\n",
       "      <td>Crime and Punishment</td>\n",
       "      <td>0</td>\n",
       "      <td>2002.0</td>\n",
       "      <td>NaN</td>\n",
       "      <td>126</td>\n",
       "      <td>Drama</td>\n",
       "    </tr>\n",
       "  </tbody>\n",
       "</table>\n",
       "</div>"
      ],
      "text/plain": [
       "      tconst titleType                                       primaryTitle  \\\n",
       "0  tt0035423     movie                                     Kate & Leopold   \n",
       "1  tt0062336     movie  The Tango of the Widower and Its Distorting Mi...   \n",
       "2  tt0069049     movie                         The Other Side of the Wind   \n",
       "3  tt0088751     movie                                  The Naked Monster   \n",
       "4  tt0096056     movie                               Crime and Punishment   \n",
       "\n",
       "                               originalTitle  isAdult  startYear  endYear  \\\n",
       "0                             Kate & Leopold        0     2001.0      NaN   \n",
       "1  El tango del viudo y su espejo deformante        0     2020.0      NaN   \n",
       "2                 The Other Side of the Wind        0     2018.0      NaN   \n",
       "3                          The Naked Monster        0     2005.0      NaN   \n",
       "4                       Crime and Punishment        0     2002.0      NaN   \n",
       "\n",
       "   runtimeMinutes                  genres  \n",
       "0             118  Comedy,Fantasy,Romance  \n",
       "1              70                   Drama  \n",
       "2             122                   Drama  \n",
       "3             100    Comedy,Horror,Sci-Fi  \n",
       "4             126                   Drama  "
      ]
     },
     "execution_count": 38,
     "metadata": {},
     "output_type": "execute_result"
    }
   ],
   "source": [
    "df_title_basics = pd.read_csv(\"Data/basics.csv\",sep=',',low_memory=False,on_bad_lines='skip',encoding='utf-8')\n",
    "df_title_basics.info()\n",
    "df_title_basics.head()"
   ]
  },
  {
   "cell_type": "code",
   "execution_count": 39,
   "id": "4f6e8034-9356-4e35-a5c1-b233780acb38",
   "metadata": {},
   "outputs": [],
   "source": [
    "YEARS_TO_GET = [2001,2002]\n",
    "errors=[]"
   ]
  },
  {
   "cell_type": "code",
   "execution_count": 56,
   "id": "1457673f-0c93-4740-b93f-9b80c1c21ecc",
   "metadata": {},
   "outputs": [
    {
     "data": {
      "application/vnd.jupyter.widget-view+json": {
       "model_id": "5556ce7e0d3746c5911ea2010f63a6b8",
       "version_major": 2,
       "version_minor": 0
      },
      "text/plain": [
       "YEARS:   0%|          | 0/2 [00:00<?, ?it/s]"
      ]
     },
     "metadata": {},
     "output_type": "display_data"
    },
    {
     "name": "stdout",
     "output_type": "stream",
     "text": [
      "The file Data/tmdb_api_results_2001.json already exists\n",
      "Number of Already Retrieved movie ids relative to year 2001 = 1367\n",
      "Number of Remaining movie ids to GET relative to year 2001 = 210\n"
     ]
    },
    {
     "data": {
      "application/vnd.jupyter.widget-view+json": {
       "model_id": "a019f01b03bc4234a4e876fa7ba609e8",
       "version_major": 2,
       "version_minor": 0
      },
      "text/plain": [
       "Movies from 2001:   0%|          | 0/210 [00:00<?, ?it/s]"
      ]
     },
     "metadata": {},
     "output_type": "display_data"
    },
    {
     "name": "stdout",
     "output_type": "stream",
     "text": [
      "- Total errors of 2001: 914\n",
      "The file Data/tmdb_api_results_2002.json already exists\n",
      "Number of Already Retrieved movie ids relative to year 2002 = 527\n",
      "Number of Remaining movie ids to GET relative to year 2002 = 1046\n"
     ]
    },
    {
     "data": {
      "application/vnd.jupyter.widget-view+json": {
       "model_id": "8875ccc99b944b88ab74d6d74c2cdbde",
       "version_major": 2,
       "version_minor": 0
      },
      "text/plain": [
       "Movies from 2002:   0%|          | 0/1046 [00:00<?, ?it/s]"
      ]
     },
     "metadata": {},
     "output_type": "display_data"
    },
    {
     "ename": "KeyboardInterrupt",
     "evalue": "",
     "output_type": "error",
     "traceback": [
      "\u001b[1;31m---------------------------------------------------------------------------\u001b[0m",
      "\u001b[1;31mKeyboardInterrupt\u001b[0m                         Traceback (most recent call last)",
      "Cell \u001b[1;32mIn[56], line 29\u001b[0m\n\u001b[0;32m     26\u001b[0m \u001b[38;5;28;01mfor\u001b[39;00m movie_id \u001b[38;5;129;01min\u001b[39;00m tqdm_notebook(movie_ids_to_get, \u001b[38;5;124mf\u001b[39m\u001b[38;5;124m\"\u001b[39m\u001b[38;5;124mMovies from \u001b[39m\u001b[38;5;132;01m{\u001b[39;00mYEAR\u001b[38;5;132;01m}\u001b[39;00m\u001b[38;5;124m\"\u001b[39m):\n\u001b[0;32m     27\u001b[0m     \u001b[38;5;66;03m# Get index and movie id from list\u001b[39;00m\n\u001b[0;32m     28\u001b[0m     \u001b[38;5;28;01mtry\u001b[39;00m:\n\u001b[1;32m---> 29\u001b[0m         temp \u001b[38;5;241m=\u001b[39m get_movie_with_rating(movie_id)\n\u001b[0;32m     30\u001b[0m         \u001b[38;5;66;03m# append/extend results to existing file using the pre-made function\u001b[39;00m\n\u001b[0;32m     31\u001b[0m         write_json(temp,JSON_FILE)\n",
      "Cell \u001b[1;32mIn[37], line 7\u001b[0m, in \u001b[0;36mget_movie_with_rating\u001b[1;34m(movie_id)\u001b[0m\n\u001b[0;32m      4\u001b[0m movie \u001b[38;5;241m=\u001b[39m tmdb\u001b[38;5;241m.\u001b[39mMovies(movie_id)\n\u001b[0;32m      6\u001b[0m \u001b[38;5;66;03m# save the .info .releases dictionaries\u001b[39;00m\n\u001b[1;32m----> 7\u001b[0m movie_info \u001b[38;5;241m=\u001b[39m movie\u001b[38;5;241m.\u001b[39minfo()\n\u001b[0;32m      8\u001b[0m releases \u001b[38;5;241m=\u001b[39m movie\u001b[38;5;241m.\u001b[39mreleases()\n\u001b[0;32m     10\u001b[0m \u001b[38;5;66;03m# Loop through countries in releases\u001b[39;00m\n",
      "File \u001b[1;32m~\\Desktop\\temp_files\\bureau\\coding dojo\\repos\\movies_project\\tmdbsimple\\movies.py:73\u001b[0m, in \u001b[0;36mMovies.info\u001b[1;34m(self, **kwargs)\u001b[0m\n\u001b[0;32m     57\u001b[0m \u001b[38;5;250m\u001b[39m\u001b[38;5;124;03m\"\"\"\u001b[39;00m\n\u001b[0;32m     58\u001b[0m \u001b[38;5;124;03mGet the primary information about a movie.\u001b[39;00m\n\u001b[0;32m     59\u001b[0m \n\u001b[1;32m   (...)\u001b[0m\n\u001b[0;32m     69\u001b[0m \u001b[38;5;124;03m    A dict representation of the JSON returned from the API.\u001b[39;00m\n\u001b[0;32m     70\u001b[0m \u001b[38;5;124;03m\"\"\"\u001b[39;00m\n\u001b[0;32m     71\u001b[0m path \u001b[38;5;241m=\u001b[39m \u001b[38;5;28mself\u001b[39m\u001b[38;5;241m.\u001b[39m_get_id_path(\u001b[38;5;124m'\u001b[39m\u001b[38;5;124minfo\u001b[39m\u001b[38;5;124m'\u001b[39m)\n\u001b[1;32m---> 73\u001b[0m response \u001b[38;5;241m=\u001b[39m \u001b[38;5;28mself\u001b[39m\u001b[38;5;241m.\u001b[39m_GET(path, kwargs)\n\u001b[0;32m     74\u001b[0m \u001b[38;5;28mself\u001b[39m\u001b[38;5;241m.\u001b[39m_set_attrs_to_values(response)\n\u001b[0;32m     75\u001b[0m \u001b[38;5;28;01mreturn\u001b[39;00m response\n",
      "File \u001b[1;32m~\\Desktop\\temp_files\\bureau\\coding dojo\\repos\\movies_project\\tmdbsimple\\base.py:110\u001b[0m, in \u001b[0;36mTMDB._GET\u001b[1;34m(self, path, params)\u001b[0m\n\u001b[0;32m    109\u001b[0m \u001b[38;5;28;01mdef\u001b[39;00m \u001b[38;5;21m_GET\u001b[39m(\u001b[38;5;28mself\u001b[39m, path, params\u001b[38;5;241m=\u001b[39m\u001b[38;5;28;01mNone\u001b[39;00m):\n\u001b[1;32m--> 110\u001b[0m     \u001b[38;5;28;01mreturn\u001b[39;00m \u001b[38;5;28mself\u001b[39m\u001b[38;5;241m.\u001b[39m_request(\u001b[38;5;124m'\u001b[39m\u001b[38;5;124mGET\u001b[39m\u001b[38;5;124m'\u001b[39m, path, params\u001b[38;5;241m=\u001b[39mparams)\n",
      "File \u001b[1;32m~\\Desktop\\temp_files\\bureau\\coding dojo\\repos\\movies_project\\tmdbsimple\\base.py:87\u001b[0m, in \u001b[0;36mTMDB._request\u001b[1;34m(self, method, path, params, payload)\u001b[0m\n\u001b[0;32m     85\u001b[0m \u001b[38;5;66;03m# Create a new request session if no global session is defined\u001b[39;00m\n\u001b[0;32m     86\u001b[0m \u001b[38;5;28;01mif\u001b[39;00m \u001b[38;5;28mself\u001b[39m\u001b[38;5;241m.\u001b[39msession \u001b[38;5;129;01mis\u001b[39;00m \u001b[38;5;28;01mNone\u001b[39;00m:\n\u001b[1;32m---> 87\u001b[0m     response \u001b[38;5;241m=\u001b[39m requests\u001b[38;5;241m.\u001b[39mrequest(\n\u001b[0;32m     88\u001b[0m         method,\n\u001b[0;32m     89\u001b[0m         url,\n\u001b[0;32m     90\u001b[0m         params\u001b[38;5;241m=\u001b[39mparams,\n\u001b[0;32m     91\u001b[0m         data\u001b[38;5;241m=\u001b[39mjson\u001b[38;5;241m.\u001b[39mdumps(payload) \u001b[38;5;28;01mif\u001b[39;00m payload \u001b[38;5;28;01melse\u001b[39;00m payload,\n\u001b[0;32m     92\u001b[0m         headers\u001b[38;5;241m=\u001b[39m\u001b[38;5;28mself\u001b[39m\u001b[38;5;241m.\u001b[39mheaders, timeout\u001b[38;5;241m=\u001b[39m\u001b[38;5;28mself\u001b[39m\u001b[38;5;241m.\u001b[39mtimeout\n\u001b[0;32m     93\u001b[0m     )\n\u001b[0;32m     95\u001b[0m \u001b[38;5;66;03m# Use the global requests session the user provided\u001b[39;00m\n\u001b[0;32m     96\u001b[0m \u001b[38;5;28;01melse\u001b[39;00m:\n\u001b[0;32m     97\u001b[0m     response \u001b[38;5;241m=\u001b[39m \u001b[38;5;28mself\u001b[39m\u001b[38;5;241m.\u001b[39msession\u001b[38;5;241m.\u001b[39mrequest(\n\u001b[0;32m     98\u001b[0m         method,\n\u001b[0;32m     99\u001b[0m         url,\n\u001b[1;32m   (...)\u001b[0m\n\u001b[0;32m    102\u001b[0m         headers\u001b[38;5;241m=\u001b[39m\u001b[38;5;28mself\u001b[39m\u001b[38;5;241m.\u001b[39mheaders, timeout\u001b[38;5;241m=\u001b[39m\u001b[38;5;28mself\u001b[39m\u001b[38;5;241m.\u001b[39mtimeout\n\u001b[0;32m    103\u001b[0m     )\n",
      "File \u001b[1;32m~\\anaconda3\\Lib\\site-packages\\requests\\api.py:59\u001b[0m, in \u001b[0;36mrequest\u001b[1;34m(method, url, **kwargs)\u001b[0m\n\u001b[0;32m     55\u001b[0m \u001b[38;5;66;03m# By using the 'with' statement we are sure the session is closed, thus we\u001b[39;00m\n\u001b[0;32m     56\u001b[0m \u001b[38;5;66;03m# avoid leaving sockets open which can trigger a ResourceWarning in some\u001b[39;00m\n\u001b[0;32m     57\u001b[0m \u001b[38;5;66;03m# cases, and look like a memory leak in others.\u001b[39;00m\n\u001b[0;32m     58\u001b[0m \u001b[38;5;28;01mwith\u001b[39;00m sessions\u001b[38;5;241m.\u001b[39mSession() \u001b[38;5;28;01mas\u001b[39;00m session:\n\u001b[1;32m---> 59\u001b[0m     \u001b[38;5;28;01mreturn\u001b[39;00m session\u001b[38;5;241m.\u001b[39mrequest(method\u001b[38;5;241m=\u001b[39mmethod, url\u001b[38;5;241m=\u001b[39murl, \u001b[38;5;241m*\u001b[39m\u001b[38;5;241m*\u001b[39mkwargs)\n",
      "File \u001b[1;32m~\\anaconda3\\Lib\\site-packages\\requests\\sessions.py:589\u001b[0m, in \u001b[0;36mSession.request\u001b[1;34m(self, method, url, params, data, headers, cookies, files, auth, timeout, allow_redirects, proxies, hooks, stream, verify, cert, json)\u001b[0m\n\u001b[0;32m    584\u001b[0m send_kwargs \u001b[38;5;241m=\u001b[39m {\n\u001b[0;32m    585\u001b[0m     \u001b[38;5;124m\"\u001b[39m\u001b[38;5;124mtimeout\u001b[39m\u001b[38;5;124m\"\u001b[39m: timeout,\n\u001b[0;32m    586\u001b[0m     \u001b[38;5;124m\"\u001b[39m\u001b[38;5;124mallow_redirects\u001b[39m\u001b[38;5;124m\"\u001b[39m: allow_redirects,\n\u001b[0;32m    587\u001b[0m }\n\u001b[0;32m    588\u001b[0m send_kwargs\u001b[38;5;241m.\u001b[39mupdate(settings)\n\u001b[1;32m--> 589\u001b[0m resp \u001b[38;5;241m=\u001b[39m \u001b[38;5;28mself\u001b[39m\u001b[38;5;241m.\u001b[39msend(prep, \u001b[38;5;241m*\u001b[39m\u001b[38;5;241m*\u001b[39msend_kwargs)\n\u001b[0;32m    591\u001b[0m \u001b[38;5;28;01mreturn\u001b[39;00m resp\n",
      "File \u001b[1;32m~\\anaconda3\\Lib\\site-packages\\requests\\sessions.py:703\u001b[0m, in \u001b[0;36mSession.send\u001b[1;34m(self, request, **kwargs)\u001b[0m\n\u001b[0;32m    700\u001b[0m start \u001b[38;5;241m=\u001b[39m preferred_clock()\n\u001b[0;32m    702\u001b[0m \u001b[38;5;66;03m# Send the request\u001b[39;00m\n\u001b[1;32m--> 703\u001b[0m r \u001b[38;5;241m=\u001b[39m adapter\u001b[38;5;241m.\u001b[39msend(request, \u001b[38;5;241m*\u001b[39m\u001b[38;5;241m*\u001b[39mkwargs)\n\u001b[0;32m    705\u001b[0m \u001b[38;5;66;03m# Total elapsed time of the request (approximately)\u001b[39;00m\n\u001b[0;32m    706\u001b[0m elapsed \u001b[38;5;241m=\u001b[39m preferred_clock() \u001b[38;5;241m-\u001b[39m start\n",
      "File \u001b[1;32m~\\anaconda3\\Lib\\site-packages\\requests\\adapters.py:486\u001b[0m, in \u001b[0;36mHTTPAdapter.send\u001b[1;34m(self, request, stream, timeout, verify, cert, proxies)\u001b[0m\n\u001b[0;32m    483\u001b[0m     timeout \u001b[38;5;241m=\u001b[39m TimeoutSauce(connect\u001b[38;5;241m=\u001b[39mtimeout, read\u001b[38;5;241m=\u001b[39mtimeout)\n\u001b[0;32m    485\u001b[0m \u001b[38;5;28;01mtry\u001b[39;00m:\n\u001b[1;32m--> 486\u001b[0m     resp \u001b[38;5;241m=\u001b[39m conn\u001b[38;5;241m.\u001b[39murlopen(\n\u001b[0;32m    487\u001b[0m         method\u001b[38;5;241m=\u001b[39mrequest\u001b[38;5;241m.\u001b[39mmethod,\n\u001b[0;32m    488\u001b[0m         url\u001b[38;5;241m=\u001b[39murl,\n\u001b[0;32m    489\u001b[0m         body\u001b[38;5;241m=\u001b[39mrequest\u001b[38;5;241m.\u001b[39mbody,\n\u001b[0;32m    490\u001b[0m         headers\u001b[38;5;241m=\u001b[39mrequest\u001b[38;5;241m.\u001b[39mheaders,\n\u001b[0;32m    491\u001b[0m         redirect\u001b[38;5;241m=\u001b[39m\u001b[38;5;28;01mFalse\u001b[39;00m,\n\u001b[0;32m    492\u001b[0m         assert_same_host\u001b[38;5;241m=\u001b[39m\u001b[38;5;28;01mFalse\u001b[39;00m,\n\u001b[0;32m    493\u001b[0m         preload_content\u001b[38;5;241m=\u001b[39m\u001b[38;5;28;01mFalse\u001b[39;00m,\n\u001b[0;32m    494\u001b[0m         decode_content\u001b[38;5;241m=\u001b[39m\u001b[38;5;28;01mFalse\u001b[39;00m,\n\u001b[0;32m    495\u001b[0m         retries\u001b[38;5;241m=\u001b[39m\u001b[38;5;28mself\u001b[39m\u001b[38;5;241m.\u001b[39mmax_retries,\n\u001b[0;32m    496\u001b[0m         timeout\u001b[38;5;241m=\u001b[39mtimeout,\n\u001b[0;32m    497\u001b[0m         chunked\u001b[38;5;241m=\u001b[39mchunked,\n\u001b[0;32m    498\u001b[0m     )\n\u001b[0;32m    500\u001b[0m \u001b[38;5;28;01mexcept\u001b[39;00m (ProtocolError, \u001b[38;5;167;01mOSError\u001b[39;00m) \u001b[38;5;28;01mas\u001b[39;00m err:\n\u001b[0;32m    501\u001b[0m     \u001b[38;5;28;01mraise\u001b[39;00m \u001b[38;5;167;01mConnectionError\u001b[39;00m(err, request\u001b[38;5;241m=\u001b[39mrequest)\n",
      "File \u001b[1;32m~\\anaconda3\\Lib\\site-packages\\urllib3\\connectionpool.py:715\u001b[0m, in \u001b[0;36mHTTPConnectionPool.urlopen\u001b[1;34m(self, method, url, body, headers, retries, redirect, assert_same_host, timeout, pool_timeout, release_conn, chunked, body_pos, **response_kw)\u001b[0m\n\u001b[0;32m    712\u001b[0m     \u001b[38;5;28mself\u001b[39m\u001b[38;5;241m.\u001b[39m_prepare_proxy(conn)\n\u001b[0;32m    714\u001b[0m \u001b[38;5;66;03m# Make the request on the httplib connection object.\u001b[39;00m\n\u001b[1;32m--> 715\u001b[0m httplib_response \u001b[38;5;241m=\u001b[39m \u001b[38;5;28mself\u001b[39m\u001b[38;5;241m.\u001b[39m_make_request(\n\u001b[0;32m    716\u001b[0m     conn,\n\u001b[0;32m    717\u001b[0m     method,\n\u001b[0;32m    718\u001b[0m     url,\n\u001b[0;32m    719\u001b[0m     timeout\u001b[38;5;241m=\u001b[39mtimeout_obj,\n\u001b[0;32m    720\u001b[0m     body\u001b[38;5;241m=\u001b[39mbody,\n\u001b[0;32m    721\u001b[0m     headers\u001b[38;5;241m=\u001b[39mheaders,\n\u001b[0;32m    722\u001b[0m     chunked\u001b[38;5;241m=\u001b[39mchunked,\n\u001b[0;32m    723\u001b[0m )\n\u001b[0;32m    725\u001b[0m \u001b[38;5;66;03m# If we're going to release the connection in ``finally:``, then\u001b[39;00m\n\u001b[0;32m    726\u001b[0m \u001b[38;5;66;03m# the response doesn't need to know about the connection. Otherwise\u001b[39;00m\n\u001b[0;32m    727\u001b[0m \u001b[38;5;66;03m# it will also try to release it and we'll have a double-release\u001b[39;00m\n\u001b[0;32m    728\u001b[0m \u001b[38;5;66;03m# mess.\u001b[39;00m\n\u001b[0;32m    729\u001b[0m response_conn \u001b[38;5;241m=\u001b[39m conn \u001b[38;5;28;01mif\u001b[39;00m \u001b[38;5;129;01mnot\u001b[39;00m release_conn \u001b[38;5;28;01melse\u001b[39;00m \u001b[38;5;28;01mNone\u001b[39;00m\n",
      "File \u001b[1;32m~\\anaconda3\\Lib\\site-packages\\urllib3\\connectionpool.py:467\u001b[0m, in \u001b[0;36mHTTPConnectionPool._make_request\u001b[1;34m(self, conn, method, url, timeout, chunked, **httplib_request_kw)\u001b[0m\n\u001b[0;32m    462\u001b[0m             httplib_response \u001b[38;5;241m=\u001b[39m conn\u001b[38;5;241m.\u001b[39mgetresponse()\n\u001b[0;32m    463\u001b[0m         \u001b[38;5;28;01mexcept\u001b[39;00m \u001b[38;5;167;01mBaseException\u001b[39;00m \u001b[38;5;28;01mas\u001b[39;00m e:\n\u001b[0;32m    464\u001b[0m             \u001b[38;5;66;03m# Remove the TypeError from the exception chain in\u001b[39;00m\n\u001b[0;32m    465\u001b[0m             \u001b[38;5;66;03m# Python 3 (including for exceptions like SystemExit).\u001b[39;00m\n\u001b[0;32m    466\u001b[0m             \u001b[38;5;66;03m# Otherwise it looks like a bug in the code.\u001b[39;00m\n\u001b[1;32m--> 467\u001b[0m             six\u001b[38;5;241m.\u001b[39mraise_from(e, \u001b[38;5;28;01mNone\u001b[39;00m)\n\u001b[0;32m    468\u001b[0m \u001b[38;5;28;01mexcept\u001b[39;00m (SocketTimeout, BaseSSLError, SocketError) \u001b[38;5;28;01mas\u001b[39;00m e:\n\u001b[0;32m    469\u001b[0m     \u001b[38;5;28mself\u001b[39m\u001b[38;5;241m.\u001b[39m_raise_timeout(err\u001b[38;5;241m=\u001b[39me, url\u001b[38;5;241m=\u001b[39murl, timeout_value\u001b[38;5;241m=\u001b[39mread_timeout)\n",
      "File \u001b[1;32m<string>:3\u001b[0m, in \u001b[0;36mraise_from\u001b[1;34m(value, from_value)\u001b[0m\n",
      "File \u001b[1;32m~\\anaconda3\\Lib\\site-packages\\urllib3\\connectionpool.py:462\u001b[0m, in \u001b[0;36mHTTPConnectionPool._make_request\u001b[1;34m(self, conn, method, url, timeout, chunked, **httplib_request_kw)\u001b[0m\n\u001b[0;32m    459\u001b[0m \u001b[38;5;28;01mexcept\u001b[39;00m \u001b[38;5;167;01mTypeError\u001b[39;00m:\n\u001b[0;32m    460\u001b[0m     \u001b[38;5;66;03m# Python 3\u001b[39;00m\n\u001b[0;32m    461\u001b[0m     \u001b[38;5;28;01mtry\u001b[39;00m:\n\u001b[1;32m--> 462\u001b[0m         httplib_response \u001b[38;5;241m=\u001b[39m conn\u001b[38;5;241m.\u001b[39mgetresponse()\n\u001b[0;32m    463\u001b[0m     \u001b[38;5;28;01mexcept\u001b[39;00m \u001b[38;5;167;01mBaseException\u001b[39;00m \u001b[38;5;28;01mas\u001b[39;00m e:\n\u001b[0;32m    464\u001b[0m         \u001b[38;5;66;03m# Remove the TypeError from the exception chain in\u001b[39;00m\n\u001b[0;32m    465\u001b[0m         \u001b[38;5;66;03m# Python 3 (including for exceptions like SystemExit).\u001b[39;00m\n\u001b[0;32m    466\u001b[0m         \u001b[38;5;66;03m# Otherwise it looks like a bug in the code.\u001b[39;00m\n\u001b[0;32m    467\u001b[0m         six\u001b[38;5;241m.\u001b[39mraise_from(e, \u001b[38;5;28;01mNone\u001b[39;00m)\n",
      "File \u001b[1;32m~\\anaconda3\\Lib\\http\\client.py:1378\u001b[0m, in \u001b[0;36mHTTPConnection.getresponse\u001b[1;34m(self)\u001b[0m\n\u001b[0;32m   1376\u001b[0m \u001b[38;5;28;01mtry\u001b[39;00m:\n\u001b[0;32m   1377\u001b[0m     \u001b[38;5;28;01mtry\u001b[39;00m:\n\u001b[1;32m-> 1378\u001b[0m         response\u001b[38;5;241m.\u001b[39mbegin()\n\u001b[0;32m   1379\u001b[0m     \u001b[38;5;28;01mexcept\u001b[39;00m \u001b[38;5;167;01mConnectionError\u001b[39;00m:\n\u001b[0;32m   1380\u001b[0m         \u001b[38;5;28mself\u001b[39m\u001b[38;5;241m.\u001b[39mclose()\n",
      "File \u001b[1;32m~\\anaconda3\\Lib\\http\\client.py:318\u001b[0m, in \u001b[0;36mHTTPResponse.begin\u001b[1;34m(self)\u001b[0m\n\u001b[0;32m    316\u001b[0m \u001b[38;5;66;03m# read until we get a non-100 response\u001b[39;00m\n\u001b[0;32m    317\u001b[0m \u001b[38;5;28;01mwhile\u001b[39;00m \u001b[38;5;28;01mTrue\u001b[39;00m:\n\u001b[1;32m--> 318\u001b[0m     version, status, reason \u001b[38;5;241m=\u001b[39m \u001b[38;5;28mself\u001b[39m\u001b[38;5;241m.\u001b[39m_read_status()\n\u001b[0;32m    319\u001b[0m     \u001b[38;5;28;01mif\u001b[39;00m status \u001b[38;5;241m!=\u001b[39m CONTINUE:\n\u001b[0;32m    320\u001b[0m         \u001b[38;5;28;01mbreak\u001b[39;00m\n",
      "File \u001b[1;32m~\\anaconda3\\Lib\\http\\client.py:279\u001b[0m, in \u001b[0;36mHTTPResponse._read_status\u001b[1;34m(self)\u001b[0m\n\u001b[0;32m    278\u001b[0m \u001b[38;5;28;01mdef\u001b[39;00m \u001b[38;5;21m_read_status\u001b[39m(\u001b[38;5;28mself\u001b[39m):\n\u001b[1;32m--> 279\u001b[0m     line \u001b[38;5;241m=\u001b[39m \u001b[38;5;28mstr\u001b[39m(\u001b[38;5;28mself\u001b[39m\u001b[38;5;241m.\u001b[39mfp\u001b[38;5;241m.\u001b[39mreadline(_MAXLINE \u001b[38;5;241m+\u001b[39m \u001b[38;5;241m1\u001b[39m), \u001b[38;5;124m\"\u001b[39m\u001b[38;5;124miso-8859-1\u001b[39m\u001b[38;5;124m\"\u001b[39m)\n\u001b[0;32m    280\u001b[0m     \u001b[38;5;28;01mif\u001b[39;00m \u001b[38;5;28mlen\u001b[39m(line) \u001b[38;5;241m>\u001b[39m _MAXLINE:\n\u001b[0;32m    281\u001b[0m         \u001b[38;5;28;01mraise\u001b[39;00m LineTooLong(\u001b[38;5;124m\"\u001b[39m\u001b[38;5;124mstatus line\u001b[39m\u001b[38;5;124m\"\u001b[39m)\n",
      "File \u001b[1;32m~\\anaconda3\\Lib\\socket.py:706\u001b[0m, in \u001b[0;36mSocketIO.readinto\u001b[1;34m(self, b)\u001b[0m\n\u001b[0;32m    704\u001b[0m \u001b[38;5;28;01mwhile\u001b[39;00m \u001b[38;5;28;01mTrue\u001b[39;00m:\n\u001b[0;32m    705\u001b[0m     \u001b[38;5;28;01mtry\u001b[39;00m:\n\u001b[1;32m--> 706\u001b[0m         \u001b[38;5;28;01mreturn\u001b[39;00m \u001b[38;5;28mself\u001b[39m\u001b[38;5;241m.\u001b[39m_sock\u001b[38;5;241m.\u001b[39mrecv_into(b)\n\u001b[0;32m    707\u001b[0m     \u001b[38;5;28;01mexcept\u001b[39;00m timeout:\n\u001b[0;32m    708\u001b[0m         \u001b[38;5;28mself\u001b[39m\u001b[38;5;241m.\u001b[39m_timeout_occurred \u001b[38;5;241m=\u001b[39m \u001b[38;5;28;01mTrue\u001b[39;00m\n",
      "File \u001b[1;32m~\\anaconda3\\Lib\\ssl.py:1311\u001b[0m, in \u001b[0;36mSSLSocket.recv_into\u001b[1;34m(self, buffer, nbytes, flags)\u001b[0m\n\u001b[0;32m   1307\u001b[0m     \u001b[38;5;28;01mif\u001b[39;00m flags \u001b[38;5;241m!=\u001b[39m \u001b[38;5;241m0\u001b[39m:\n\u001b[0;32m   1308\u001b[0m         \u001b[38;5;28;01mraise\u001b[39;00m \u001b[38;5;167;01mValueError\u001b[39;00m(\n\u001b[0;32m   1309\u001b[0m           \u001b[38;5;124m\"\u001b[39m\u001b[38;5;124mnon-zero flags not allowed in calls to recv_into() on \u001b[39m\u001b[38;5;132;01m%s\u001b[39;00m\u001b[38;5;124m\"\u001b[39m \u001b[38;5;241m%\u001b[39m\n\u001b[0;32m   1310\u001b[0m           \u001b[38;5;28mself\u001b[39m\u001b[38;5;241m.\u001b[39m\u001b[38;5;18m__class__\u001b[39m)\n\u001b[1;32m-> 1311\u001b[0m     \u001b[38;5;28;01mreturn\u001b[39;00m \u001b[38;5;28mself\u001b[39m\u001b[38;5;241m.\u001b[39mread(nbytes, buffer)\n\u001b[0;32m   1312\u001b[0m \u001b[38;5;28;01melse\u001b[39;00m:\n\u001b[0;32m   1313\u001b[0m     \u001b[38;5;28;01mreturn\u001b[39;00m \u001b[38;5;28msuper\u001b[39m()\u001b[38;5;241m.\u001b[39mrecv_into(buffer, nbytes, flags)\n",
      "File \u001b[1;32m~\\anaconda3\\Lib\\ssl.py:1167\u001b[0m, in \u001b[0;36mSSLSocket.read\u001b[1;34m(self, len, buffer)\u001b[0m\n\u001b[0;32m   1165\u001b[0m \u001b[38;5;28;01mtry\u001b[39;00m:\n\u001b[0;32m   1166\u001b[0m     \u001b[38;5;28;01mif\u001b[39;00m buffer \u001b[38;5;129;01mis\u001b[39;00m \u001b[38;5;129;01mnot\u001b[39;00m \u001b[38;5;28;01mNone\u001b[39;00m:\n\u001b[1;32m-> 1167\u001b[0m         \u001b[38;5;28;01mreturn\u001b[39;00m \u001b[38;5;28mself\u001b[39m\u001b[38;5;241m.\u001b[39m_sslobj\u001b[38;5;241m.\u001b[39mread(\u001b[38;5;28mlen\u001b[39m, buffer)\n\u001b[0;32m   1168\u001b[0m     \u001b[38;5;28;01melse\u001b[39;00m:\n\u001b[0;32m   1169\u001b[0m         \u001b[38;5;28;01mreturn\u001b[39;00m \u001b[38;5;28mself\u001b[39m\u001b[38;5;241m.\u001b[39m_sslobj\u001b[38;5;241m.\u001b[39mread(\u001b[38;5;28mlen\u001b[39m)\n",
      "\u001b[1;31mKeyboardInterrupt\u001b[0m: "
     ]
    }
   ],
   "source": [
    "for YEAR in tqdm_notebook(YEARS_TO_GET, desc='YEARS', position=0):\n",
    "    # Defining the JSON file to store results for year\n",
    "    JSON_FILE = f'{FOLDER}tmdb_api_results_{YEAR}.json'\n",
    "    # check if the file already exists\n",
    "    file_exists = os.path.isfile(JSON_FILE)\n",
    "    # if JSON_FILE does not exist: create it\n",
    "    if file_exists == False:\n",
    "        # Print a message indicating the file is being created\n",
    "        print(f\"Creating {JSON_FILE}) for API results for {YEAR}\")\n",
    "        # save an empty dict with just \"imdb_id\" to the new json file.\n",
    "        with open(JSON_FILE, 'w') as f:\n",
    "            json.dump([{'imdb_id':0}],f)\n",
    "    else:\n",
    "        print(f\"The file {JSON_FILE} already exists\")\n",
    "    # saving new year as current df\n",
    "    df = df_title_basics.loc[df_title_basics['startYear']==YEAR].copy()\n",
    "    # saving movie ids to a seperate variable\n",
    "    movie_ids = df['tconst']\n",
    "    # load existing data from json into dataframe called \"previous_df\"\n",
    "    previous_df = pd.read_json(JSON_FILE)\n",
    "    # filter out any ids that are already in the JSON_FILE\n",
    "    movie_ids_to_get = movie_ids[~movie_ids.isin(previous_df['imdb_id'])]\n",
    "    print(f\"Number of Already Retrieved movie ids relative to year {YEAR} = {len(previous_df)}\")\n",
    "    print(f\"Number of Remaining movie ids to GET relative to year {YEAR} = {len(movie_ids_to_get)}\")\n",
    "    # loop through movie_ids_to_get with a tqdm progress bar\n",
    "    for movie_id in tqdm_notebook(movie_ids_to_get, f\"Movies from {YEAR}\"):\n",
    "        # Get index and movie id from list\n",
    "        try:\n",
    "            temp = get_movie_with_rating(movie_id)\n",
    "            # append/extend results to existing file using the pre-made function\n",
    "            write_json(temp,JSON_FILE)\n",
    "            # Short 20 ms sleep to prevent overwhelming server\n",
    "            time.sleep(0.02)\n",
    "        except Exception as e:\n",
    "            errors.append([movie_id, e, YEAR])\n",
    "    print(f\"- Total errors of {YEAR}: {len(errors)}\")\n",
    "    #Save the year's results as csv.gz file\n",
    "    try:\n",
    "        final_year_df = pd.read_json(JSON_FILE)\n",
    "        final_year_df.to_csv(f\"{FOLDER}final_tmdb_data_{YEAR}_{len(movie_ids_to_get)}.csv.gz\", compression=\"gzip\", index=False)\n",
    "    except:\n",
    "        pass"
   ]
  },
  {
   "cell_type": "code",
   "execution_count": null,
   "id": "91dccd9e-bbbd-41d7-b1a5-c6160b5738dd",
   "metadata": {},
   "outputs": [],
   "source": [
    "# Use glob to get all filepaths that match the pattern (*=wildcard)\n",
    "tmdb_files = sorted(glob.glob(\"Data/final_tmdb_data*.csv.gz\"))\n",
    "tmdb_files\n"
   ]
  },
  {
   "cell_type": "code",
   "execution_count": null,
   "id": "81b7156c-8d53-4cde-b534-eeaae5808224",
   "metadata": {},
   "outputs": [],
   "source": [
    "import glob\n",
    "# Use glob to get all filepaths that match the pattern (*=wildcard)\n",
    "tmdb_files = sorted(glob.glob(\"Data/final_tmdb_data*.csv.gz\"))\n",
    "tmdb_files"
   ]
  },
  {
   "cell_type": "code",
   "execution_count": null,
   "id": "d47176fe-45e6-4188-8824-78a88c20fd69",
   "metadata": {},
   "outputs": [],
   "source": [
    "\"\"\"\n",
    "\n",
    "# Adding lineterminator arg to get around error\n",
    "df = pd.concat([pd.read_csv(f, lineterminator='\\n') for f in files] )\n"
   ]
  }
 ],
 "metadata": {
  "kernelspec": {
   "display_name": "Python (dojo-env)",
   "language": "python",
   "name": "dojo-env"
  },
  "language_info": {
   "codemirror_mode": {
    "name": "ipython",
    "version": 3
   },
   "file_extension": ".py",
   "mimetype": "text/x-python",
   "name": "python",
   "nbconvert_exporter": "python",
   "pygments_lexer": "ipython3",
   "version": "3.11.5"
  },
  "widgets": {
   "application/vnd.jupyter.widget-state+json": {
    "state": {
     "003c15b40e6d4e8bae417001eafc2a43": {
      "model_module": "@jupyter-widgets/base",
      "model_module_version": "2.0.0",
      "model_name": "LayoutModel",
      "state": {}
     },
     "017c302aa13f4a3c9ccd73900afe7be2": {
      "model_module": "@jupyter-widgets/base",
      "model_module_version": "2.0.0",
      "model_name": "LayoutModel",
      "state": {}
     },
     "02b3cc2f0441449bb5c5f763f1cbb0aa": {
      "model_module": "@jupyter-widgets/base",
      "model_module_version": "2.0.0",
      "model_name": "LayoutModel",
      "state": {}
     },
     "02b594dc802540bc8927405dee6de62b": {
      "model_module": "@jupyter-widgets/base",
      "model_module_version": "2.0.0",
      "model_name": "LayoutModel",
      "state": {}
     },
     "04c7f72682544160be294bff82b6f53d": {
      "model_module": "@jupyter-widgets/controls",
      "model_module_version": "2.0.0",
      "model_name": "HTMLModel",
      "state": {
       "layout": "IPY_MODEL_f6e113b032824133853720a476de9a53",
       "style": "IPY_MODEL_4f7065e24c6e473192cdad73c487ed47",
       "value": "Movies from 2001:   2%"
      }
     },
     "086a3d09c46d437faea544a35ac4182a": {
      "model_module": "@jupyter-widgets/base",
      "model_module_version": "2.0.0",
      "model_name": "LayoutModel",
      "state": {}
     },
     "08cccd09f2014be2b7b971e0aea6b68d": {
      "model_module": "@jupyter-widgets/controls",
      "model_module_version": "2.0.0",
      "model_name": "ProgressStyleModel",
      "state": {
       "description_width": ""
      }
     },
     "0a40a6f7c0404998a1ce6490e2f57641": {
      "model_module": "@jupyter-widgets/controls",
      "model_module_version": "2.0.0",
      "model_name": "HTMLStyleModel",
      "state": {
       "description_width": "",
       "font_size": null,
       "text_color": null
      }
     },
     "0a481735416b470ea0193d085dcbbbe8": {
      "model_module": "@jupyter-widgets/controls",
      "model_module_version": "2.0.0",
      "model_name": "HTMLModel",
      "state": {
       "layout": "IPY_MODEL_82cf91f5a48642129b72660e76c2dc3e",
       "style": "IPY_MODEL_6bcb72b154284841b018deebb4cef1d8",
       "value": " 0/2 [00:46&lt;?, ?it/s]"
      }
     },
     "0a5d32a148ba4cf6be1cb2cbf917024b": {
      "model_module": "@jupyter-widgets/controls",
      "model_module_version": "2.0.0",
      "model_name": "HTMLModel",
      "state": {
       "layout": "IPY_MODEL_02b594dc802540bc8927405dee6de62b",
       "style": "IPY_MODEL_66ee9d24dc1f45f4aa3c30a1d301b08b",
       "value": "YEARS:   0%"
      }
     },
     "0b519c5bfd25466a802c6d65ea9aae2b": {
      "model_module": "@jupyter-widgets/controls",
      "model_module_version": "2.0.0",
      "model_name": "HTMLModel",
      "state": {
       "layout": "IPY_MODEL_4507e2dca32342f2bccbec7710b90a9e",
       "style": "IPY_MODEL_e980f25ec8fb49f8a3645f2e54a1ffb5",
       "value": " 183/210 [03:09&lt;00:28,  1.05s/it]"
      }
     },
     "0cdc21547a324ff5be197a98bef0bcfe": {
      "model_module": "@jupyter-widgets/controls",
      "model_module_version": "2.0.0",
      "model_name": "ProgressStyleModel",
      "state": {
       "description_width": ""
      }
     },
     "0d72507c79ea4145a095b20b4fee78fe": {
      "model_module": "@jupyter-widgets/controls",
      "model_module_version": "2.0.0",
      "model_name": "HTMLModel",
      "state": {
       "layout": "IPY_MODEL_9e4b475c64c84996ab39781cd8bc53e2",
       "style": "IPY_MODEL_cb0da4c0fbc144e9a07a8f09928963fd",
       "value": "Movies from 2001: 100%"
      }
     },
     "0e1ccd58748b42439cb0d9c38af0a20b": {
      "model_module": "@jupyter-widgets/base",
      "model_module_version": "2.0.0",
      "model_name": "LayoutModel",
      "state": {}
     },
     "0edca745462842c7a0fcdcdb64609ff4": {
      "model_module": "@jupyter-widgets/controls",
      "model_module_version": "2.0.0",
      "model_name": "HTMLModel",
      "state": {
       "layout": "IPY_MODEL_1c45024a3bf845d89f3b6cf11d14cfdb",
       "style": "IPY_MODEL_82579dfbf22a40f1aaacfd9f2c909bf6",
       "value": "Movies from 2002:  35%"
      }
     },
     "0f16e9ee0b75447f818234bbddac4881": {
      "model_module": "@jupyter-widgets/base",
      "model_module_version": "2.0.0",
      "model_name": "LayoutModel",
      "state": {}
     },
     "117832196f3748d0be0548f2e31f0440": {
      "model_module": "@jupyter-widgets/controls",
      "model_module_version": "2.0.0",
      "model_name": "FloatProgressModel",
      "state": {
       "bar_style": "danger",
       "layout": "IPY_MODEL_d9fefbaccd924be1977371967845c1c9",
       "max": 3862,
       "style": "IPY_MODEL_656fc0ed29b64ff7b79a69ccd2d66007",
       "value": 1671
      }
     },
     "11ca186ea1c44ac9b099e23fb321b72e": {
      "model_module": "@jupyter-widgets/controls",
      "model_module_version": "2.0.0",
      "model_name": "FloatProgressModel",
      "state": {
       "bar_style": "danger",
       "layout": "IPY_MODEL_1fee3fbec9644761b335c3f2f6f069b1",
       "max": 3862,
       "style": "IPY_MODEL_e6846c3378884a56b14a748a713a26db",
       "value": 59
      }
     },
     "1326295f2fed489bb88417e231810fc7": {
      "model_module": "@jupyter-widgets/base",
      "model_module_version": "2.0.0",
      "model_name": "LayoutModel",
      "state": {}
     },
     "14525605342a45898aca6426379b378d": {
      "model_module": "@jupyter-widgets/controls",
      "model_module_version": "2.0.0",
      "model_name": "ProgressStyleModel",
      "state": {
       "description_width": ""
      }
     },
     "15ee130553e6447fbaae2fa29dc32ec4": {
      "model_module": "@jupyter-widgets/base",
      "model_module_version": "2.0.0",
      "model_name": "LayoutModel",
      "state": {}
     },
     "17fc7433f296436bb3353b6b3467f1ba": {
      "model_module": "@jupyter-widgets/controls",
      "model_module_version": "2.0.0",
      "model_name": "HTMLModel",
      "state": {
       "layout": "IPY_MODEL_33820564ba4b4ed987eaadf0547bdad7",
       "style": "IPY_MODEL_3e8815b198294cbdb37a1788ca522686",
       "value": " 1/2 [12:03&lt;03:30, 210.25s/it]"
      }
     },
     "18f978ec7e6c40c685bc081d5af134af": {
      "model_module": "@jupyter-widgets/controls",
      "model_module_version": "2.0.0",
      "model_name": "HTMLStyleModel",
      "state": {
       "description_width": "",
       "font_size": null,
       "text_color": null
      }
     },
     "195b0000c0794823a9ee5276ddf5c382": {
      "model_module": "@jupyter-widgets/controls",
      "model_module_version": "2.0.0",
      "model_name": "HTMLStyleModel",
      "state": {
       "description_width": "",
       "font_size": null,
       "text_color": null
      }
     },
     "195e3d297af7418da870084be6c6cc55": {
      "model_module": "@jupyter-widgets/controls",
      "model_module_version": "2.0.0",
      "model_name": "HTMLStyleModel",
      "state": {
       "description_width": "",
       "font_size": null,
       "text_color": null
      }
     },
     "1a498bde93104b839e29e7dd7f30393f": {
      "model_module": "@jupyter-widgets/base",
      "model_module_version": "2.0.0",
      "model_name": "LayoutModel",
      "state": {}
     },
     "1b50012ec0a24118b83384fceb1d0a9e": {
      "model_module": "@jupyter-widgets/base",
      "model_module_version": "2.0.0",
      "model_name": "LayoutModel",
      "state": {}
     },
     "1b9f8aa5e1d94093af3fbbf15826fff6": {
      "model_module": "@jupyter-widgets/controls",
      "model_module_version": "2.0.0",
      "model_name": "HTMLModel",
      "state": {
       "layout": "IPY_MODEL_4f88b33aed4043a68bfc1212b505cb43",
       "style": "IPY_MODEL_bdc2d29699404363bdc72762b975d84e",
       "value": " 0/2 [03:10&lt;?, ?it/s]"
      }
     },
     "1c45024a3bf845d89f3b6cf11d14cfdb": {
      "model_module": "@jupyter-widgets/base",
      "model_module_version": "2.0.0",
      "model_name": "LayoutModel",
      "state": {}
     },
     "1c7e58c23db64fcc9e89c128d96abc9b": {
      "model_module": "@jupyter-widgets/controls",
      "model_module_version": "2.0.0",
      "model_name": "HTMLStyleModel",
      "state": {
       "description_width": "",
       "font_size": null,
       "text_color": null
      }
     },
     "1d49d6d08df244b19c6ba7c588f33c42": {
      "model_module": "@jupyter-widgets/controls",
      "model_module_version": "2.0.0",
      "model_name": "HTMLStyleModel",
      "state": {
       "description_width": "",
       "font_size": null,
       "text_color": null
      }
     },
     "1f26f9c5938f43f48b96596606236a65": {
      "model_module": "@jupyter-widgets/base",
      "model_module_version": "2.0.0",
      "model_name": "LayoutModel",
      "state": {}
     },
     "1fee3fbec9644761b335c3f2f6f069b1": {
      "model_module": "@jupyter-widgets/base",
      "model_module_version": "2.0.0",
      "model_name": "LayoutModel",
      "state": {}
     },
     "2151ba3481384bdbbd2f737bbd0ede5b": {
      "model_module": "@jupyter-widgets/controls",
      "model_module_version": "2.0.0",
      "model_name": "HBoxModel",
      "state": {
       "children": [
        "IPY_MODEL_be1b1d5f87f64389bf430d08b08666d8",
        "IPY_MODEL_e9dd9340675b4fbbb122f7be722cfde5",
        "IPY_MODEL_f81462ac549747c99ed23306fb571fa2"
       ],
       "layout": "IPY_MODEL_b769cc5cd89245d3a7d63647d3d428dc"
      }
     },
     "22dcf0f3c1bb4c6091e3e49e19d7d5b6": {
      "model_module": "@jupyter-widgets/base",
      "model_module_version": "2.0.0",
      "model_name": "LayoutModel",
      "state": {}
     },
     "230182aac3bc4c9996aa48756afccb6f": {
      "model_module": "@jupyter-widgets/controls",
      "model_module_version": "2.0.0",
      "model_name": "ProgressStyleModel",
      "state": {
       "description_width": ""
      }
     },
     "237fc15e86944b3895faabcc20697e74": {
      "model_module": "@jupyter-widgets/controls",
      "model_module_version": "2.0.0",
      "model_name": "FloatProgressModel",
      "state": {
       "bar_style": "danger",
       "layout": "IPY_MODEL_6d81f8311c024022b01d9cf4d432e918",
       "max": 2,
       "style": "IPY_MODEL_95ec35c017664beebbddf6605ec8aa2b"
      }
     },
     "23f297d537ab4c779db013db2b5eb10f": {
      "model_module": "@jupyter-widgets/controls",
      "model_module_version": "2.0.0",
      "model_name": "ProgressStyleModel",
      "state": {
       "description_width": ""
      }
     },
     "2456e55ddf2b40c2b40fb6bb8558f2b8": {
      "model_module": "@jupyter-widgets/controls",
      "model_module_version": "2.0.0",
      "model_name": "HTMLStyleModel",
      "state": {
       "description_width": "",
       "font_size": null,
       "text_color": null
      }
     },
     "258afb0d504c486a8b47132f1492b689": {
      "model_module": "@jupyter-widgets/controls",
      "model_module_version": "2.0.0",
      "model_name": "HTMLStyleModel",
      "state": {
       "description_width": "",
       "font_size": null,
       "text_color": null
      }
     },
     "26baa2343dc84180a754ea3f886fd4c0": {
      "model_module": "@jupyter-widgets/controls",
      "model_module_version": "2.0.0",
      "model_name": "ProgressStyleModel",
      "state": {
       "description_width": ""
      }
     },
     "26fd02b5b666495f961c8eec315ebcd7": {
      "model_module": "@jupyter-widgets/controls",
      "model_module_version": "2.0.0",
      "model_name": "HBoxModel",
      "state": {
       "children": [
        "IPY_MODEL_5a8d24747f954387bc328250a2f1dcf5",
        "IPY_MODEL_9e918f630c0a4c2ca80115f26731c538",
        "IPY_MODEL_ebf71964ea4b44eea316f04e2c2e3621"
       ],
       "layout": "IPY_MODEL_a62df88f327c4f068c1f8816a18f4b8e"
      }
     },
     "28446cbdfe7145d0a4940ccdf97d9b63": {
      "model_module": "@jupyter-widgets/base",
      "model_module_version": "2.0.0",
      "model_name": "LayoutModel",
      "state": {}
     },
     "2e4723e952db44ceb5e030a41bbab94d": {
      "model_module": "@jupyter-widgets/controls",
      "model_module_version": "2.0.0",
      "model_name": "HTMLStyleModel",
      "state": {
       "description_width": "",
       "font_size": null,
       "text_color": null
      }
     },
     "2f15e23bf9b8482ca38e081749b4c931": {
      "model_module": "@jupyter-widgets/controls",
      "model_module_version": "2.0.0",
      "model_name": "HTMLStyleModel",
      "state": {
       "description_width": "",
       "font_size": null,
       "text_color": null
      }
     },
     "2f417ee6e0014a57a9800ba0782c872b": {
      "model_module": "@jupyter-widgets/controls",
      "model_module_version": "2.0.0",
      "model_name": "FloatProgressModel",
      "state": {
       "bar_style": "danger",
       "layout": "IPY_MODEL_8308468021af47879c72b4d065e899a7",
       "max": 210,
       "style": "IPY_MODEL_08cccd09f2014be2b7b971e0aea6b68d",
       "value": 183
      }
     },
     "3085e093604d49f7891723828bab7c8c": {
      "model_module": "@jupyter-widgets/controls",
      "model_module_version": "2.0.0",
      "model_name": "ProgressStyleModel",
      "state": {
       "description_width": ""
      }
     },
     "31fdee2c607349409bd2acd992f81d04": {
      "model_module": "@jupyter-widgets/base",
      "model_module_version": "2.0.0",
      "model_name": "LayoutModel",
      "state": {}
     },
     "329a1bf70b05434f87f52a1b7aedb13f": {
      "model_module": "@jupyter-widgets/base",
      "model_module_version": "2.0.0",
      "model_name": "LayoutModel",
      "state": {}
     },
     "33820564ba4b4ed987eaadf0547bdad7": {
      "model_module": "@jupyter-widgets/base",
      "model_module_version": "2.0.0",
      "model_name": "LayoutModel",
      "state": {}
     },
     "36366fe2bcb847bfac870ba75174a4d3": {
      "model_module": "@jupyter-widgets/controls",
      "model_module_version": "2.0.0",
      "model_name": "HTMLModel",
      "state": {
       "layout": "IPY_MODEL_5de1f57d668b4bb39edc93d4580a497e",
       "style": "IPY_MODEL_77ad82518d354f41b84d3ad87525232c",
       "value": "Movies from 2001:  87%"
      }
     },
     "376e85ff60e049fe8906f64311133546": {
      "model_module": "@jupyter-widgets/controls",
      "model_module_version": "2.0.0",
      "model_name": "HBoxModel",
      "state": {
       "children": [
        "IPY_MODEL_36366fe2bcb847bfac870ba75174a4d3",
        "IPY_MODEL_2f417ee6e0014a57a9800ba0782c872b",
        "IPY_MODEL_0b519c5bfd25466a802c6d65ea9aae2b"
       ],
       "layout": "IPY_MODEL_a6a2a79ccd6543cc91b8f19a582c60d6"
      }
     },
     "38fcac147f8d4e85a5f966c987ec4bb8": {
      "model_module": "@jupyter-widgets/base",
      "model_module_version": "2.0.0",
      "model_name": "LayoutModel",
      "state": {}
     },
     "3994248a5ea94a57ae186de7a106a8d7": {
      "model_module": "@jupyter-widgets/base",
      "model_module_version": "2.0.0",
      "model_name": "LayoutModel",
      "state": {}
     },
     "3997a4fd1525450da3bdc504b69176ad": {
      "model_module": "@jupyter-widgets/base",
      "model_module_version": "2.0.0",
      "model_name": "LayoutModel",
      "state": {}
     },
     "39b274d52bad4c86b257f7de88d0b27c": {
      "model_module": "@jupyter-widgets/base",
      "model_module_version": "2.0.0",
      "model_name": "LayoutModel",
      "state": {}
     },
     "3a81e7b2991445bda3b937fede8aeb52": {
      "model_module": "@jupyter-widgets/base",
      "model_module_version": "2.0.0",
      "model_name": "LayoutModel",
      "state": {}
     },
     "3ace13e570db46d0969e209e9114da67": {
      "model_module": "@jupyter-widgets/controls",
      "model_module_version": "2.0.0",
      "model_name": "HTMLModel",
      "state": {
       "layout": "IPY_MODEL_c784b1719dcd4d63ab8edb9f8115d4a1",
       "style": "IPY_MODEL_dcfe63b655e54761862944ae35a7f7b1",
       "value": "YEARS:   0%"
      }
     },
     "3ba63b2353d040d99f77fda8bc695273": {
      "model_module": "@jupyter-widgets/base",
      "model_module_version": "2.0.0",
      "model_name": "LayoutModel",
      "state": {}
     },
     "3e8815b198294cbdb37a1788ca522686": {
      "model_module": "@jupyter-widgets/controls",
      "model_module_version": "2.0.0",
      "model_name": "HTMLStyleModel",
      "state": {
       "description_width": "",
       "font_size": null,
       "text_color": null
      }
     },
     "40d466cc07644ebd917dac5b0529b96a": {
      "model_module": "@jupyter-widgets/controls",
      "model_module_version": "2.0.0",
      "model_name": "HTMLStyleModel",
      "state": {
       "description_width": "",
       "font_size": null,
       "text_color": null
      }
     },
     "41722cf47b434e12b06d2c06957554bc": {
      "model_module": "@jupyter-widgets/base",
      "model_module_version": "2.0.0",
      "model_name": "LayoutModel",
      "state": {}
     },
     "417f600a42af424e898cf25a1d0de64f": {
      "model_module": "@jupyter-widgets/base",
      "model_module_version": "2.0.0",
      "model_name": "LayoutModel",
      "state": {}
     },
     "41a9fcf0ab1942319848592b2b93e19e": {
      "model_module": "@jupyter-widgets/controls",
      "model_module_version": "2.0.0",
      "model_name": "HTMLStyleModel",
      "state": {
       "description_width": "",
       "font_size": null,
       "text_color": null
      }
     },
     "425fbfd9a4624aec836466b9a0f62404": {
      "model_module": "@jupyter-widgets/base",
      "model_module_version": "2.0.0",
      "model_name": "LayoutModel",
      "state": {}
     },
     "444343749e704a6488e266efcec23193": {
      "model_module": "@jupyter-widgets/controls",
      "model_module_version": "2.0.0",
      "model_name": "HTMLStyleModel",
      "state": {
       "description_width": "",
       "font_size": null,
       "text_color": null
      }
     },
     "4505d46348c549f4bda0840fcac2a0ab": {
      "model_module": "@jupyter-widgets/controls",
      "model_module_version": "2.0.0",
      "model_name": "HTMLModel",
      "state": {
       "layout": "IPY_MODEL_6eb75e6e566d42e7942804cdb7bcb589",
       "style": "IPY_MODEL_aa3057aa7c614b7488d267366a8cb079",
       "value": " 29/1576 [01:06&lt;53:07,  2.06s/it]"
      }
     },
     "4507e2dca32342f2bccbec7710b90a9e": {
      "model_module": "@jupyter-widgets/base",
      "model_module_version": "2.0.0",
      "model_name": "LayoutModel",
      "state": {}
     },
     "45294c10abec4366b2dcc40ef8727b07": {
      "model_module": "@jupyter-widgets/base",
      "model_module_version": "2.0.0",
      "model_name": "LayoutModel",
      "state": {}
     },
     "45b2bc4d37264db7b1e283d74f2113d7": {
      "model_module": "@jupyter-widgets/controls",
      "model_module_version": "2.0.0",
      "model_name": "HTMLModel",
      "state": {
       "layout": "IPY_MODEL_ba5a9ee7cf8a4f67b83c8fe678c5ae3d",
       "style": "IPY_MODEL_5ba3a4d0dc1f4cf393ad1ac0cb4c1c07",
       "value": " 1/2 [-1:57:42&lt;34:34, 2074.96s/it]"
      }
     },
     "45dadd9eb11047f691b13314242bcbba": {
      "model_module": "@jupyter-widgets/controls",
      "model_module_version": "2.0.0",
      "model_name": "HTMLModel",
      "state": {
       "layout": "IPY_MODEL_e519874de9ea42bd9fb788617bbed108",
       "style": "IPY_MODEL_53a7c828f3e843eebaaca6e64c6559eb",
       "value": " 0/2 [01:06&lt;?, ?it/s]"
      }
     },
     "45e5db723b86448b9fa3d8155a8cf3fb": {
      "model_module": "@jupyter-widgets/base",
      "model_module_version": "2.0.0",
      "model_name": "LayoutModel",
      "state": {}
     },
     "4a53072cc36749efaca1848b150a81ba": {
      "model_module": "@jupyter-widgets/base",
      "model_module_version": "2.0.0",
      "model_name": "LayoutModel",
      "state": {}
     },
     "4b86d74fdf2a4b06b0984ad475a81f56": {
      "model_module": "@jupyter-widgets/controls",
      "model_module_version": "2.0.0",
      "model_name": "HBoxModel",
      "state": {
       "children": [
        "IPY_MODEL_9a5b278f2122468bb9487a7e741fda6c",
        "IPY_MODEL_b86db081eccb4752bfde1b554ae2e0bc",
        "IPY_MODEL_f5f9dd2699264da29a56e563152d76d2"
       ],
       "layout": "IPY_MODEL_52ce4391d0e44a53959c40790c7053c7"
      }
     },
     "4be155c4688249d0b0d2cb475f8c085b": {
      "model_module": "@jupyter-widgets/controls",
      "model_module_version": "2.0.0",
      "model_name": "HTMLStyleModel",
      "state": {
       "description_width": "",
       "font_size": null,
       "text_color": null
      }
     },
     "4c3559ddeecc485584a41d63a1410eba": {
      "model_module": "@jupyter-widgets/controls",
      "model_module_version": "2.0.0",
      "model_name": "ProgressStyleModel",
      "state": {
       "description_width": ""
      }
     },
     "4c6261bd1ab4432495c8b27ff6383c74": {
      "model_module": "@jupyter-widgets/controls",
      "model_module_version": "2.0.0",
      "model_name": "HTMLModel",
      "state": {
       "layout": "IPY_MODEL_bbe0dd61662e40d0acba370e26adaa8b",
       "style": "IPY_MODEL_d50df69d008a419380ebe367ce10ed4c",
       "value": " 837/837 [34:34&lt;00:00,  1.34s/it]"
      }
     },
     "4f7065e24c6e473192cdad73c487ed47": {
      "model_module": "@jupyter-widgets/controls",
      "model_module_version": "2.0.0",
      "model_name": "HTMLStyleModel",
      "state": {
       "description_width": "",
       "font_size": null,
       "text_color": null
      }
     },
     "4f88b33aed4043a68bfc1212b505cb43": {
      "model_module": "@jupyter-widgets/base",
      "model_module_version": "2.0.0",
      "model_name": "LayoutModel",
      "state": {}
     },
     "5175fcc4c98045da92cb4991713ea19b": {
      "model_module": "@jupyter-widgets/controls",
      "model_module_version": "2.0.0",
      "model_name": "HBoxModel",
      "state": {
       "children": [
        "IPY_MODEL_6298a43aee08473786dce8f2402cf828",
        "IPY_MODEL_59938538718b47338cf1b76d9661d832",
        "IPY_MODEL_7f8637f8608c4330ade2944a9c8c9cb6"
       ],
       "layout": "IPY_MODEL_f2ed2931e73d4536a8e8ac77a9cc005c"
      }
     },
     "52a2349c05404bbab7f843dd1978e577": {
      "model_module": "@jupyter-widgets/controls",
      "model_module_version": "2.0.0",
      "model_name": "HTMLModel",
      "state": {
       "layout": "IPY_MODEL_3994248a5ea94a57ae186de7a106a8d7",
       "style": "IPY_MODEL_195e3d297af7418da870084be6c6cc55",
       "value": " 0/2 [01:43&lt;?, ?it/s]"
      }
     },
     "52ce4391d0e44a53959c40790c7053c7": {
      "model_module": "@jupyter-widgets/base",
      "model_module_version": "2.0.0",
      "model_name": "LayoutModel",
      "state": {}
     },
     "53a7c828f3e843eebaaca6e64c6559eb": {
      "model_module": "@jupyter-widgets/controls",
      "model_module_version": "2.0.0",
      "model_name": "HTMLStyleModel",
      "state": {
       "description_width": "",
       "font_size": null,
       "text_color": null
      }
     },
     "54c5e0e859c74879831f20192f903809": {
      "model_module": "@jupyter-widgets/controls",
      "model_module_version": "2.0.0",
      "model_name": "HTMLModel",
      "state": {
       "layout": "IPY_MODEL_778c2466a90c4e07a49759bb41f96406",
       "style": "IPY_MODEL_61790e015cab418684c71605c6d31a86",
       "value": " 109/3862 [03:10&lt;1:59:52,  1.92s/it]"
      }
     },
     "5556ce7e0d3746c5911ea2010f63a6b8": {
      "model_module": "@jupyter-widgets/controls",
      "model_module_version": "2.0.0",
      "model_name": "HBoxModel",
      "state": {
       "children": [
        "IPY_MODEL_65415e44d63b48c1a7a548b66dceb930",
        "IPY_MODEL_b5ec6aee82f548a2b48d73a3ae2ef623",
        "IPY_MODEL_17fc7433f296436bb3353b6b3467f1ba"
       ],
       "layout": "IPY_MODEL_f95f28d240354513840987e4895ee36c"
      }
     },
     "57a12a9b56a34bc3b253f0a6ba12c8bf": {
      "model_module": "@jupyter-widgets/base",
      "model_module_version": "2.0.0",
      "model_name": "LayoutModel",
      "state": {}
     },
     "59938538718b47338cf1b76d9661d832": {
      "model_module": "@jupyter-widgets/controls",
      "model_module_version": "2.0.0",
      "model_name": "FloatProgressModel",
      "state": {
       "bar_style": "danger",
       "layout": "IPY_MODEL_dc17a594a43c4df6a3001ce5a2b656d5",
       "max": 2,
       "style": "IPY_MODEL_3085e093604d49f7891723828bab7c8c"
      }
     },
     "5a8d24747f954387bc328250a2f1dcf5": {
      "model_module": "@jupyter-widgets/controls",
      "model_module_version": "2.0.0",
      "model_name": "HTMLModel",
      "state": {
       "layout": "IPY_MODEL_0e1ccd58748b42439cb0d9c38af0a20b",
       "style": "IPY_MODEL_444343749e704a6488e266efcec23193",
       "value": "YEARS:   0%"
      }
     },
     "5ba1081c15e848c9bba78d3ef39464b5": {
      "model_module": "@jupyter-widgets/controls",
      "model_module_version": "2.0.0",
      "model_name": "FloatProgressModel",
      "state": {
       "bar_style": "danger",
       "layout": "IPY_MODEL_5eb9a6987ecf459789fc2f780600059a",
       "max": 210,
       "style": "IPY_MODEL_cce62d77c98d4fb18005b0d513a9fb74",
       "value": 26
      }
     },
     "5ba3a4d0dc1f4cf393ad1ac0cb4c1c07": {
      "model_module": "@jupyter-widgets/controls",
      "model_module_version": "2.0.0",
      "model_name": "HTMLStyleModel",
      "state": {
       "description_width": "",
       "font_size": null,
       "text_color": null
      }
     },
     "5bae320fb28147ada3943601fda81005": {
      "model_module": "@jupyter-widgets/controls",
      "model_module_version": "2.0.0",
      "model_name": "HTMLStyleModel",
      "state": {
       "description_width": "",
       "font_size": null,
       "text_color": null
      }
     },
     "5d7df379bb9b42018d4db4d0e040e68d": {
      "model_module": "@jupyter-widgets/controls",
      "model_module_version": "2.0.0",
      "model_name": "HBoxModel",
      "state": {
       "children": [
        "IPY_MODEL_6486e01751de46959eca590856eed905",
        "IPY_MODEL_b37d79bff2db4283b9476759ecbba198",
        "IPY_MODEL_45dadd9eb11047f691b13314242bcbba"
       ],
       "layout": "IPY_MODEL_f6728be406354839af4fccf6a49b5356"
      }
     },
     "5dda7980714e454282d2798f28a7794b": {
      "model_module": "@jupyter-widgets/controls",
      "model_module_version": "2.0.0",
      "model_name": "HTMLModel",
      "state": {
       "layout": "IPY_MODEL_790ce83012914d87a70be1ef81931bcc",
       "style": "IPY_MODEL_f56f81a99c584420861ae8c4420645fd",
       "value": "Movies from 2001:  43%"
      }
     },
     "5de1f57d668b4bb39edc93d4580a497e": {
      "model_module": "@jupyter-widgets/base",
      "model_module_version": "2.0.0",
      "model_name": "LayoutModel",
      "state": {}
     },
     "5e3dd23392f74ec8a79d240f6e6b8d74": {
      "model_module": "@jupyter-widgets/controls",
      "model_module_version": "2.0.0",
      "model_name": "HTMLStyleModel",
      "state": {
       "description_width": "",
       "font_size": null,
       "text_color": null
      }
     },
     "5e6591873402483a96f051273ba5f36a": {
      "model_module": "@jupyter-widgets/base",
      "model_module_version": "2.0.0",
      "model_name": "LayoutModel",
      "state": {}
     },
     "5eb9a6987ecf459789fc2f780600059a": {
      "model_module": "@jupyter-widgets/base",
      "model_module_version": "2.0.0",
      "model_name": "LayoutModel",
      "state": {}
     },
     "608089d41d8041efb025045bd7c7bc1c": {
      "model_module": "@jupyter-widgets/base",
      "model_module_version": "2.0.0",
      "model_name": "LayoutModel",
      "state": {}
     },
     "609636700bc14a288eac228819d790dc": {
      "model_module": "@jupyter-widgets/controls",
      "model_module_version": "2.0.0",
      "model_name": "HTMLModel",
      "state": {
       "layout": "IPY_MODEL_417f600a42af424e898cf25a1d0de64f",
       "style": "IPY_MODEL_7fc49d9a0edd4828864685ed70ebbc87",
       "value": " 0/2 [-1:54:16&lt;?, ?it/s]"
      }
     },
     "60c0cb34424a474f8437176b11baa6f2": {
      "model_module": "@jupyter-widgets/base",
      "model_module_version": "2.0.0",
      "model_name": "LayoutModel",
      "state": {}
     },
     "6128de02db20463c9a7ef1cd5f621025": {
      "model_module": "@jupyter-widgets/base",
      "model_module_version": "2.0.0",
      "model_name": "LayoutModel",
      "state": {}
     },
     "61790e015cab418684c71605c6d31a86": {
      "model_module": "@jupyter-widgets/controls",
      "model_module_version": "2.0.0",
      "model_name": "HTMLStyleModel",
      "state": {
       "description_width": "",
       "font_size": null,
       "text_color": null
      }
     },
     "6298a43aee08473786dce8f2402cf828": {
      "model_module": "@jupyter-widgets/controls",
      "model_module_version": "2.0.0",
      "model_name": "HTMLModel",
      "state": {
       "layout": "IPY_MODEL_4a53072cc36749efaca1848b150a81ba",
       "style": "IPY_MODEL_18f978ec7e6c40c685bc081d5af134af",
       "value": "YEARS:   0%"
      }
     },
     "63387e43da3c452ebab22e5e9bcbdb07": {
      "model_module": "@jupyter-widgets/controls",
      "model_module_version": "2.0.0",
      "model_name": "HTMLStyleModel",
      "state": {
       "description_width": "",
       "font_size": null,
       "text_color": null
      }
     },
     "6486e01751de46959eca590856eed905": {
      "model_module": "@jupyter-widgets/controls",
      "model_module_version": "2.0.0",
      "model_name": "HTMLModel",
      "state": {
       "layout": "IPY_MODEL_45e5db723b86448b9fa3d8155a8cf3fb",
       "style": "IPY_MODEL_74a207f46bb54c11a13d71a3c1a30e9d",
       "value": "YEARS:   0%"
      }
     },
     "65415e44d63b48c1a7a548b66dceb930": {
      "model_module": "@jupyter-widgets/controls",
      "model_module_version": "2.0.0",
      "model_name": "HTMLModel",
      "state": {
       "layout": "IPY_MODEL_673aa16bed304f5786999e1433f1365e",
       "style": "IPY_MODEL_74ee47f26dbf459c946ceb66b4abb329",
       "value": "YEARS:  50%"
      }
     },
     "656fc0ed29b64ff7b79a69ccd2d66007": {
      "model_module": "@jupyter-widgets/controls",
      "model_module_version": "2.0.0",
      "model_name": "ProgressStyleModel",
      "state": {
       "description_width": ""
      }
     },
     "66575d1a490141d694a5bcc2ba361dde": {
      "model_module": "@jupyter-widgets/controls",
      "model_module_version": "2.0.0",
      "model_name": "FloatProgressModel",
      "state": {
       "bar_style": "danger",
       "layout": "IPY_MODEL_814d955fe7c843a1ab94c23c14c8d8ef",
       "max": 2,
       "style": "IPY_MODEL_6e6f15631d93439fb3944963f7cf1d6a"
      }
     },
     "66ee9d24dc1f45f4aa3c30a1d301b08b": {
      "model_module": "@jupyter-widgets/controls",
      "model_module_version": "2.0.0",
      "model_name": "HTMLStyleModel",
      "state": {
       "description_width": "",
       "font_size": null,
       "text_color": null
      }
     },
     "673aa16bed304f5786999e1433f1365e": {
      "model_module": "@jupyter-widgets/base",
      "model_module_version": "2.0.0",
      "model_name": "LayoutModel",
      "state": {}
     },
     "6a1ed98cfe184fea99621462cc2c7021": {
      "model_module": "@jupyter-widgets/controls",
      "model_module_version": "2.0.0",
      "model_name": "FloatProgressModel",
      "state": {
       "bar_style": "danger",
       "layout": "IPY_MODEL_6128de02db20463c9a7ef1cd5f621025",
       "max": 2,
       "style": "IPY_MODEL_b74614ffda744c5cb4cbf4f2de06f68e"
      }
     },
     "6bcb72b154284841b018deebb4cef1d8": {
      "model_module": "@jupyter-widgets/controls",
      "model_module_version": "2.0.0",
      "model_name": "HTMLStyleModel",
      "state": {
       "description_width": "",
       "font_size": null,
       "text_color": null
      }
     },
     "6c0d9470fa92438698500016470ed58c": {
      "model_module": "@jupyter-widgets/base",
      "model_module_version": "2.0.0",
      "model_name": "LayoutModel",
      "state": {}
     },
     "6cb5a91f19a746ad98bcc5d7869f5c7c": {
      "model_module": "@jupyter-widgets/controls",
      "model_module_version": "2.0.0",
      "model_name": "HTMLStyleModel",
      "state": {
       "description_width": "",
       "font_size": null,
       "text_color": null
      }
     },
     "6d81f8311c024022b01d9cf4d432e918": {
      "model_module": "@jupyter-widgets/base",
      "model_module_version": "2.0.0",
      "model_name": "LayoutModel",
      "state": {}
     },
     "6e6f15631d93439fb3944963f7cf1d6a": {
      "model_module": "@jupyter-widgets/controls",
      "model_module_version": "2.0.0",
      "model_name": "ProgressStyleModel",
      "state": {
       "description_width": ""
      }
     },
     "6eb75e6e566d42e7942804cdb7bcb589": {
      "model_module": "@jupyter-widgets/base",
      "model_module_version": "2.0.0",
      "model_name": "LayoutModel",
      "state": {}
     },
     "6ed6f3e1023944feb243c83253ab2f25": {
      "model_module": "@jupyter-widgets/controls",
      "model_module_version": "2.0.0",
      "model_name": "FloatProgressModel",
      "state": {
       "bar_style": "danger",
       "layout": "IPY_MODEL_e006115cd51a4ae7a68e910be3c66cce",
       "max": 2,
       "style": "IPY_MODEL_d6119422640a4e27ac5656fa3d29c02d"
      }
     },
     "70b174c8a6b549e6b071d3a3a929a262": {
      "model_module": "@jupyter-widgets/controls",
      "model_module_version": "2.0.0",
      "model_name": "HTMLStyleModel",
      "state": {
       "description_width": "",
       "font_size": null,
       "text_color": null
      }
     },
     "73dc682b50da4a99869c6ea707c85191": {
      "model_module": "@jupyter-widgets/controls",
      "model_module_version": "2.0.0",
      "model_name": "HBoxModel",
      "state": {
       "children": [
        "IPY_MODEL_a1386a4ebbda4553b48ca01232552b87",
        "IPY_MODEL_f443db1d460248e789e608bcf3afbebc",
        "IPY_MODEL_4c6261bd1ab4432495c8b27ff6383c74"
       ],
       "layout": "IPY_MODEL_086a3d09c46d437faea544a35ac4182a"
      }
     },
     "748b34c292b5448f94279ce6941a347d": {
      "model_module": "@jupyter-widgets/controls",
      "model_module_version": "2.0.0",
      "model_name": "HTMLStyleModel",
      "state": {
       "description_width": "",
       "font_size": null,
       "text_color": null
      }
     },
     "74a207f46bb54c11a13d71a3c1a30e9d": {
      "model_module": "@jupyter-widgets/controls",
      "model_module_version": "2.0.0",
      "model_name": "HTMLStyleModel",
      "state": {
       "description_width": "",
       "font_size": null,
       "text_color": null
      }
     },
     "74caa436634a4a429f45e972aaba557e": {
      "model_module": "@jupyter-widgets/base",
      "model_module_version": "2.0.0",
      "model_name": "LayoutModel",
      "state": {}
     },
     "74ee47f26dbf459c946ceb66b4abb329": {
      "model_module": "@jupyter-widgets/controls",
      "model_module_version": "2.0.0",
      "model_name": "HTMLStyleModel",
      "state": {
       "description_width": "",
       "font_size": null,
       "text_color": null
      }
     },
     "75b9db01167444deb938f8146a94f99f": {
      "model_module": "@jupyter-widgets/base",
      "model_module_version": "2.0.0",
      "model_name": "LayoutModel",
      "state": {}
     },
     "778c2466a90c4e07a49759bb41f96406": {
      "model_module": "@jupyter-widgets/base",
      "model_module_version": "2.0.0",
      "model_name": "LayoutModel",
      "state": {}
     },
     "77ad82518d354f41b84d3ad87525232c": {
      "model_module": "@jupyter-widgets/controls",
      "model_module_version": "2.0.0",
      "model_name": "HTMLStyleModel",
      "state": {
       "description_width": "",
       "font_size": null,
       "text_color": null
      }
     },
     "784a158b27f84621b16b80ae28ef3b33": {
      "model_module": "@jupyter-widgets/controls",
      "model_module_version": "2.0.0",
      "model_name": "HBoxModel",
      "state": {
       "children": [
        "IPY_MODEL_c120cba929b142daa1ac1045269b42d6",
        "IPY_MODEL_83b61daa1761478881330fcf3439eb5b",
        "IPY_MODEL_ccefdaeae3a7420bb294c2cdfe20e1f9"
       ],
       "layout": "IPY_MODEL_cd3482e4a7ba48148f9014fe7aa0cb21"
      }
     },
     "78ddd045f55f4b0785f73d1760e8a90d": {
      "model_module": "@jupyter-widgets/controls",
      "model_module_version": "2.0.0",
      "model_name": "ProgressStyleModel",
      "state": {
       "description_width": ""
      }
     },
     "790ce83012914d87a70be1ef81931bcc": {
      "model_module": "@jupyter-widgets/base",
      "model_module_version": "2.0.0",
      "model_name": "LayoutModel",
      "state": {}
     },
     "7adc44231c9440608fb6bb4ea18497a7": {
      "model_module": "@jupyter-widgets/controls",
      "model_module_version": "2.0.0",
      "model_name": "HBoxModel",
      "state": {
       "children": [
        "IPY_MODEL_d8e77a7944904aa9bb636e6bdc6eb835",
        "IPY_MODEL_f98ae93a8a0a4691b5b1ba16f3bb65a3",
        "IPY_MODEL_54c5e0e859c74879831f20192f903809"
       ],
       "layout": "IPY_MODEL_b03d6f355c80499aa22d7511a7491abf"
      }
     },
     "7dd19d29ec63414e8af8d07e73ebbcf2": {
      "model_module": "@jupyter-widgets/controls",
      "model_module_version": "2.0.0",
      "model_name": "HTMLModel",
      "state": {
       "layout": "IPY_MODEL_daedb545db764315826506c9daeb7be7",
       "style": "IPY_MODEL_2456e55ddf2b40c2b40fb6bb8558f2b8",
       "value": " 0/2 [-1:28:10&lt;?, ?it/s]"
      }
     },
     "7f4fd587261f4c5c845244be3452e16d": {
      "model_module": "@jupyter-widgets/base",
      "model_module_version": "2.0.0",
      "model_name": "LayoutModel",
      "state": {}
     },
     "7f8637f8608c4330ade2944a9c8c9cb6": {
      "model_module": "@jupyter-widgets/controls",
      "model_module_version": "2.0.0",
      "model_name": "HTMLModel",
      "state": {
       "layout": "IPY_MODEL_803f12e2d7634d4a83ecfe66403e8f22",
       "style": "IPY_MODEL_6cb5a91f19a746ad98bcc5d7869f5c7c",
       "value": " 0/2 [00:24&lt;?, ?it/s]"
      }
     },
     "7fc49d9a0edd4828864685ed70ebbc87": {
      "model_module": "@jupyter-widgets/controls",
      "model_module_version": "2.0.0",
      "model_name": "HTMLStyleModel",
      "state": {
       "description_width": "",
       "font_size": null,
       "text_color": null
      }
     },
     "7fc5fe37043141fa90b0881e127e36f5": {
      "model_module": "@jupyter-widgets/base",
      "model_module_version": "2.0.0",
      "model_name": "LayoutModel",
      "state": {}
     },
     "803f12e2d7634d4a83ecfe66403e8f22": {
      "model_module": "@jupyter-widgets/base",
      "model_module_version": "2.0.0",
      "model_name": "LayoutModel",
      "state": {}
     },
     "8066e6be1ab2400aa4d909dce4aa7db4": {
      "model_module": "@jupyter-widgets/controls",
      "model_module_version": "2.0.0",
      "model_name": "HTMLModel",
      "state": {
       "layout": "IPY_MODEL_88130aa0ceec414e98524a1f56ac4feb",
       "style": "IPY_MODEL_1c7e58c23db64fcc9e89c128d96abc9b",
       "value": "Movies from 2001:  18%"
      }
     },
     "80a42592a32f48f4a28a210bbc7ddc7d": {
      "model_module": "@jupyter-widgets/base",
      "model_module_version": "2.0.0",
      "model_name": "LayoutModel",
      "state": {}
     },
     "80ebb66209594005aa083999dfb0a17c": {
      "model_module": "@jupyter-widgets/controls",
      "model_module_version": "2.0.0",
      "model_name": "HTMLModel",
      "state": {
       "layout": "IPY_MODEL_3ba63b2353d040d99f77fda8bc695273",
       "style": "IPY_MODEL_5bae320fb28147ada3943601fda81005",
       "value": " 545/1572 [-1:23:07&lt;41:36,  2.43s/it]"
      }
     },
     "814d955fe7c843a1ab94c23c14c8d8ef": {
      "model_module": "@jupyter-widgets/base",
      "model_module_version": "2.0.0",
      "model_name": "LayoutModel",
      "state": {}
     },
     "82579dfbf22a40f1aaacfd9f2c909bf6": {
      "model_module": "@jupyter-widgets/controls",
      "model_module_version": "2.0.0",
      "model_name": "HTMLStyleModel",
      "state": {
       "description_width": "",
       "font_size": null,
       "text_color": null
      }
     },
     "82998a8b00b842a08dc31c78e911868b": {
      "model_module": "@jupyter-widgets/controls",
      "model_module_version": "2.0.0",
      "model_name": "HBoxModel",
      "state": {
       "children": [
        "IPY_MODEL_3ace13e570db46d0969e209e9114da67",
        "IPY_MODEL_237fc15e86944b3895faabcc20697e74",
        "IPY_MODEL_609636700bc14a288eac228819d790dc"
       ],
       "layout": "IPY_MODEL_aaa0fb910c1a495b9c4007826f1ba4b8"
      }
     },
     "82cf91f5a48642129b72660e76c2dc3e": {
      "model_module": "@jupyter-widgets/base",
      "model_module_version": "2.0.0",
      "model_name": "LayoutModel",
      "state": {}
     },
     "8308468021af47879c72b4d065e899a7": {
      "model_module": "@jupyter-widgets/base",
      "model_module_version": "2.0.0",
      "model_name": "LayoutModel",
      "state": {}
     },
     "83b61daa1761478881330fcf3439eb5b": {
      "model_module": "@jupyter-widgets/controls",
      "model_module_version": "2.0.0",
      "model_name": "FloatProgressModel",
      "state": {
       "bar_style": "danger",
       "layout": "IPY_MODEL_e7150b5588084f6eb03840c1084ae8d8",
       "max": 1575,
       "style": "IPY_MODEL_78ddd045f55f4b0785f73d1760e8a90d",
       "value": 7
      }
     },
     "85227cc208e444c4a4347c54ecf2b3c1": {
      "model_module": "@jupyter-widgets/controls",
      "model_module_version": "2.0.0",
      "model_name": "HTMLModel",
      "state": {
       "layout": "IPY_MODEL_d73f773c5f15499ea327ad5739f4bbf1",
       "style": "IPY_MODEL_41a9fcf0ab1942319848592b2b93e19e",
       "value": "YEARS:   0%"
      }
     },
     "858221de0d5c4d53826718d720fba0cb": {
      "model_module": "@jupyter-widgets/base",
      "model_module_version": "2.0.0",
      "model_name": "LayoutModel",
      "state": {}
     },
     "88130aa0ceec414e98524a1f56ac4feb": {
      "model_module": "@jupyter-widgets/base",
      "model_module_version": "2.0.0",
      "model_name": "LayoutModel",
      "state": {}
     },
     "8875ccc99b944b88ab74d6d74c2cdbde": {
      "model_module": "@jupyter-widgets/controls",
      "model_module_version": "2.0.0",
      "model_name": "HBoxModel",
      "state": {
       "children": [
        "IPY_MODEL_ce157d5c44994cedb1acbf600bdc9a14",
        "IPY_MODEL_b31c661a2aaf42608269b0b834ee6b6e",
        "IPY_MODEL_d4350ca5a7ba4391b5ba4bb75ed8f746"
       ],
       "layout": "IPY_MODEL_c6a10478b277452db980cf356e23e8d9"
      }
     },
     "899b8761a71249e19e68417a1f64b647": {
      "model_module": "@jupyter-widgets/base",
      "model_module_version": "2.0.0",
      "model_name": "LayoutModel",
      "state": {}
     },
     "8a40b21df1d2459da0394f685ef0438f": {
      "model_module": "@jupyter-widgets/base",
      "model_module_version": "2.0.0",
      "model_name": "LayoutModel",
      "state": {}
     },
     "8ca99c3bab60471c83af92751e26e628": {
      "model_module": "@jupyter-widgets/controls",
      "model_module_version": "2.0.0",
      "model_name": "ProgressStyleModel",
      "state": {
       "description_width": ""
      }
     },
     "95ec35c017664beebbddf6605ec8aa2b": {
      "model_module": "@jupyter-widgets/controls",
      "model_module_version": "2.0.0",
      "model_name": "ProgressStyleModel",
      "state": {
       "description_width": ""
      }
     },
     "982f598b27ea48e2959f26858afb19a8": {
      "model_module": "@jupyter-widgets/controls",
      "model_module_version": "2.0.0",
      "model_name": "HBoxModel",
      "state": {
       "children": [
        "IPY_MODEL_997feefa2511425cbbed267dd19201db",
        "IPY_MODEL_11ca186ea1c44ac9b099e23fb321b72e",
        "IPY_MODEL_9f2ca9dc8a8648b69c7e27907aa99980"
       ],
       "layout": "IPY_MODEL_38fcac147f8d4e85a5f966c987ec4bb8"
      }
     },
     "9976ff000f5e4ca28319669145c46744": {
      "model_module": "@jupyter-widgets/controls",
      "model_module_version": "2.0.0",
      "model_name": "ProgressStyleModel",
      "state": {
       "description_width": ""
      }
     },
     "997feefa2511425cbbed267dd19201db": {
      "model_module": "@jupyter-widgets/controls",
      "model_module_version": "2.0.0",
      "model_name": "HTMLModel",
      "state": {
       "layout": "IPY_MODEL_e73b1c53834e4b5baae4ca3cb6048816",
       "style": "IPY_MODEL_aceed9e1c1804d9fb12f5dc9c7eed476",
       "value": "Movies from 2001:   2%"
      }
     },
     "9a5b278f2122468bb9487a7e741fda6c": {
      "model_module": "@jupyter-widgets/controls",
      "model_module_version": "2.0.0",
      "model_name": "HTMLModel",
      "state": {
       "layout": "IPY_MODEL_425fbfd9a4624aec836466b9a0f62404",
       "style": "IPY_MODEL_2e4723e952db44ceb5e030a41bbab94d",
       "value": "YEARS:   0%"
      }
     },
     "9ac967382cd34dde9555a12da90ddd7a": {
      "model_module": "@jupyter-widgets/controls",
      "model_module_version": "2.0.0",
      "model_name": "FloatProgressModel",
      "state": {
       "bar_style": "success",
       "layout": "IPY_MODEL_7f4fd587261f4c5c845244be3452e16d",
       "max": 210,
       "style": "IPY_MODEL_9976ff000f5e4ca28319669145c46744",
       "value": 210
      }
     },
     "9b4afbd86f7b426cb599cb05e4e07c2c": {
      "model_module": "@jupyter-widgets/controls",
      "model_module_version": "2.0.0",
      "model_name": "HBoxModel",
      "state": {
       "children": [
        "IPY_MODEL_85227cc208e444c4a4347c54ecf2b3c1",
        "IPY_MODEL_6a1ed98cfe184fea99621462cc2c7021",
        "IPY_MODEL_7dd19d29ec63414e8af8d07e73ebbcf2"
       ],
       "layout": "IPY_MODEL_aa3f9cbb0a3143e2a5accb1393b13043"
      }
     },
     "9bf8e572b70d4fefa7126a12a04f26e6": {
      "model_module": "@jupyter-widgets/controls",
      "model_module_version": "2.0.0",
      "model_name": "HTMLModel",
      "state": {
       "layout": "IPY_MODEL_017c302aa13f4a3c9ccd73900afe7be2",
       "style": "IPY_MODEL_4be155c4688249d0b0d2cb475f8c085b",
       "value": "YEARS:   0%"
      }
     },
     "9cb24aaa2aa041fab460ffecff218dd6": {
      "model_module": "@jupyter-widgets/base",
      "model_module_version": "2.0.0",
      "model_name": "LayoutModel",
      "state": {}
     },
     "9d4ca3f48bbe43fdbc515c2bd16be267": {
      "model_module": "@jupyter-widgets/base",
      "model_module_version": "2.0.0",
      "model_name": "LayoutModel",
      "state": {}
     },
     "9d709e2161034c46ae6aeb1cf848dd38": {
      "model_module": "@jupyter-widgets/controls",
      "model_module_version": "2.0.0",
      "model_name": "HTMLModel",
      "state": {
       "layout": "IPY_MODEL_c69ee0484b2041088c1de7a0c3dbec41",
       "style": "IPY_MODEL_195b0000c0794823a9ee5276ddf5c382",
       "value": " 210/210 [03:29&lt;00:00,  1.02s/it]"
      }
     },
     "9e4b475c64c84996ab39781cd8bc53e2": {
      "model_module": "@jupyter-widgets/base",
      "model_module_version": "2.0.0",
      "model_name": "LayoutModel",
      "state": {}
     },
     "9e918f630c0a4c2ca80115f26731c538": {
      "model_module": "@jupyter-widgets/controls",
      "model_module_version": "2.0.0",
      "model_name": "FloatProgressModel",
      "state": {
       "bar_style": "danger",
       "layout": "IPY_MODEL_608089d41d8041efb025045bd7c7bc1c",
       "max": 2,
       "style": "IPY_MODEL_14525605342a45898aca6426379b378d"
      }
     },
     "9ec58261e5234aa0bda932c1e45745a9": {
      "model_module": "@jupyter-widgets/controls",
      "model_module_version": "2.0.0",
      "model_name": "HTMLStyleModel",
      "state": {
       "description_width": "",
       "font_size": null,
       "text_color": null
      }
     },
     "9f2ca9dc8a8648b69c7e27907aa99980": {
      "model_module": "@jupyter-widgets/controls",
      "model_module_version": "2.0.0",
      "model_name": "HTMLModel",
      "state": {
       "layout": "IPY_MODEL_9cb24aaa2aa041fab460ffecff218dd6",
       "style": "IPY_MODEL_d894c981a17a4cdeacb1773c1d92360c",
       "value": " 59/3862 [01:43&lt;1:46:32,  1.68s/it]"
      }
     },
     "9f53384faa134d9caf3c500cc95cae2d": {
      "model_module": "@jupyter-widgets/controls",
      "model_module_version": "2.0.0",
      "model_name": "HBoxModel",
      "state": {
       "children": [
        "IPY_MODEL_9bf8e572b70d4fefa7126a12a04f26e6",
        "IPY_MODEL_66575d1a490141d694a5bcc2ba361dde",
        "IPY_MODEL_0a481735416b470ea0193d085dcbbbe8"
       ],
       "layout": "IPY_MODEL_f480e8b5f55c4c41ae9cc17c8e42c550"
      }
     },
     "9f60a07af56545f9981ea60435e329cd": {
      "model_module": "@jupyter-widgets/controls",
      "model_module_version": "2.0.0",
      "model_name": "HTMLModel",
      "state": {
       "layout": "IPY_MODEL_f3ff7855f55a4c6faef345ccaf398a01",
       "style": "IPY_MODEL_63387e43da3c452ebab22e5e9bcbdb07",
       "value": " 26/210 [00:27&lt;03:14,  1.06s/it]"
      }
     },
     "a019f01b03bc4234a4e876fa7ba609e8": {
      "model_module": "@jupyter-widgets/controls",
      "model_module_version": "2.0.0",
      "model_name": "HBoxModel",
      "state": {
       "children": [
        "IPY_MODEL_0d72507c79ea4145a095b20b4fee78fe",
        "IPY_MODEL_9ac967382cd34dde9555a12da90ddd7a",
        "IPY_MODEL_9d709e2161034c46ae6aeb1cf848dd38"
       ],
       "layout": "IPY_MODEL_28446cbdfe7145d0a4940ccdf97d9b63"
      }
     },
     "a1386a4ebbda4553b48ca01232552b87": {
      "model_module": "@jupyter-widgets/controls",
      "model_module_version": "2.0.0",
      "model_name": "HTMLModel",
      "state": {
       "layout": "IPY_MODEL_22dcf0f3c1bb4c6091e3e49e19d7d5b6",
       "style": "IPY_MODEL_258afb0d504c486a8b47132f1492b689",
       "value": "Movies from 2001: 100%"
      }
     },
     "a1a23b43930c46f5a366009b033272cd": {
      "model_module": "@jupyter-widgets/controls",
      "model_module_version": "2.0.0",
      "model_name": "HBoxModel",
      "state": {
       "children": [
        "IPY_MODEL_0a5d32a148ba4cf6be1cb2cbf917024b",
        "IPY_MODEL_efd6e2a54b23491ca85601173186e5c7",
        "IPY_MODEL_fdf5e9f347dd4d538552a0fbe6aeb2bf"
       ],
       "layout": "IPY_MODEL_329a1bf70b05434f87f52a1b7aedb13f"
      }
     },
     "a2f3e8fdd6b8431583ba1a688f10cc52": {
      "model_module": "@jupyter-widgets/controls",
      "model_module_version": "2.0.0",
      "model_name": "FloatProgressModel",
      "state": {
       "bar_style": "danger",
       "layout": "IPY_MODEL_fb14799ee6b2407d896de1b7fded2e28",
       "max": 210,
       "style": "IPY_MODEL_ca17ba3e0acb457da5b9a9bf945b83e5",
       "value": 37
      }
     },
     "a48631ed306349029adb2bee06d12fe5": {
      "model_module": "@jupyter-widgets/base",
      "model_module_version": "2.0.0",
      "model_name": "LayoutModel",
      "state": {}
     },
     "a62df88f327c4f068c1f8816a18f4b8e": {
      "model_module": "@jupyter-widgets/base",
      "model_module_version": "2.0.0",
      "model_name": "LayoutModel",
      "state": {}
     },
     "a6a2a79ccd6543cc91b8f19a582c60d6": {
      "model_module": "@jupyter-widgets/base",
      "model_module_version": "2.0.0",
      "model_name": "LayoutModel",
      "state": {}
     },
     "a6f8d88a04e848869f65d8626f3b05f4": {
      "model_module": "@jupyter-widgets/base",
      "model_module_version": "2.0.0",
      "model_name": "LayoutModel",
      "state": {}
     },
     "a9578a9d4f1f4ef0a9334a0d6a19a646": {
      "model_module": "@jupyter-widgets/controls",
      "model_module_version": "2.0.0",
      "model_name": "FloatProgressModel",
      "state": {
       "bar_style": "danger",
       "layout": "IPY_MODEL_003c15b40e6d4e8bae417001eafc2a43",
       "max": 1576,
       "style": "IPY_MODEL_dadc096c6ac44060a028577424a0bbc7",
       "value": 29
      }
     },
     "aa3057aa7c614b7488d267366a8cb079": {
      "model_module": "@jupyter-widgets/controls",
      "model_module_version": "2.0.0",
      "model_name": "HTMLStyleModel",
      "state": {
       "description_width": "",
       "font_size": null,
       "text_color": null
      }
     },
     "aa3f9cbb0a3143e2a5accb1393b13043": {
      "model_module": "@jupyter-widgets/base",
      "model_module_version": "2.0.0",
      "model_name": "LayoutModel",
      "state": {}
     },
     "aaa0fb910c1a495b9c4007826f1ba4b8": {
      "model_module": "@jupyter-widgets/base",
      "model_module_version": "2.0.0",
      "model_name": "LayoutModel",
      "state": {}
     },
     "ab88af8900e94b69bc06643a35226fce": {
      "model_module": "@jupyter-widgets/controls",
      "model_module_version": "2.0.0",
      "model_name": "HTMLStyleModel",
      "state": {
       "description_width": "",
       "font_size": null,
       "text_color": null
      }
     },
     "acbc3b69608645a9932e2ba7156ecbc6": {
      "model_module": "@jupyter-widgets/controls",
      "model_module_version": "2.0.0",
      "model_name": "HTMLModel",
      "state": {
       "layout": "IPY_MODEL_5e6591873402483a96f051273ba5f36a",
       "style": "IPY_MODEL_d588b63db09242d4a73f511dc83d1b5a",
       "value": " 37/210 [00:45&lt;04:30,  1.56s/it]"
      }
     },
     "aceed9e1c1804d9fb12f5dc9c7eed476": {
      "model_module": "@jupyter-widgets/controls",
      "model_module_version": "2.0.0",
      "model_name": "HTMLStyleModel",
      "state": {
       "description_width": "",
       "font_size": null,
       "text_color": null
      }
     },
     "afbb8f26f0b34520ada44e8d37eda56d": {
      "model_module": "@jupyter-widgets/controls",
      "model_module_version": "2.0.0",
      "model_name": "HTMLModel",
      "state": {
       "layout": "IPY_MODEL_80a42592a32f48f4a28a210bbc7ddc7d",
       "style": "IPY_MODEL_ec7308b08be542dc909dd3a9e098f15c",
       "value": "Movies from 2001:  12%"
      }
     },
     "b03d6f355c80499aa22d7511a7491abf": {
      "model_module": "@jupyter-widgets/base",
      "model_module_version": "2.0.0",
      "model_name": "LayoutModel",
      "state": {}
     },
     "b31c661a2aaf42608269b0b834ee6b6e": {
      "model_module": "@jupyter-widgets/controls",
      "model_module_version": "2.0.0",
      "model_name": "FloatProgressModel",
      "state": {
       "bar_style": "danger",
       "layout": "IPY_MODEL_31fdee2c607349409bd2acd992f81d04",
       "max": 1046,
       "style": "IPY_MODEL_f1700fa0071840c4a7f32b80d853a147",
       "value": 230
      }
     },
     "b37d79bff2db4283b9476759ecbba198": {
      "model_module": "@jupyter-widgets/controls",
      "model_module_version": "2.0.0",
      "model_name": "FloatProgressModel",
      "state": {
       "bar_style": "danger",
       "layout": "IPY_MODEL_edb569866b9f41fbbe9ea99a411ec31a",
       "max": 2,
       "style": "IPY_MODEL_f15d083576a94303bec2a86576e3aeb4"
      }
     },
     "b38fd4c0f2d1497a9ba3c453e5b730f3": {
      "model_module": "@jupyter-widgets/controls",
      "model_module_version": "2.0.0",
      "model_name": "HTMLStyleModel",
      "state": {
       "description_width": "",
       "font_size": null,
       "text_color": null
      }
     },
     "b5326c2819664f7585d9687381cd0cb2": {
      "model_module": "@jupyter-widgets/base",
      "model_module_version": "2.0.0",
      "model_name": "LayoutModel",
      "state": {}
     },
     "b5ec6aee82f548a2b48d73a3ae2ef623": {
      "model_module": "@jupyter-widgets/controls",
      "model_module_version": "2.0.0",
      "model_name": "FloatProgressModel",
      "state": {
       "bar_style": "danger",
       "layout": "IPY_MODEL_b7c377472cbe4a479d2452bd67d9045b",
       "max": 2,
       "style": "IPY_MODEL_26baa2343dc84180a754ea3f886fd4c0",
       "value": 1
      }
     },
     "b74614ffda744c5cb4cbf4f2de06f68e": {
      "model_module": "@jupyter-widgets/controls",
      "model_module_version": "2.0.0",
      "model_name": "ProgressStyleModel",
      "state": {
       "description_width": ""
      }
     },
     "b769cc5cd89245d3a7d63647d3d428dc": {
      "model_module": "@jupyter-widgets/base",
      "model_module_version": "2.0.0",
      "model_name": "LayoutModel",
      "state": {}
     },
     "b7c377472cbe4a479d2452bd67d9045b": {
      "model_module": "@jupyter-widgets/base",
      "model_module_version": "2.0.0",
      "model_name": "LayoutModel",
      "state": {}
     },
     "b82e09960e9349f79f2abb5c5ee0f6d4": {
      "model_module": "@jupyter-widgets/controls",
      "model_module_version": "2.0.0",
      "model_name": "HTMLStyleModel",
      "state": {
       "description_width": "",
       "font_size": null,
       "text_color": null
      }
     },
     "b86db081eccb4752bfde1b554ae2e0bc": {
      "model_module": "@jupyter-widgets/controls",
      "model_module_version": "2.0.0",
      "model_name": "FloatProgressModel",
      "state": {
       "bar_style": "danger",
       "layout": "IPY_MODEL_3997a4fd1525450da3bdc504b69176ad",
       "max": 2,
       "style": "IPY_MODEL_8ca99c3bab60471c83af92751e26e628"
      }
     },
     "b882f4565e88443aad76eee029a94370": {
      "model_module": "@jupyter-widgets/base",
      "model_module_version": "2.0.0",
      "model_name": "LayoutModel",
      "state": {}
     },
     "ba5a9ee7cf8a4f67b83c8fe678c5ae3d": {
      "model_module": "@jupyter-widgets/base",
      "model_module_version": "2.0.0",
      "model_name": "LayoutModel",
      "state": {}
     },
     "bb27dff014b7475cbacb66165cad4925": {
      "model_module": "@jupyter-widgets/base",
      "model_module_version": "2.0.0",
      "model_name": "LayoutModel",
      "state": {}
     },
     "bbe0dd61662e40d0acba370e26adaa8b": {
      "model_module": "@jupyter-widgets/base",
      "model_module_version": "2.0.0",
      "model_name": "LayoutModel",
      "state": {}
     },
     "bc9de6d99a80438e81b2e18651bb25e1": {
      "model_module": "@jupyter-widgets/controls",
      "model_module_version": "2.0.0",
      "model_name": "HTMLModel",
      "state": {
       "layout": "IPY_MODEL_41722cf47b434e12b06d2c06957554bc",
       "style": "IPY_MODEL_b38fd4c0f2d1497a9ba3c453e5b730f3",
       "value": "YEARS:  50%"
      }
     },
     "bdc2d29699404363bdc72762b975d84e": {
      "model_module": "@jupyter-widgets/controls",
      "model_module_version": "2.0.0",
      "model_name": "HTMLStyleModel",
      "state": {
       "description_width": "",
       "font_size": null,
       "text_color": null
      }
     },
     "be1b1d5f87f64389bf430d08b08666d8": {
      "model_module": "@jupyter-widgets/controls",
      "model_module_version": "2.0.0",
      "model_name": "HTMLModel",
      "state": {
       "layout": "IPY_MODEL_b882f4565e88443aad76eee029a94370",
       "style": "IPY_MODEL_9ec58261e5234aa0bda932c1e45745a9",
       "value": "Movies from 2001:  49%"
      }
     },
     "bf112ecd5f46451396213b1ce8d8f791": {
      "model_module": "@jupyter-widgets/controls",
      "model_module_version": "2.0.0",
      "model_name": "HBoxModel",
      "state": {
       "children": [
        "IPY_MODEL_d4ce40f2e9424d5abdeb651ced190dd6",
        "IPY_MODEL_ec62e55a9f6840819b0d3850ebf4703a",
        "IPY_MODEL_1b9f8aa5e1d94093af3fbbf15826fff6"
       ],
       "layout": "IPY_MODEL_9d4ca3f48bbe43fdbc515c2bd16be267"
      }
     },
     "bf7c4e05cb47478fa797341029f9e7ec": {
      "model_module": "@jupyter-widgets/controls",
      "model_module_version": "2.0.0",
      "model_name": "HTMLStyleModel",
      "state": {
       "description_width": "",
       "font_size": null,
       "text_color": null
      }
     },
     "c0e3ee58c47a4dc39a9458fd5078a1bc": {
      "model_module": "@jupyter-widgets/controls",
      "model_module_version": "2.0.0",
      "model_name": "HTMLStyleModel",
      "state": {
       "description_width": "",
       "font_size": null,
       "text_color": null
      }
     },
     "c120cba929b142daa1ac1045269b42d6": {
      "model_module": "@jupyter-widgets/controls",
      "model_module_version": "2.0.0",
      "model_name": "HTMLModel",
      "state": {
       "layout": "IPY_MODEL_858221de0d5c4d53826718d720fba0cb",
       "style": "IPY_MODEL_bf7c4e05cb47478fa797341029f9e7ec",
       "value": "Movies from 2001:   0%"
      }
     },
     "c3864d1ed8a344259e36855e51b04e8e": {
      "model_module": "@jupyter-widgets/controls",
      "model_module_version": "2.0.0",
      "model_name": "ProgressStyleModel",
      "state": {
       "description_width": ""
      }
     },
     "c3a6f29aae204ddc94a52fc1dafad902": {
      "model_module": "@jupyter-widgets/base",
      "model_module_version": "2.0.0",
      "model_name": "LayoutModel",
      "state": {}
     },
     "c69ee0484b2041088c1de7a0c3dbec41": {
      "model_module": "@jupyter-widgets/base",
      "model_module_version": "2.0.0",
      "model_name": "LayoutModel",
      "state": {}
     },
     "c6a10478b277452db980cf356e23e8d9": {
      "model_module": "@jupyter-widgets/base",
      "model_module_version": "2.0.0",
      "model_name": "LayoutModel",
      "state": {}
     },
     "c7790f911e72447b96b1cc085dd8dcf9": {
      "model_module": "@jupyter-widgets/controls",
      "model_module_version": "2.0.0",
      "model_name": "HBoxModel",
      "state": {
       "children": [
        "IPY_MODEL_fac37e3432184fab9947b04a21ec0ea6",
        "IPY_MODEL_6ed6f3e1023944feb243c83253ab2f25",
        "IPY_MODEL_52a2349c05404bbab7f843dd1978e577"
       ],
       "layout": "IPY_MODEL_74caa436634a4a429f45e972aaba557e"
      }
     },
     "c784b1719dcd4d63ab8edb9f8115d4a1": {
      "model_module": "@jupyter-widgets/base",
      "model_module_version": "2.0.0",
      "model_name": "LayoutModel",
      "state": {}
     },
     "ca17ba3e0acb457da5b9a9bf945b83e5": {
      "model_module": "@jupyter-widgets/controls",
      "model_module_version": "2.0.0",
      "model_name": "ProgressStyleModel",
      "state": {
       "description_width": ""
      }
     },
     "cb0da4c0fbc144e9a07a8f09928963fd": {
      "model_module": "@jupyter-widgets/controls",
      "model_module_version": "2.0.0",
      "model_name": "HTMLStyleModel",
      "state": {
       "description_width": "",
       "font_size": null,
       "text_color": null
      }
     },
     "cce62d77c98d4fb18005b0d513a9fb74": {
      "model_module": "@jupyter-widgets/controls",
      "model_module_version": "2.0.0",
      "model_name": "ProgressStyleModel",
      "state": {
       "description_width": ""
      }
     },
     "ccefdaeae3a7420bb294c2cdfe20e1f9": {
      "model_module": "@jupyter-widgets/controls",
      "model_module_version": "2.0.0",
      "model_name": "HTMLModel",
      "state": {
       "layout": "IPY_MODEL_8a40b21df1d2459da0394f685ef0438f",
       "style": "IPY_MODEL_1d49d6d08df244b19c6ba7c588f33c42",
       "value": " 7/1575 [00:24&lt;1:01:47,  2.36s/it]"
      }
     },
     "cd3482e4a7ba48148f9014fe7aa0cb21": {
      "model_module": "@jupyter-widgets/base",
      "model_module_version": "2.0.0",
      "model_name": "LayoutModel",
      "state": {}
     },
     "ce157d5c44994cedb1acbf600bdc9a14": {
      "model_module": "@jupyter-widgets/controls",
      "model_module_version": "2.0.0",
      "model_name": "HTMLModel",
      "state": {
       "layout": "IPY_MODEL_6c0d9470fa92438698500016470ed58c",
       "style": "IPY_MODEL_0a40a6f7c0404998a1ce6490e2f57641",
       "value": "Movies from 2002:  22%"
      }
     },
     "d0e260bb7d8b4204854b87be48ea070f": {
      "model_module": "@jupyter-widgets/base",
      "model_module_version": "2.0.0",
      "model_name": "LayoutModel",
      "state": {}
     },
     "d2a205d930b84c87b8a4dafec3d71483": {
      "model_module": "@jupyter-widgets/controls",
      "model_module_version": "2.0.0",
      "model_name": "HBoxModel",
      "state": {
       "children": [
        "IPY_MODEL_5dda7980714e454282d2798f28a7794b",
        "IPY_MODEL_117832196f3748d0be0548f2e31f0440",
        "IPY_MODEL_ed571b949a6c4fbbad270c30d1e7e0e1"
       ],
       "layout": "IPY_MODEL_899b8761a71249e19e68417a1f64b647"
      }
     },
     "d4350ca5a7ba4391b5ba4bb75ed8f746": {
      "model_module": "@jupyter-widgets/controls",
      "model_module_version": "2.0.0",
      "model_name": "HTMLModel",
      "state": {
       "layout": "IPY_MODEL_39b274d52bad4c86b257f7de88d0b27c",
       "style": "IPY_MODEL_ab88af8900e94b69bc06643a35226fce",
       "value": " 230/1046 [08:33&lt;45:53,  3.37s/it]"
      }
     },
     "d4ce40f2e9424d5abdeb651ced190dd6": {
      "model_module": "@jupyter-widgets/controls",
      "model_module_version": "2.0.0",
      "model_name": "HTMLModel",
      "state": {
       "layout": "IPY_MODEL_0f16e9ee0b75447f818234bbddac4881",
       "style": "IPY_MODEL_70b174c8a6b549e6b071d3a3a929a262",
       "value": "YEARS:   0%"
      }
     },
     "d50df69d008a419380ebe367ce10ed4c": {
      "model_module": "@jupyter-widgets/controls",
      "model_module_version": "2.0.0",
      "model_name": "HTMLStyleModel",
      "state": {
       "description_width": "",
       "font_size": null,
       "text_color": null
      }
     },
     "d588b63db09242d4a73f511dc83d1b5a": {
      "model_module": "@jupyter-widgets/controls",
      "model_module_version": "2.0.0",
      "model_name": "HTMLStyleModel",
      "state": {
       "description_width": "",
       "font_size": null,
       "text_color": null
      }
     },
     "d6119422640a4e27ac5656fa3d29c02d": {
      "model_module": "@jupyter-widgets/controls",
      "model_module_version": "2.0.0",
      "model_name": "ProgressStyleModel",
      "state": {
       "description_width": ""
      }
     },
     "d73f773c5f15499ea327ad5739f4bbf1": {
      "model_module": "@jupyter-widgets/base",
      "model_module_version": "2.0.0",
      "model_name": "LayoutModel",
      "state": {}
     },
     "d894c981a17a4cdeacb1773c1d92360c": {
      "model_module": "@jupyter-widgets/controls",
      "model_module_version": "2.0.0",
      "model_name": "HTMLStyleModel",
      "state": {
       "description_width": "",
       "font_size": null,
       "text_color": null
      }
     },
     "d8d76289171a47c9b2eed6b6558b1cf1": {
      "model_module": "@jupyter-widgets/controls",
      "model_module_version": "2.0.0",
      "model_name": "HBoxModel",
      "state": {
       "children": [
        "IPY_MODEL_afbb8f26f0b34520ada44e8d37eda56d",
        "IPY_MODEL_5ba1081c15e848c9bba78d3ef39464b5",
        "IPY_MODEL_9f60a07af56545f9981ea60435e329cd"
       ],
       "layout": "IPY_MODEL_7fc5fe37043141fa90b0881e127e36f5"
      }
     },
     "d8e77a7944904aa9bb636e6bdc6eb835": {
      "model_module": "@jupyter-widgets/controls",
      "model_module_version": "2.0.0",
      "model_name": "HTMLModel",
      "state": {
       "layout": "IPY_MODEL_a48631ed306349029adb2bee06d12fe5",
       "style": "IPY_MODEL_5e3dd23392f74ec8a79d240f6e6b8d74",
       "value": "Movies from 2001:   3%"
      }
     },
     "d9f1ca4d7412451190954b1befe82a44": {
      "model_module": "@jupyter-widgets/controls",
      "model_module_version": "2.0.0",
      "model_name": "ProgressStyleModel",
      "state": {
       "description_width": ""
      }
     },
     "d9fefbaccd924be1977371967845c1c9": {
      "model_module": "@jupyter-widgets/base",
      "model_module_version": "2.0.0",
      "model_name": "LayoutModel",
      "state": {}
     },
     "dadc096c6ac44060a028577424a0bbc7": {
      "model_module": "@jupyter-widgets/controls",
      "model_module_version": "2.0.0",
      "model_name": "ProgressStyleModel",
      "state": {
       "description_width": ""
      }
     },
     "daedb545db764315826506c9daeb7be7": {
      "model_module": "@jupyter-widgets/base",
      "model_module_version": "2.0.0",
      "model_name": "LayoutModel",
      "state": {}
     },
     "daff685fbdcd487e89b22bd75c386a14": {
      "model_module": "@jupyter-widgets/controls",
      "model_module_version": "2.0.0",
      "model_name": "HBoxModel",
      "state": {
       "children": [
        "IPY_MODEL_0edca745462842c7a0fcdcdb64609ff4",
        "IPY_MODEL_e9561fcba26e42a9af9fe33a2bd6923e",
        "IPY_MODEL_80ebb66209594005aa083999dfb0a17c"
       ],
       "layout": "IPY_MODEL_1a498bde93104b839e29e7dd7f30393f"
      }
     },
     "dc17a594a43c4df6a3001ce5a2b656d5": {
      "model_module": "@jupyter-widgets/base",
      "model_module_version": "2.0.0",
      "model_name": "LayoutModel",
      "state": {}
     },
     "dcfe63b655e54761862944ae35a7f7b1": {
      "model_module": "@jupyter-widgets/controls",
      "model_module_version": "2.0.0",
      "model_name": "HTMLStyleModel",
      "state": {
       "description_width": "",
       "font_size": null,
       "text_color": null
      }
     },
     "e006115cd51a4ae7a68e910be3c66cce": {
      "model_module": "@jupyter-widgets/base",
      "model_module_version": "2.0.0",
      "model_name": "LayoutModel",
      "state": {}
     },
     "e519874de9ea42bd9fb788617bbed108": {
      "model_module": "@jupyter-widgets/base",
      "model_module_version": "2.0.0",
      "model_name": "LayoutModel",
      "state": {}
     },
     "e6846c3378884a56b14a748a713a26db": {
      "model_module": "@jupyter-widgets/controls",
      "model_module_version": "2.0.0",
      "model_name": "ProgressStyleModel",
      "state": {
       "description_width": ""
      }
     },
     "e7150b5588084f6eb03840c1084ae8d8": {
      "model_module": "@jupyter-widgets/base",
      "model_module_version": "2.0.0",
      "model_name": "LayoutModel",
      "state": {}
     },
     "e73b1c53834e4b5baae4ca3cb6048816": {
      "model_module": "@jupyter-widgets/base",
      "model_module_version": "2.0.0",
      "model_name": "LayoutModel",
      "state": {}
     },
     "e9561fcba26e42a9af9fe33a2bd6923e": {
      "model_module": "@jupyter-widgets/controls",
      "model_module_version": "2.0.0",
      "model_name": "FloatProgressModel",
      "state": {
       "bar_style": "danger",
       "layout": "IPY_MODEL_1326295f2fed489bb88417e231810fc7",
       "max": 1572,
       "style": "IPY_MODEL_d9f1ca4d7412451190954b1befe82a44",
       "value": 545
      }
     },
     "e980f25ec8fb49f8a3645f2e54a1ffb5": {
      "model_module": "@jupyter-widgets/controls",
      "model_module_version": "2.0.0",
      "model_name": "HTMLStyleModel",
      "state": {
       "description_width": "",
       "font_size": null,
       "text_color": null
      }
     },
     "e9dd9340675b4fbbb122f7be722cfde5": {
      "model_module": "@jupyter-widgets/controls",
      "model_module_version": "2.0.0",
      "model_name": "FloatProgressModel",
      "state": {
       "bar_style": "danger",
       "layout": "IPY_MODEL_3a81e7b2991445bda3b937fede8aeb52",
       "max": 1576,
       "style": "IPY_MODEL_c3864d1ed8a344259e36855e51b04e8e",
       "value": 771
      }
     },
     "ebf71964ea4b44eea316f04e2c2e3621": {
      "model_module": "@jupyter-widgets/controls",
      "model_module_version": "2.0.0",
      "model_name": "HTMLModel",
      "state": {
       "layout": "IPY_MODEL_1f26f9c5938f43f48b96596606236a65",
       "style": "IPY_MODEL_f9be5e80650d4999867cc2986557954b",
       "value": " 0/2 [00:00&lt;?, ?it/s]"
      }
     },
     "ec62e55a9f6840819b0d3850ebf4703a": {
      "model_module": "@jupyter-widgets/controls",
      "model_module_version": "2.0.0",
      "model_name": "FloatProgressModel",
      "state": {
       "bar_style": "danger",
       "layout": "IPY_MODEL_15ee130553e6447fbaae2fa29dc32ec4",
       "max": 2,
       "style": "IPY_MODEL_f35a6d5e37964b11adbb72f13631e2bc"
      }
     },
     "ec7308b08be542dc909dd3a9e098f15c": {
      "model_module": "@jupyter-widgets/controls",
      "model_module_version": "2.0.0",
      "model_name": "HTMLStyleModel",
      "state": {
       "description_width": "",
       "font_size": null,
       "text_color": null
      }
     },
     "ed571b949a6c4fbbad270c30d1e7e0e1": {
      "model_module": "@jupyter-widgets/controls",
      "model_module_version": "2.0.0",
      "model_name": "HTMLModel",
      "state": {
       "layout": "IPY_MODEL_02b3cc2f0441449bb5c5f763f1cbb0aa",
       "style": "IPY_MODEL_2f15e23bf9b8482ca38e081749b4c931",
       "value": " 1671/3862 [-1:54:16&lt;1:11:11,  1.95s/it]"
      }
     },
     "edb569866b9f41fbbe9ea99a411ec31a": {
      "model_module": "@jupyter-widgets/base",
      "model_module_version": "2.0.0",
      "model_name": "LayoutModel",
      "state": {}
     },
     "efd6e2a54b23491ca85601173186e5c7": {
      "model_module": "@jupyter-widgets/controls",
      "model_module_version": "2.0.0",
      "model_name": "FloatProgressModel",
      "state": {
       "bar_style": "danger",
       "layout": "IPY_MODEL_45294c10abec4366b2dcc40ef8727b07",
       "max": 2,
       "style": "IPY_MODEL_4c3559ddeecc485584a41d63a1410eba"
      }
     },
     "f15d083576a94303bec2a86576e3aeb4": {
      "model_module": "@jupyter-widgets/controls",
      "model_module_version": "2.0.0",
      "model_name": "ProgressStyleModel",
      "state": {
       "description_width": ""
      }
     },
     "f1700fa0071840c4a7f32b80d853a147": {
      "model_module": "@jupyter-widgets/controls",
      "model_module_version": "2.0.0",
      "model_name": "ProgressStyleModel",
      "state": {
       "description_width": ""
      }
     },
     "f1f9245baab147c680a2d3ee8e8c82e3": {
      "model_module": "@jupyter-widgets/controls",
      "model_module_version": "2.0.0",
      "model_name": "HBoxModel",
      "state": {
       "children": [
        "IPY_MODEL_bc9de6d99a80438e81b2e18651bb25e1",
        "IPY_MODEL_f9ddd3edee6043248d2bf60bf70e97c5",
        "IPY_MODEL_45b2bc4d37264db7b1e283d74f2113d7"
       ],
       "layout": "IPY_MODEL_d0e260bb7d8b4204854b87be48ea070f"
      }
     },
     "f2ed2931e73d4536a8e8ac77a9cc005c": {
      "model_module": "@jupyter-widgets/base",
      "model_module_version": "2.0.0",
      "model_name": "LayoutModel",
      "state": {}
     },
     "f35a6d5e37964b11adbb72f13631e2bc": {
      "model_module": "@jupyter-widgets/controls",
      "model_module_version": "2.0.0",
      "model_name": "ProgressStyleModel",
      "state": {
       "description_width": ""
      }
     },
     "f3ff7855f55a4c6faef345ccaf398a01": {
      "model_module": "@jupyter-widgets/base",
      "model_module_version": "2.0.0",
      "model_name": "LayoutModel",
      "state": {}
     },
     "f443db1d460248e789e608bcf3afbebc": {
      "model_module": "@jupyter-widgets/controls",
      "model_module_version": "2.0.0",
      "model_name": "FloatProgressModel",
      "state": {
       "bar_style": "success",
       "layout": "IPY_MODEL_75b9db01167444deb938f8146a94f99f",
       "max": 837,
       "style": "IPY_MODEL_23f297d537ab4c779db013db2b5eb10f",
       "value": 837
      }
     },
     "f480e8b5f55c4c41ae9cc17c8e42c550": {
      "model_module": "@jupyter-widgets/base",
      "model_module_version": "2.0.0",
      "model_name": "LayoutModel",
      "state": {}
     },
     "f56f81a99c584420861ae8c4420645fd": {
      "model_module": "@jupyter-widgets/controls",
      "model_module_version": "2.0.0",
      "model_name": "HTMLStyleModel",
      "state": {
       "description_width": "",
       "font_size": null,
       "text_color": null
      }
     },
     "f5f9dd2699264da29a56e563152d76d2": {
      "model_module": "@jupyter-widgets/controls",
      "model_module_version": "2.0.0",
      "model_name": "HTMLModel",
      "state": {
       "layout": "IPY_MODEL_c3a6f29aae204ddc94a52fc1dafad902",
       "style": "IPY_MODEL_c0e3ee58c47a4dc39a9458fd5078a1bc",
       "value": " 0/2 [00:27&lt;?, ?it/s]"
      }
     },
     "f6728be406354839af4fccf6a49b5356": {
      "model_module": "@jupyter-widgets/base",
      "model_module_version": "2.0.0",
      "model_name": "LayoutModel",
      "state": {}
     },
     "f6e113b032824133853720a476de9a53": {
      "model_module": "@jupyter-widgets/base",
      "model_module_version": "2.0.0",
      "model_name": "LayoutModel",
      "state": {}
     },
     "f7087c272d34458e8897b962e564c74d": {
      "model_module": "@jupyter-widgets/controls",
      "model_module_version": "2.0.0",
      "model_name": "HBoxModel",
      "state": {
       "children": [
        "IPY_MODEL_04c7f72682544160be294bff82b6f53d",
        "IPY_MODEL_a9578a9d4f1f4ef0a9334a0d6a19a646",
        "IPY_MODEL_4505d46348c549f4bda0840fcac2a0ab"
       ],
       "layout": "IPY_MODEL_1b50012ec0a24118b83384fceb1d0a9e"
      }
     },
     "f7c803f8e6cd41e9a522d1c10583008d": {
      "model_module": "@jupyter-widgets/controls",
      "model_module_version": "2.0.0",
      "model_name": "HBoxModel",
      "state": {
       "children": [
        "IPY_MODEL_8066e6be1ab2400aa4d909dce4aa7db4",
        "IPY_MODEL_a2f3e8fdd6b8431583ba1a688f10cc52",
        "IPY_MODEL_acbc3b69608645a9932e2ba7156ecbc6"
       ],
       "layout": "IPY_MODEL_a6f8d88a04e848869f65d8626f3b05f4"
      }
     },
     "f81462ac549747c99ed23306fb571fa2": {
      "model_module": "@jupyter-widgets/controls",
      "model_module_version": "2.0.0",
      "model_name": "HTMLModel",
      "state": {
       "layout": "IPY_MODEL_ff233d8ac0d14ed7a74437712a944dfd",
       "style": "IPY_MODEL_b82e09960e9349f79f2abb5c5ee0f6d4",
       "value": " 771/1576 [-1:28:09&lt;1:22:08,  6.12s/it]"
      }
     },
     "f95f28d240354513840987e4895ee36c": {
      "model_module": "@jupyter-widgets/base",
      "model_module_version": "2.0.0",
      "model_name": "LayoutModel",
      "state": {}
     },
     "f98ae93a8a0a4691b5b1ba16f3bb65a3": {
      "model_module": "@jupyter-widgets/controls",
      "model_module_version": "2.0.0",
      "model_name": "FloatProgressModel",
      "state": {
       "bar_style": "danger",
       "layout": "IPY_MODEL_b5326c2819664f7585d9687381cd0cb2",
       "max": 3862,
       "style": "IPY_MODEL_230182aac3bc4c9996aa48756afccb6f",
       "value": 109
      }
     },
     "f9be5e80650d4999867cc2986557954b": {
      "model_module": "@jupyter-widgets/controls",
      "model_module_version": "2.0.0",
      "model_name": "HTMLStyleModel",
      "state": {
       "description_width": "",
       "font_size": null,
       "text_color": null
      }
     },
     "f9ddd3edee6043248d2bf60bf70e97c5": {
      "model_module": "@jupyter-widgets/controls",
      "model_module_version": "2.0.0",
      "model_name": "FloatProgressModel",
      "state": {
       "bar_style": "danger",
       "layout": "IPY_MODEL_60c0cb34424a474f8437176b11baa6f2",
       "max": 2,
       "style": "IPY_MODEL_0cdc21547a324ff5be197a98bef0bcfe",
       "value": 1
      }
     },
     "fac37e3432184fab9947b04a21ec0ea6": {
      "model_module": "@jupyter-widgets/controls",
      "model_module_version": "2.0.0",
      "model_name": "HTMLModel",
      "state": {
       "layout": "IPY_MODEL_57a12a9b56a34bc3b253f0a6ba12c8bf",
       "style": "IPY_MODEL_40d466cc07644ebd917dac5b0529b96a",
       "value": "YEARS:   0%"
      }
     },
     "fb14799ee6b2407d896de1b7fded2e28": {
      "model_module": "@jupyter-widgets/base",
      "model_module_version": "2.0.0",
      "model_name": "LayoutModel",
      "state": {}
     },
     "fdf5e9f347dd4d538552a0fbe6aeb2bf": {
      "model_module": "@jupyter-widgets/controls",
      "model_module_version": "2.0.0",
      "model_name": "HTMLModel",
      "state": {
       "layout": "IPY_MODEL_bb27dff014b7475cbacb66165cad4925",
       "style": "IPY_MODEL_748b34c292b5448f94279ce6941a347d",
       "value": " 0/2 [03:09&lt;?, ?it/s]"
      }
     },
     "ff233d8ac0d14ed7a74437712a944dfd": {
      "model_module": "@jupyter-widgets/base",
      "model_module_version": "2.0.0",
      "model_name": "LayoutModel",
      "state": {}
     }
    },
    "version_major": 2,
    "version_minor": 0
   }
  }
 },
 "nbformat": 4,
 "nbformat_minor": 5
}
